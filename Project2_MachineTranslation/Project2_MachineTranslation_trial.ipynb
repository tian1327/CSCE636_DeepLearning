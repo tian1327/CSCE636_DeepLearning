{
  "nbformat": 4,
  "nbformat_minor": 0,
  "metadata": {
    "colab": {
      "name": "Copy of TianLiu_525004380_Project2_MachineTranslation.ipynb",
      "provenance": [],
      "collapsed_sections": [],
      "toc_visible": true
    },
    "kernelspec": {
      "name": "python3",
      "display_name": "Python 3"
    },
    "language_info": {
      "name": "python"
    },
    "accelerator": "GPU"
  },
  "cells": [
    {
      "cell_type": "markdown",
      "source": [
        "### Solution Explanation:"
      ],
      "metadata": {
        "id": "as-LqlwFjblf"
      }
    },
    {
      "cell_type": "code",
      "execution_count": 1,
      "metadata": {
        "colab": {
          "base_uri": "https://localhost:8080/"
        },
        "id": "XzHKLaH_pBtQ",
        "outputId": "ff7ead8f-20f4-4fef-82b5-d9db179f9ece"
      },
      "outputs": [
        {
          "output_type": "stream",
          "name": "stdout",
          "text": [
            "Tue Apr 26 00:11:43 2022       \n",
            "+-----------------------------------------------------------------------------+\n",
            "| NVIDIA-SMI 460.32.03    Driver Version: 460.32.03    CUDA Version: 11.2     |\n",
            "|-------------------------------+----------------------+----------------------+\n",
            "| GPU  Name        Persistence-M| Bus-Id        Disp.A | Volatile Uncorr. ECC |\n",
            "| Fan  Temp  Perf  Pwr:Usage/Cap|         Memory-Usage | GPU-Util  Compute M. |\n",
            "|                               |                      |               MIG M. |\n",
            "|===============================+======================+======================|\n",
            "|   0  Tesla T4            Off  | 00000000:00:04.0 Off |                    0 |\n",
            "| N/A   35C    P8     9W /  70W |      0MiB / 15109MiB |      0%      Default |\n",
            "|                               |                      |                  N/A |\n",
            "+-------------------------------+----------------------+----------------------+\n",
            "                                                                               \n",
            "+-----------------------------------------------------------------------------+\n",
            "| Processes:                                                                  |\n",
            "|  GPU   GI   CI        PID   Type   Process name                  GPU Memory |\n",
            "|        ID   ID                                                   Usage      |\n",
            "|=============================================================================|\n",
            "|  No running processes found                                                 |\n",
            "+-----------------------------------------------------------------------------+\n"
          ]
        }
      ],
      "source": [
        "!nvidia-smi"
      ]
    },
    {
      "cell_type": "code",
      "source": [
        "from google.colab import drive\n",
        "drive.mount('/content/drive')"
      ],
      "metadata": {
        "colab": {
          "base_uri": "https://localhost:8080/"
        },
        "id": "LPhqRD_spRYr",
        "outputId": "8cfadc92-078c-4b6b-b756-b38c65898bc0"
      },
      "execution_count": 2,
      "outputs": [
        {
          "output_type": "stream",
          "name": "stdout",
          "text": [
            "Mounted at /content/drive\n"
          ]
        }
      ]
    },
    {
      "cell_type": "code",
      "source": [
        "%cd 'drive/MyDrive/Colab Notebooks/CSCE636_DeepLearning/Project2_MachineTranslation/'"
      ],
      "metadata": {
        "colab": {
          "base_uri": "https://localhost:8080/"
        },
        "id": "K0PiivhHpTkK",
        "outputId": "76a094cb-5165-440c-cf34-f9a92ecbdadf"
      },
      "execution_count": 3,
      "outputs": [
        {
          "output_type": "stream",
          "name": "stdout",
          "text": [
            "/content/drive/MyDrive/Colab Notebooks/CSCE636_DeepLearning/Project2_MachineTranslation\n"
          ]
        }
      ]
    },
    {
      "cell_type": "markdown",
      "source": [
        "### Load Training Data"
      ],
      "metadata": {
        "id": "n1ChsCdcpaCN"
      }
    },
    {
      "cell_type": "code",
      "source": [
        "import pickle\n",
        "import numpy as np\n",
        "\n",
        "train_input = pickle.load(open('DS_5_train_input', 'rb'))\n",
        "train_output = pickle.load(open('DS_5_train_output', 'rb'))\n",
        "\n",
        "# check dimension\n",
        "print(type(train_input), type(train_input[0]), len(train_input))\n",
        "print(type(train_output), type(train_output[0]), len(train_output))\n",
        "\n",
        "# get the max num of words in train input and output to determine sequence_length\n",
        "# get the max length of a word to determine vocabulary size\n",
        "\n",
        "max_ct = 0\n",
        "max_len = 0\n",
        "vocab_set = set()\n",
        "for text in train_input:\n",
        "  ct = len(text.split())\n",
        "  for word in text.split():\n",
        "    vocab_set.add(word)\n",
        "    length = len(word)\n",
        "    max_len = max(max_len, length)\n",
        "  max_ct = max(max_ct, ct)\n",
        "\n",
        "print('vocab_size in train_input:', len(vocab_set))\n",
        "print('max num of words in train_input:', max_ct)\n",
        "print('max length of a word in train_input:', max_len)\n",
        "print()\n",
        "\n",
        "max_ct = 0\n",
        "max_len = 0\n",
        "vocab_set = set()\n",
        "for text in train_output:\n",
        "  ct = len(text.split())\n",
        "  for word in text.split():\n",
        "    vocab_set.add(word)\n",
        "    length = len(word)\n",
        "    max_len = max(max_len, length)  \n",
        "  max_ct = max(max_ct, ct)\n",
        "\n",
        "print('vocab_size in train_output:', len(vocab_set))\n",
        "print('max num of words in train_output:', max_ct)\n",
        "print('max length of a word in train_output:', max_len)"
      ],
      "metadata": {
        "colab": {
          "base_uri": "https://localhost:8080/"
        },
        "id": "sblPcAcxprZp",
        "outputId": "595ac57f-e79c-47d5-a537-9c36e41a8929"
      },
      "execution_count": 4,
      "outputs": [
        {
          "output_type": "stream",
          "name": "stdout",
          "text": [
            "<class 'list'> <class 'str'> 5000\n",
            "<class 'list'> <class 'str'> 5000\n",
            "vocab_size in train_input: 11\n",
            "max num of words in train_input: 64\n",
            "max length of a word in train_input: 1\n",
            "\n",
            "vocab_size in train_output: 34\n",
            "max num of words in train_output: 95\n",
            "max length of a word in train_output: 2\n"
          ]
        }
      ]
    },
    {
      "cell_type": "markdown",
      "source": [
        "#### Preprocess Data"
      ],
      "metadata": {
        "id": "reBhJBsFGamk"
      }
    },
    {
      "cell_type": "code",
      "source": [
        "# insert [start] and [end] to the output language\n",
        "\n",
        "text_pairs = []\n",
        "for i in range(len(train_input)):\n",
        "  input = train_input[i]\n",
        "  output = \"[start] \" + train_output[i].strip() + \" [end]\" # strip off the whitespaces\n",
        "  text_pairs.append((input, output))"
      ],
      "metadata": {
        "id": "E_RsBPj-IiJE"
      },
      "execution_count": 5,
      "outputs": []
    },
    {
      "cell_type": "code",
      "source": [
        "# check sample text pairs\n",
        "from numpy import random\n",
        "\n",
        "num_sample = 10\n",
        "idx = [random.randint(0, len(train_input)) for i in range(num_sample)]\n",
        "\n",
        "for i in idx:\n",
        "  print(\"idx =\", i)\n",
        "  print(len(text_pairs[i][0].split()), text_pairs[i][0])\n",
        "  print(\"->\")\n",
        "  print(len(text_pairs[i][1].split())-2, text_pairs[i][1])\n",
        "  print()"
      ],
      "metadata": {
        "colab": {
          "base_uri": "https://localhost:8080/"
        },
        "id": "pOUwxQMb__zQ",
        "outputId": "3a02af6a-131c-427c-fc35-4f127820c9ce"
      },
      "execution_count": 6,
      "outputs": [
        {
          "output_type": "stream",
          "name": "stdout",
          "text": [
            "idx = 916\n",
            "46 a f b f a j a e c d c d a f a k b e a d b g a k c g a k a f b d c d c f a f c e a f b e c g \n",
            "->\n",
            "68 [start] b f c d a e e c d b e b g c g b d c d a f k l c f a k m ed a k j ee a d i ef a k h eg c e b e c g a f ej ek a f ei el a f eh em a j f g fd a f d fe [end]\n",
            "\n",
            "idx = 3448\n",
            "32 a i a j a d b f a e a d a f c d b e b d b e b f a d b e c d b g \n",
            "->\n",
            "47 [start] b f c d b e a f e f b d a d g h a e i a d d j b e b f a j k l m b e c d a d ee ef b g a i ed eg eh [end]\n",
            "\n",
            "idx = 322\n",
            "58 a g a j b d a f b d c e c f a e a d a g a d b e b f a h c g a k a d a f b g a f a g b g c d a e b e c f c g b f b d \n",
            "->\n",
            "86 [start] b d b d c e a f e f c f a j d g h b e b f a d j k c g b g b g c d a g ee ef b e a e eh a f eg ei a f ed ej c f a d ek el c g a k em fd b f a h m fe ff a g l fg b d a d fh fi a e fj a g i fk [end]\n",
            "\n",
            "idx = 717\n",
            "40 a h c d a d a j c e c f c g a f c d a g a k a e c d a e a g c g a e c f b g c e \n",
            "->\n",
            "59 [start] c d c e c f c g a j e f g c d c d a e j c g c f a e m a g l ed a e ee a k k ef b g a g eg eh a f i ei a d h ej c e a h d ek el [end]\n",
            "\n",
            "idx = 4901\n",
            "32 a j b g c e a f a k c g c g a f a d b d a e a h c f c f b f b e \n",
            "->\n",
            "47 [start] b g c e c g c g a k f g b d c f c f b f a h j k l a e m a d i ed b e a f ee ef a f h eg a j d e eh [end]\n",
            "\n",
            "idx = 773\n",
            "40 a i a j b d a f a e a e a e b d c f a i b g a g c f b e a j b d c d b e b e c d \n",
            "->\n",
            "59 [start] b d b d a e e a e f a e g c f a f h i b g c f b e a g l m b d c d b e a j ee ef eg a i k ed eh a j d j ei b e c d a i ej ek el [end]\n",
            "\n",
            "idx = 1862\n",
            "34 a h b f a h b f b e a j c e c e a d a g a k c e b f c g c f a e b g \n",
            "->\n",
            "50 [start] b f b f b e c e c e c e b f a k i j c g a g k l c f a d m ed a j g h ee a h e f ef b g a e eh a h d eg ei [end]\n",
            "\n",
            "idx = 4486\n",
            "52 a f c f a f c e a k c f a e a e a j a k b d b f a h a e b d a g c d c d a d b d a f a f b g c g b e c g \n",
            "->\n",
            "77 [start] c f c e c f b d b f a k g h b d a e j c d c d a g l m b d b g c g a f ef eg b e a f eh ei a d ee ej a h k ed ek c g a j i el em a e fd a e fe a k f ff a f e fg a f d fh [end]\n",
            "\n",
            "idx = 2992\n",
            "38 a g a f a k b g b f a d a h a g b g c d c g c d c g a f a d b e a e c f c d \n",
            "->\n",
            "56 [start] b g b f a k d e b g c d a g g h c g c d a h i j k c g a d l m a f f ed b e c f a e eg a d ef eh c d a f ei ej a g ee ek [end]\n",
            "\n",
            "idx = 2323\n",
            "40 a j b f a d a k b f a j c e a i c f b g a d b f a e c g b f a e b f a g c f b e \n",
            "->\n",
            "59 [start] b f b f c e c f b g b f c g a e j a d i k a i g h l b f a j f m ed a k e ee b f a e eg a d ef eh c f b e a g ej ek a j d ei el [end]\n",
            "\n"
          ]
        }
      ]
    },
    {
      "cell_type": "markdown",
      "source": [
        "#### Split training data into train and val set"
      ],
      "metadata": {
        "id": "wATDyPV2BkZV"
      }
    },
    {
      "cell_type": "code",
      "source": [
        "import random\n",
        "\n",
        "random.shuffle(text_pairs)\n",
        "num_val_samples = int(0.15 * len(text_pairs))\n",
        "num_train_samples = len(text_pairs) - num_val_samples\n",
        "\n",
        "train_pairs = text_pairs[:num_train_samples]\n",
        "val_pairs = text_pairs[num_train_samples:]\n",
        "\n",
        "print(len(train_pairs))\n",
        "print(len(val_pairs))"
      ],
      "metadata": {
        "colab": {
          "base_uri": "https://localhost:8080/"
        },
        "id": "tmpPueY1BqxR",
        "outputId": "224bb9eb-0877-4f5c-a2cd-6818beac2688"
      },
      "execution_count": 7,
      "outputs": [
        {
          "output_type": "stream",
          "name": "stdout",
          "text": [
            "4250\n",
            "750\n"
          ]
        }
      ]
    },
    {
      "cell_type": "code",
      "source": [
        "# save text_pairs\n",
        "import pickle\n",
        "\n",
        "with open('text_pairs', \"wb\") as out_file:\n",
        "  pickle.dump(text_pairs, out_file)\n",
        "\n",
        "# with open('train_pairs', \"wb\") as out_file:\n",
        "#   pickle.dump(train_pairs, out_file)\n",
        "\n",
        "# with open('val_pairs', \"wb\") as out_file:\n",
        "#   pickle.dump(val_pairs, out_file)"
      ],
      "metadata": {
        "id": "AZ8e3QIMVhYV"
      },
      "execution_count": 8,
      "outputs": []
    },
    {
      "cell_type": "markdown",
      "source": [
        "#### Vectorizing the input and output text pairs"
      ],
      "metadata": {
        "id": "MNy0pg8nNIKj"
      }
    },
    {
      "cell_type": "code",
      "source": [
        "import tensorflow as tf\n",
        "from tensorflow.keras import layers\n",
        "import string\n",
        "import re\n",
        "\n",
        "strip_chars = string.punctuation\n",
        "# print(type(strip_chars))\n",
        "\n",
        "strip_chars = strip_chars.replace(\"[\", \"\") # will keep [start] and [end] as it is to separate the marker from actual word start and end\n",
        "strip_chars = strip_chars.replace(\"]\", \"\")\n",
        "\n",
        "def custom_standardization(input_string):\n",
        "    lowercase = tf.strings.lower(input_string)\n",
        "    return tf.strings.regex_replace(\n",
        "        lowercase, f\"[{re.escape(strip_chars)}]\", \"\") # replace punctuation characters with the empty string\n",
        "\n",
        "input_vocab_size = 100\n",
        "output_vocab_size = 100\n",
        "\n",
        "sequence_length = 100 # max seq length seen in train data is 95\n",
        "\n",
        "source_vectorization = layers.TextVectorization(\n",
        "    max_tokens=input_vocab_size,\n",
        "    output_mode=\"int\",\n",
        "    output_sequence_length=sequence_length,\n",
        ")\n",
        "\n",
        "target_vectorization = layers.TextVectorization(\n",
        "    max_tokens=output_vocab_size,\n",
        "    output_mode=\"int\",\n",
        "    output_sequence_length=sequence_length + 1,\n",
        "    standardize=custom_standardization,\n",
        ")\n",
        "\n",
        "train_input_texts = [pair[0] for pair in text_pairs] # here use all given training data\n",
        "train_output_texts = [pair[1] for pair in text_pairs]\n",
        "\n",
        "source_vectorization.adapt(train_input_texts)\n",
        "target_vectorization.adapt(train_output_texts)\n",
        "\n",
        "print(len(source_vectorization.get_vocabulary()))\n",
        "print(len(target_vectorization.get_vocabulary()))"
      ],
      "metadata": {
        "colab": {
          "base_uri": "https://localhost:8080/"
        },
        "id": "jS53HEPsNDCd",
        "outputId": "d2f82668-b137-4a08-e034-69c0645a8640"
      },
      "execution_count": 9,
      "outputs": [
        {
          "output_type": "stream",
          "name": "stdout",
          "text": [
            "13\n",
            "38\n"
          ]
        }
      ]
    },
    {
      "cell_type": "markdown",
      "source": [
        "#### Preparing datasets for the translation task"
      ],
      "metadata": {
        "id": "Y55NKNKVYRFU"
      }
    },
    {
      "cell_type": "code",
      "source": [
        "batch_size = 64\n",
        "\n",
        "def format_dataset(input, output):\n",
        "    input = source_vectorization(input)\n",
        "    output = target_vectorization(output)\n",
        "    return ({\n",
        "        \"input\": input,\n",
        "        \"output\": output[:, :-1],\n",
        "      }, output[:, 1:])\n",
        "\n",
        "def make_dataset(pairs):\n",
        "    eng_texts, spa_texts = zip(*pairs)\n",
        "    eng_texts = list(eng_texts)\n",
        "    spa_texts = list(spa_texts)\n",
        "    dataset = tf.data.Dataset.from_tensor_slices((eng_texts, spa_texts))\n",
        "    dataset = dataset.batch(batch_size)\n",
        "    dataset = dataset.map(format_dataset, num_parallel_calls=4)\n",
        "    return dataset.shuffle(2048).prefetch(16).cache()\n",
        "\n",
        "train_ds = make_dataset(train_pairs)\n",
        "val_ds = make_dataset(val_pairs)\n",
        "\n",
        "print(type(val_ds))\n",
        "\n",
        "for inputs, targets in train_ds.take(1):\n",
        "    print(f\"inputs['input'].shape: {inputs['input'].shape}\")\n",
        "    print(f\"inputs['output'].shape: {inputs['output'].shape}\")\n",
        "    print(f\"targets.shape: {targets.shape}\")"
      ],
      "metadata": {
        "colab": {
          "base_uri": "https://localhost:8080/"
        },
        "id": "dVQDsTO8Ybe2",
        "outputId": "96f20867-7013-4bed-a5d4-671df8bea22e"
      },
      "execution_count": 10,
      "outputs": [
        {
          "output_type": "stream",
          "name": "stdout",
          "text": [
            "<class 'tensorflow.python.data.ops.dataset_ops.CacheDataset'>\n",
            "inputs['input'].shape: (64, 100)\n",
            "inputs['output'].shape: (64, 100)\n",
            "targets.shape: (64, 100)\n"
          ]
        }
      ]
    },
    {
      "cell_type": "markdown",
      "source": [
        "### Use Transformer for Machine Translation"
      ],
      "metadata": {
        "id": "84Z2u9wTZjlA"
      }
    },
    {
      "cell_type": "markdown",
      "source": [
        "#### Transformer Encoder"
      ],
      "metadata": {
        "id": "pHMT4BTwdTyp"
      }
    },
    {
      "cell_type": "code",
      "source": [
        "import tensorflow as tf\n",
        "from tensorflow import keras\n",
        "from tensorflow.keras import layers\n",
        "\n",
        "class TransformerEncoder(layers.Layer):\n",
        "    def __init__(self, embed_dim, dense_dim, num_heads, **kwargs):\n",
        "        super().__init__(**kwargs)\n",
        "        self.embed_dim = embed_dim\n",
        "        self.dense_dim = dense_dim\n",
        "        self.num_heads = num_heads\n",
        "        self.attention = layers.MultiHeadAttention(\n",
        "            num_heads=num_heads, key_dim=embed_dim)\n",
        "        self.dense_proj = keras.Sequential(\n",
        "            [layers.Dense(dense_dim, activation=\"relu\"),\n",
        "             layers.Dense(embed_dim),]\n",
        "        )\n",
        "        self.layernorm_1 = layers.LayerNormalization()\n",
        "        self.layernorm_2 = layers.LayerNormalization()\n",
        "\n",
        "    def call(self, inputs, mask=None):\n",
        "        if mask is not None:\n",
        "            mask = mask[:, tf.newaxis, :]\n",
        "        attention_output = self.attention(\n",
        "            inputs, inputs, attention_mask=mask)\n",
        "        proj_input = self.layernorm_1(inputs + attention_output)\n",
        "        proj_output = self.dense_proj(proj_input)\n",
        "        return self.layernorm_2(proj_input + proj_output)\n",
        "\n",
        "    def get_config(self):\n",
        "        config = super().get_config()\n",
        "        config.update({\n",
        "            \"embed_dim\": self.embed_dim,\n",
        "            \"num_heads\": self.num_heads,\n",
        "            \"dense_dim\": self.dense_dim,\n",
        "        })\n",
        "        return config"
      ],
      "metadata": {
        "id": "BE-hu6tuZp_e"
      },
      "execution_count": 11,
      "outputs": []
    },
    {
      "cell_type": "markdown",
      "source": [
        "#### Using positional encoding to re-inject order information"
      ],
      "metadata": {
        "id": "uX8s8mK6dlWr"
      }
    },
    {
      "cell_type": "code",
      "source": [
        "class PositionalEmbedding(layers.Layer):\n",
        "    def __init__(self, sequence_length, input_dim, output_dim, **kwargs):\n",
        "        super().__init__(**kwargs)\n",
        "        self.token_embeddings = layers.Embedding(\n",
        "            input_dim=input_dim, output_dim=output_dim)\n",
        "        self.position_embeddings = layers.Embedding(\n",
        "            input_dim=sequence_length, output_dim=output_dim)\n",
        "        self.sequence_length = sequence_length\n",
        "        self.input_dim = input_dim\n",
        "        self.output_dim = output_dim\n",
        "\n",
        "    def call(self, inputs):\n",
        "        length = tf.shape(inputs)[-1]\n",
        "        positions = tf.range(start=0, limit=length, delta=1)\n",
        "        embedded_tokens = self.token_embeddings(inputs)\n",
        "        embedded_positions = self.position_embeddings(positions)\n",
        "        return embedded_tokens + embedded_positions # add up the word embedding and position embedding\n",
        "\n",
        "    def compute_mask(self, inputs, mask=None):\n",
        "        return tf.math.not_equal(inputs, 0)\n",
        "\n",
        "    def get_config(self):\n",
        "        config = super().get_config()\n",
        "        config.update({\n",
        "            \"output_dim\": self.output_dim,\n",
        "            \"sequence_length\": self.sequence_length,\n",
        "            \"input_dim\": self.input_dim,\n",
        "        })\n",
        "        return config"
      ],
      "metadata": {
        "id": "watZVDGUdnZf"
      },
      "execution_count": 12,
      "outputs": []
    },
    {
      "cell_type": "markdown",
      "source": [
        "#### Transformer Decoder"
      ],
      "metadata": {
        "id": "6K8UQKA0eUkI"
      }
    },
    {
      "cell_type": "code",
      "source": [
        "class TransformerDecoder(layers.Layer):\n",
        "    def __init__(self, embed_dim, dense_dim, num_heads, **kwargs):\n",
        "        super().__init__(**kwargs)\n",
        "        self.embed_dim = embed_dim\n",
        "        self.dense_dim = dense_dim\n",
        "        self.num_heads = num_heads\n",
        "        self.attention_1 = layers.MultiHeadAttention(\n",
        "            num_heads=num_heads, key_dim=embed_dim)\n",
        "        self.attention_2 = layers.MultiHeadAttention(\n",
        "            num_heads=num_heads, key_dim=embed_dim)\n",
        "        self.dense_proj = keras.Sequential(\n",
        "            [layers.Dense(dense_dim, activation=\"relu\"),\n",
        "             layers.Dense(embed_dim),]\n",
        "        )\n",
        "        self.layernorm_1 = layers.LayerNormalization()\n",
        "        self.layernorm_2 = layers.LayerNormalization()\n",
        "        self.layernorm_3 = layers.LayerNormalization()\n",
        "        self.supports_masking = True\n",
        "\n",
        "    def get_config(self):\n",
        "        config = super().get_config()\n",
        "        config.update({\n",
        "            \"embed_dim\": self.embed_dim,\n",
        "            \"num_heads\": self.num_heads,\n",
        "            \"dense_dim\": self.dense_dim,\n",
        "        })\n",
        "        return config\n",
        "\n",
        "    def get_causal_attention_mask(self, inputs):\n",
        "        input_shape = tf.shape(inputs)\n",
        "        batch_size, sequence_length = input_shape[0], input_shape[1]\n",
        "        i = tf.range(sequence_length)[:, tf.newaxis]\n",
        "        j = tf.range(sequence_length)\n",
        "        mask = tf.cast(i >= j, dtype=\"int32\")\n",
        "        mask = tf.reshape(mask, (1, input_shape[1], input_shape[1]))\n",
        "        mult = tf.concat(\n",
        "            [tf.expand_dims(batch_size, -1),\n",
        "             tf.constant([1, 1], dtype=tf.int32)], axis=0)\n",
        "        return tf.tile(mask, mult)\n",
        "\n",
        "    def call(self, inputs, encoder_outputs, mask=None):\n",
        "        causal_mask = self.get_causal_attention_mask(inputs)\n",
        "        if mask is not None:\n",
        "            padding_mask = tf.cast(\n",
        "                mask[:, tf.newaxis, :], dtype=\"int32\")\n",
        "            padding_mask = tf.minimum(padding_mask, causal_mask)\n",
        "        attention_output_1 = self.attention_1(\n",
        "            query=inputs,\n",
        "            value=inputs,\n",
        "            key=inputs,\n",
        "            attention_mask=causal_mask)\n",
        "        attention_output_1 = self.layernorm_1(inputs + attention_output_1)\n",
        "        attention_output_2 = self.attention_2(\n",
        "            query=attention_output_1,\n",
        "            value=encoder_outputs,\n",
        "            key=encoder_outputs,\n",
        "            attention_mask=padding_mask,\n",
        "        )\n",
        "        attention_output_2 = self.layernorm_2(\n",
        "            attention_output_1 + attention_output_2)\n",
        "        proj_output = self.dense_proj(attention_output_2)\n",
        "        return self.layernorm_3(attention_output_2 + proj_output)"
      ],
      "metadata": {
        "id": "azE53LxieT5_"
      },
      "execution_count": 13,
      "outputs": []
    },
    {
      "cell_type": "markdown",
      "source": [
        "#### Text Decoder"
      ],
      "metadata": {
        "id": "RDl6W2lfV_4T"
      }
    },
    {
      "cell_type": "code",
      "source": [
        "import numpy as np\n",
        "\n",
        "spa_vocab = target_vectorization.get_vocabulary()\n",
        "spa_index_lookup = dict(zip(range(len(spa_vocab)), spa_vocab))\n",
        "max_decoded_sentence_length = 100\n",
        "\n",
        "def strip_markers(sentence):\n",
        "  # strip the leading [start] and tailing [end] if existing\n",
        "\n",
        "  words = sentence.split()\n",
        "  if words[0] == \"[start]\":\n",
        "    clean_words = words[1:]\n",
        "  else:\n",
        "    clean_words = words\n",
        "  \n",
        "  if clean_words[-1] == \"[end]\":\n",
        "    clean_words = clean_words[:-1]\n",
        "  else:\n",
        "    clean_words = clean_words\n",
        "\n",
        "  clean_text = \" \".join(clean_words)\n",
        "  return clean_text\n",
        "\n",
        "def decode_sequence(input_sentence):\n",
        "    tokenized_input_sentence = source_vectorization([input_sentence])\n",
        "    decoded_sentence = \"[start]\"\n",
        "    for i in range(max_decoded_sentence_length):\n",
        "        tokenized_target_sentence = target_vectorization(\n",
        "            [decoded_sentence])[:, :-1]\n",
        "        predictions = transformer(\n",
        "            [tokenized_input_sentence, tokenized_target_sentence])\n",
        "        sampled_token_index = np.argmax(predictions[0, i, :])\n",
        "        sampled_token = spa_index_lookup[sampled_token_index]\n",
        "        decoded_sentence += \" \" + sampled_token\n",
        "        if sampled_token == \"[end]\":\n",
        "            break\n",
        "\n",
        "    return decoded_sentence"
      ],
      "metadata": {
        "id": "SJVrO1r9V-no"
      },
      "execution_count": 14,
      "outputs": []
    },
    {
      "cell_type": "markdown",
      "source": [
        "#### End-to-end Transformer"
      ],
      "metadata": {
        "id": "_AUcc_U4el7l"
      }
    },
    {
      "cell_type": "code",
      "source": [
        "embed_dim = 256\n",
        "dense_dim = 1024\n",
        "num_heads = 8\n",
        "\n",
        "encoder_inputs = keras.Input(shape=(None,), dtype=\"int64\", name=\"input\")\n",
        "x = PositionalEmbedding(sequence_length, input_vocab_size, embed_dim)(encoder_inputs)\n",
        "# x = TransformerEncoder(embed_dim, dense_dim, num_heads)(x) # stack up transformerencoder layers\n",
        "# x = TransformerEncoder(embed_dim, dense_dim, num_heads)(x)\n",
        "# x = TransformerEncoder(embed_dim, dense_dim, num_heads)(x)\n",
        "encoder_outputs = TransformerEncoder(embed_dim, dense_dim, num_heads)(x)\n",
        "\n",
        "decoder_inputs = keras.Input(shape=(None,), dtype=\"int64\", name=\"output\")\n",
        "x = PositionalEmbedding(sequence_length, input_vocab_size, embed_dim)(decoder_inputs)\n",
        "# x = TransformerDecoder(embed_dim, dense_dim, num_heads)(x, encoder_outputs)\n",
        "x = TransformerDecoder(embed_dim, dense_dim, num_heads)(x, encoder_outputs)\n",
        "x = layers.Dropout(0.5)(x)\n",
        "decoder_outputs = layers.Dense(output_vocab_size, activation=\"softmax\")(x)\n",
        "\n",
        "transformer = keras.Model([encoder_inputs, decoder_inputs], decoder_outputs)"
      ],
      "metadata": {
        "id": "ePRujmOGeb0K"
      },
      "execution_count": 15,
      "outputs": []
    },
    {
      "cell_type": "markdown",
      "source": [
        "#### Train the sequence-to-sequence Transformer"
      ],
      "metadata": {
        "id": "CUn5wMYkfnoW"
      }
    },
    {
      "cell_type": "code",
      "source": [
        "# check how the accuracy metric is calculated in Keras\n",
        "import tensorflow as tf\n",
        "\n",
        "m = tf.keras.metrics.Accuracy()\n",
        "m.update_state([[1,100], [2, 200]], [[1, 200], [3, 300]])\n",
        "m.result().numpy()"
      ],
      "metadata": {
        "colab": {
          "base_uri": "https://localhost:8080/"
        },
        "id": "VMk_ABtG4Zst",
        "outputId": "1a4488bd-0000-4d0e-85da-6f3d4ef246c1"
      },
      "execution_count": 16,
      "outputs": [
        {
          "output_type": "execute_result",
          "data": {
            "text/plain": [
              "0.25"
            ]
          },
          "metadata": {},
          "execution_count": 16
        }
      ]
    },
    {
      "cell_type": "code",
      "source": [
        "import tensorflow as tf\n",
        "\n",
        "# turns out the Keras metric acc is very close to the word accuracy, no need for customied callbacks\n",
        "\"\"\"\n",
        "def calculate_word_acc(target_texts, pred_texts):\n",
        "\n",
        "  total_ct = 0\n",
        "  match_ct = 0\n",
        "\n",
        "  assert(len(target_texts)==len(pred_texts)) # assert target sentence number match pred sentence number\n",
        "  \n",
        "  text_pairs = zip(target_texts, pred_texts) \n",
        "  for pair in text_pairs: # loop through each sentence\n",
        "    target = pair[0]\n",
        "    pred = pair[1]\n",
        "\n",
        "    target_words = target.split()\n",
        "    pred_words = pred.split()\n",
        "\n",
        "    total_ct += len(target_words)\n",
        "    min_len = min(len(target_words), len(pred_words))\n",
        "    \n",
        "    for i in range(min_len): # loop through each word\n",
        "      if target_words[i] == pred_words[i]:\n",
        "        match_ct += 1\n",
        "    \n",
        "  word_acc = match_ct / total_ct\n",
        "  return word_acc\n",
        "\n",
        "\n",
        "train_word_acc = []\n",
        "val_word_acc = []\n",
        "\n",
        "# define customized metric as callback function, but very slow\n",
        "class WordAccuracy(keras.callbacks.Callback):\n",
        "\n",
        "    def on_epoch_begin(self, epoch, logs):\n",
        "        self.train_word_acc = 0 \n",
        "        self.val_word_acc = 0 \n",
        "    \n",
        "    def on_epoch_end(self, epoch, logs):\n",
        "\n",
        "        # train_word_acc\n",
        "        # train_input_texts = [pair[0] for pair in train_pairs]\n",
        "        # train_output_texts = [strip_markers(pair[1]) for pair in train_pairs]\n",
        "\n",
        "        # train_pred_texts = []\n",
        "        # for input_sentence in train_input_texts:\n",
        "        #   pred_sentence = strip_markers(decode_sequence(input_sentence))\n",
        "        #   train_pred_texts.append(pred_sentence)\n",
        "        # self.train_word_acc = calculate_word_acc(train_output_texts, train_pred_texts)\n",
        "\n",
        "        # val_word_acc\n",
        "        val_input_texts = [pair[0] for pair in val_pairs]\n",
        "        val_output_texts = [strip_markers(pair[1]) for pair in val_pairs]\n",
        "\n",
        "        val_pred_texts = []\n",
        "        for input_sentence in val_input_texts:\n",
        "          pred_sentence = strip_markers(decode_sequence(input_sentence))\n",
        "          val_pred_texts.append(pred_sentence)\n",
        "\n",
        "        self.val_word_acc = calculate_word_acc(val_output_texts, val_pred_texts)\n",
        "\n",
        "        # collect\n",
        "\n",
        "        # train_word_acc.append(self.train_word_acc)\n",
        "        val_word_acc.append(self.val_word_acc)\n",
        "      \n",
        "        print(\"train_word_auc = {:.4f}, val_word_auc = {:.4f}\".format(\\\n",
        "              self.train_word_acc, self.val_word_acc))\n",
        "\"\"\"\n",
        "\n",
        "transformer.compile(\n",
        "    optimizer=\"rmsprop\",\n",
        "    loss=\"sparse_categorical_crossentropy\",\n",
        "    metrics=[\"accuracy\"])\n",
        "\n",
        "# word_auc = WordAccuracy()\n",
        "# history = transformer.fit(train_ds, epochs=50, validation_data=val_ds, callbacks=[word_auc])\n",
        "\n",
        "history = transformer.fit(train_ds, epochs=100, validation_data=val_ds, shuffle=True)"
      ],
      "metadata": {
        "colab": {
          "base_uri": "https://localhost:8080/"
        },
        "id": "FpVEhXb1fnNp",
        "outputId": "f38bf3c7-cb89-41bf-b840-238b7c55accc"
      },
      "execution_count": 17,
      "outputs": [
        {
          "output_type": "stream",
          "name": "stdout",
          "text": [
            "Epoch 1/100\n",
            "67/67 [==============================] - 18s 156ms/step - loss: 2.3202 - accuracy: 0.1327 - val_loss: 1.3757 - val_accuracy: 0.2663\n",
            "Epoch 2/100\n",
            "67/67 [==============================] - 9s 142ms/step - loss: 1.3258 - accuracy: 0.2928 - val_loss: 1.1281 - val_accuracy: 0.3228\n",
            "Epoch 3/100\n",
            "67/67 [==============================] - 10s 143ms/step - loss: 1.1610 - accuracy: 0.3367 - val_loss: 1.2090 - val_accuracy: 0.3428\n",
            "Epoch 4/100\n",
            "67/67 [==============================] - 10s 144ms/step - loss: 1.0823 - accuracy: 0.3661 - val_loss: 0.9979 - val_accuracy: 0.3856\n",
            "Epoch 5/100\n",
            "67/67 [==============================] - 10s 145ms/step - loss: 1.0397 - accuracy: 0.3818 - val_loss: 0.9405 - val_accuracy: 0.4193\n",
            "Epoch 6/100\n",
            "67/67 [==============================] - 10s 145ms/step - loss: 0.9975 - accuracy: 0.3981 - val_loss: 0.9509 - val_accuracy: 0.4054\n",
            "Epoch 7/100\n",
            "67/67 [==============================] - 10s 146ms/step - loss: 0.9643 - accuracy: 0.4116 - val_loss: 0.8723 - val_accuracy: 0.4457\n",
            "Epoch 8/100\n",
            "67/67 [==============================] - 10s 147ms/step - loss: 0.9309 - accuracy: 0.4250 - val_loss: 0.8810 - val_accuracy: 0.4379\n",
            "Epoch 9/100\n",
            "67/67 [==============================] - 10s 148ms/step - loss: 0.9082 - accuracy: 0.4337 - val_loss: 0.8474 - val_accuracy: 0.4543\n",
            "Epoch 10/100\n",
            "67/67 [==============================] - 10s 149ms/step - loss: 0.8796 - accuracy: 0.4465 - val_loss: 0.8378 - val_accuracy: 0.4576\n",
            "Epoch 11/100\n",
            "67/67 [==============================] - 10s 149ms/step - loss: 0.8469 - accuracy: 0.4591 - val_loss: 0.7893 - val_accuracy: 0.4817\n",
            "Epoch 12/100\n",
            "67/67 [==============================] - 10s 150ms/step - loss: 0.8238 - accuracy: 0.4677 - val_loss: 0.7759 - val_accuracy: 0.4768\n",
            "Epoch 13/100\n",
            "67/67 [==============================] - 10s 150ms/step - loss: 0.8046 - accuracy: 0.4789 - val_loss: 0.7878 - val_accuracy: 0.4926\n",
            "Epoch 14/100\n",
            "67/67 [==============================] - 10s 151ms/step - loss: 0.7791 - accuracy: 0.4897 - val_loss: 0.7135 - val_accuracy: 0.5177\n",
            "Epoch 15/100\n",
            "67/67 [==============================] - 10s 151ms/step - loss: 0.7716 - accuracy: 0.4945 - val_loss: 0.6890 - val_accuracy: 0.5333\n",
            "Epoch 16/100\n",
            "67/67 [==============================] - 10s 151ms/step - loss: 0.7461 - accuracy: 0.5054 - val_loss: 0.6924 - val_accuracy: 0.5247\n",
            "Epoch 17/100\n",
            "67/67 [==============================] - 10s 152ms/step - loss: 0.7249 - accuracy: 0.5148 - val_loss: 0.7249 - val_accuracy: 0.5136\n",
            "Epoch 18/100\n",
            "67/67 [==============================] - 10s 153ms/step - loss: 0.6999 - accuracy: 0.5284 - val_loss: 0.6936 - val_accuracy: 0.5263\n",
            "Epoch 19/100\n",
            "67/67 [==============================] - 10s 153ms/step - loss: 0.6875 - accuracy: 0.5344 - val_loss: 0.6562 - val_accuracy: 0.5475\n",
            "Epoch 20/100\n",
            "67/67 [==============================] - 10s 151ms/step - loss: 0.6728 - accuracy: 0.5432 - val_loss: 0.6501 - val_accuracy: 0.5533\n",
            "Epoch 21/100\n",
            "67/67 [==============================] - 10s 153ms/step - loss: 0.6640 - accuracy: 0.5525 - val_loss: 0.6388 - val_accuracy: 0.5548\n",
            "Epoch 22/100\n",
            "67/67 [==============================] - 10s 153ms/step - loss: 0.6471 - accuracy: 0.5601 - val_loss: 0.6153 - val_accuracy: 0.5731\n",
            "Epoch 23/100\n",
            "67/67 [==============================] - 10s 155ms/step - loss: 0.6298 - accuracy: 0.5699 - val_loss: 0.6510 - val_accuracy: 0.5577\n",
            "Epoch 24/100\n",
            "67/67 [==============================] - 10s 153ms/step - loss: 0.6261 - accuracy: 0.5741 - val_loss: 0.5797 - val_accuracy: 0.5986\n",
            "Epoch 25/100\n",
            "67/67 [==============================] - 10s 154ms/step - loss: 0.6092 - accuracy: 0.5834 - val_loss: 0.5870 - val_accuracy: 0.5947\n",
            "Epoch 26/100\n",
            "67/67 [==============================] - 10s 155ms/step - loss: 0.5939 - accuracy: 0.5943 - val_loss: 0.5778 - val_accuracy: 0.6059\n",
            "Epoch 27/100\n",
            "67/67 [==============================] - 10s 153ms/step - loss: 0.5943 - accuracy: 0.5956 - val_loss: 0.5861 - val_accuracy: 0.5970\n",
            "Epoch 28/100\n",
            "67/67 [==============================] - 10s 151ms/step - loss: 0.5735 - accuracy: 0.6072 - val_loss: 0.5945 - val_accuracy: 0.6001\n",
            "Epoch 29/100\n",
            "67/67 [==============================] - 10s 152ms/step - loss: 0.5746 - accuracy: 0.6104 - val_loss: 0.5469 - val_accuracy: 0.6265\n",
            "Epoch 30/100\n",
            "67/67 [==============================] - 10s 153ms/step - loss: 0.5644 - accuracy: 0.6192 - val_loss: 0.5429 - val_accuracy: 0.6326\n",
            "Epoch 31/100\n",
            "67/67 [==============================] - 10s 151ms/step - loss: 0.5482 - accuracy: 0.6305 - val_loss: 0.6054 - val_accuracy: 0.6168\n",
            "Epoch 32/100\n",
            "67/67 [==============================] - 10s 153ms/step - loss: 0.5400 - accuracy: 0.6430 - val_loss: 0.5386 - val_accuracy: 0.6462\n",
            "Epoch 33/100\n",
            "67/67 [==============================] - 10s 152ms/step - loss: 0.5266 - accuracy: 0.6542 - val_loss: 0.5401 - val_accuracy: 0.6451\n",
            "Epoch 34/100\n",
            "67/67 [==============================] - 10s 153ms/step - loss: 0.5103 - accuracy: 0.6666 - val_loss: 0.4959 - val_accuracy: 0.6734\n",
            "Epoch 35/100\n",
            "67/67 [==============================] - 10s 154ms/step - loss: 0.4965 - accuracy: 0.6759 - val_loss: 0.5801 - val_accuracy: 0.6369\n",
            "Epoch 36/100\n",
            "67/67 [==============================] - 10s 155ms/step - loss: 0.4956 - accuracy: 0.6805 - val_loss: 0.5885 - val_accuracy: 0.6346\n",
            "Epoch 37/100\n",
            "67/67 [==============================] - 10s 152ms/step - loss: 0.4742 - accuracy: 0.6907 - val_loss: 0.4737 - val_accuracy: 0.6863\n",
            "Epoch 38/100\n",
            "67/67 [==============================] - 10s 153ms/step - loss: 0.4655 - accuracy: 0.6960 - val_loss: 0.4778 - val_accuracy: 0.6837\n",
            "Epoch 39/100\n",
            "67/67 [==============================] - 10s 151ms/step - loss: 0.4614 - accuracy: 0.7002 - val_loss: 0.4442 - val_accuracy: 0.7104\n",
            "Epoch 40/100\n",
            "67/67 [==============================] - 10s 153ms/step - loss: 0.4369 - accuracy: 0.7141 - val_loss: 0.4702 - val_accuracy: 0.6987\n",
            "Epoch 41/100\n",
            "67/67 [==============================] - 10s 154ms/step - loss: 0.4324 - accuracy: 0.7195 - val_loss: 0.4362 - val_accuracy: 0.7134\n",
            "Epoch 42/100\n",
            "67/67 [==============================] - 10s 153ms/step - loss: 0.4192 - accuracy: 0.7270 - val_loss: 0.4390 - val_accuracy: 0.7185\n",
            "Epoch 43/100\n",
            "67/67 [==============================] - 10s 153ms/step - loss: 0.4114 - accuracy: 0.7336 - val_loss: 0.4265 - val_accuracy: 0.7212\n",
            "Epoch 44/100\n",
            "67/67 [==============================] - 10s 154ms/step - loss: 0.4013 - accuracy: 0.7400 - val_loss: 0.4081 - val_accuracy: 0.7351\n",
            "Epoch 45/100\n",
            "67/67 [==============================] - 10s 155ms/step - loss: 0.3899 - accuracy: 0.7470 - val_loss: 0.4352 - val_accuracy: 0.7226\n",
            "Epoch 46/100\n",
            "67/67 [==============================] - 10s 155ms/step - loss: 0.3803 - accuracy: 0.7547 - val_loss: 0.3689 - val_accuracy: 0.7586\n",
            "Epoch 47/100\n",
            "67/67 [==============================] - 10s 153ms/step - loss: 0.3688 - accuracy: 0.7635 - val_loss: 0.3997 - val_accuracy: 0.7295\n",
            "Epoch 48/100\n",
            "67/67 [==============================] - 10s 151ms/step - loss: 0.3574 - accuracy: 0.7704 - val_loss: 0.3788 - val_accuracy: 0.7555\n",
            "Epoch 49/100\n",
            "67/67 [==============================] - 10s 153ms/step - loss: 0.3472 - accuracy: 0.7784 - val_loss: 0.3974 - val_accuracy: 0.7331\n",
            "Epoch 50/100\n",
            "67/67 [==============================] - 10s 154ms/step - loss: 0.3388 - accuracy: 0.7851 - val_loss: 0.3491 - val_accuracy: 0.7766\n",
            "Epoch 51/100\n",
            "67/67 [==============================] - 10s 155ms/step - loss: 0.3273 - accuracy: 0.7925 - val_loss: 0.3490 - val_accuracy: 0.7702\n",
            "Epoch 52/100\n",
            "67/67 [==============================] - 10s 155ms/step - loss: 0.3178 - accuracy: 0.7993 - val_loss: 0.3579 - val_accuracy: 0.7840\n",
            "Epoch 53/100\n",
            "67/67 [==============================] - 10s 156ms/step - loss: 0.3107 - accuracy: 0.8041 - val_loss: 0.3392 - val_accuracy: 0.7896\n",
            "Epoch 54/100\n",
            "67/67 [==============================] - 10s 157ms/step - loss: 0.2978 - accuracy: 0.8116 - val_loss: 0.3131 - val_accuracy: 0.8030\n",
            "Epoch 55/100\n",
            "67/67 [==============================] - 11s 158ms/step - loss: 0.2904 - accuracy: 0.8176 - val_loss: 0.3348 - val_accuracy: 0.7928\n",
            "Epoch 56/100\n",
            "67/67 [==============================] - 10s 154ms/step - loss: 0.2851 - accuracy: 0.8219 - val_loss: 0.4078 - val_accuracy: 0.7802\n",
            "Epoch 57/100\n",
            "67/67 [==============================] - 10s 153ms/step - loss: 0.2748 - accuracy: 0.8283 - val_loss: 0.2926 - val_accuracy: 0.8157\n",
            "Epoch 58/100\n",
            "67/67 [==============================] - 10s 153ms/step - loss: 0.2717 - accuracy: 0.8319 - val_loss: 0.3252 - val_accuracy: 0.7974\n",
            "Epoch 59/100\n",
            "67/67 [==============================] - 10s 151ms/step - loss: 0.2575 - accuracy: 0.8395 - val_loss: 0.3123 - val_accuracy: 0.8064\n",
            "Epoch 60/100\n",
            "67/67 [==============================] - 10s 152ms/step - loss: 0.2560 - accuracy: 0.8430 - val_loss: 0.3803 - val_accuracy: 0.7754\n",
            "Epoch 61/100\n",
            "67/67 [==============================] - 10s 153ms/step - loss: 0.2479 - accuracy: 0.8474 - val_loss: 0.2970 - val_accuracy: 0.8172\n",
            "Epoch 62/100\n",
            "67/67 [==============================] - 10s 153ms/step - loss: 0.2398 - accuracy: 0.8508 - val_loss: 0.2906 - val_accuracy: 0.8243\n",
            "Epoch 63/100\n",
            "67/67 [==============================] - 10s 154ms/step - loss: 0.2392 - accuracy: 0.8530 - val_loss: 0.2558 - val_accuracy: 0.8442\n",
            "Epoch 64/100\n",
            "67/67 [==============================] - 10s 153ms/step - loss: 0.2256 - accuracy: 0.8619 - val_loss: 0.2856 - val_accuracy: 0.8231\n",
            "Epoch 65/100\n",
            "67/67 [==============================] - 10s 153ms/step - loss: 0.2296 - accuracy: 0.8609 - val_loss: 0.2931 - val_accuracy: 0.8270\n",
            "Epoch 66/100\n",
            "67/67 [==============================] - 10s 152ms/step - loss: 0.2143 - accuracy: 0.8696 - val_loss: 0.2932 - val_accuracy: 0.8182\n",
            "Epoch 67/100\n",
            "67/67 [==============================] - 10s 152ms/step - loss: 0.2105 - accuracy: 0.8721 - val_loss: 0.2965 - val_accuracy: 0.8245\n",
            "Epoch 68/100\n",
            "67/67 [==============================] - 10s 153ms/step - loss: 0.2082 - accuracy: 0.8739 - val_loss: 0.2571 - val_accuracy: 0.8464\n",
            "Epoch 69/100\n",
            "67/67 [==============================] - 10s 154ms/step - loss: 0.2010 - accuracy: 0.8776 - val_loss: 0.2548 - val_accuracy: 0.8516\n",
            "Epoch 70/100\n",
            "67/67 [==============================] - 10s 154ms/step - loss: 0.1931 - accuracy: 0.8831 - val_loss: 0.2635 - val_accuracy: 0.8489\n",
            "Epoch 71/100\n",
            "67/67 [==============================] - 10s 156ms/step - loss: 0.1921 - accuracy: 0.8837 - val_loss: 0.2590 - val_accuracy: 0.8494\n",
            "Epoch 72/100\n",
            "67/67 [==============================] - 10s 154ms/step - loss: 0.1898 - accuracy: 0.8881 - val_loss: 0.2578 - val_accuracy: 0.8489\n",
            "Epoch 73/100\n",
            "67/67 [==============================] - 10s 155ms/step - loss: 0.1766 - accuracy: 0.8927 - val_loss: 0.2296 - val_accuracy: 0.8690\n",
            "Epoch 74/100\n",
            "67/67 [==============================] - 10s 153ms/step - loss: 0.1809 - accuracy: 0.8921 - val_loss: 0.2821 - val_accuracy: 0.8394\n",
            "Epoch 75/100\n",
            "67/67 [==============================] - 10s 152ms/step - loss: 0.1722 - accuracy: 0.8984 - val_loss: 0.2521 - val_accuracy: 0.8548\n",
            "Epoch 76/100\n",
            "67/67 [==============================] - 10s 153ms/step - loss: 0.1668 - accuracy: 0.9009 - val_loss: 0.2592 - val_accuracy: 0.8532\n",
            "Epoch 77/100\n",
            "67/67 [==============================] - 10s 151ms/step - loss: 0.1602 - accuracy: 0.9049 - val_loss: 0.2345 - val_accuracy: 0.8689\n",
            "Epoch 78/100\n",
            "67/67 [==============================] - 10s 153ms/step - loss: 0.1615 - accuracy: 0.9046 - val_loss: 0.2209 - val_accuracy: 0.8751\n",
            "Epoch 79/100\n",
            "67/67 [==============================] - 10s 154ms/step - loss: 0.1542 - accuracy: 0.9092 - val_loss: 0.2031 - val_accuracy: 0.8828\n",
            "Epoch 80/100\n",
            "67/67 [==============================] - 10s 155ms/step - loss: 0.1490 - accuracy: 0.9121 - val_loss: 0.2789 - val_accuracy: 0.8493\n",
            "Epoch 81/100\n",
            "67/67 [==============================] - 10s 152ms/step - loss: 0.1490 - accuracy: 0.9120 - val_loss: 0.3298 - val_accuracy: 0.8426\n",
            "Epoch 82/100\n",
            "67/67 [==============================] - 10s 152ms/step - loss: 0.1434 - accuracy: 0.9168 - val_loss: 0.2114 - val_accuracy: 0.8844\n",
            "Epoch 83/100\n",
            "67/67 [==============================] - 10s 153ms/step - loss: 0.1377 - accuracy: 0.9189 - val_loss: 0.2460 - val_accuracy: 0.8665\n",
            "Epoch 84/100\n",
            "67/67 [==============================] - 10s 154ms/step - loss: 0.1353 - accuracy: 0.9204 - val_loss: 0.2635 - val_accuracy: 0.8529\n",
            "Epoch 85/100\n",
            "67/67 [==============================] - 10s 155ms/step - loss: 0.1324 - accuracy: 0.9231 - val_loss: 0.2780 - val_accuracy: 0.8536\n",
            "Epoch 86/100\n",
            "67/67 [==============================] - 10s 154ms/step - loss: 0.1313 - accuracy: 0.9247 - val_loss: 0.2315 - val_accuracy: 0.8766\n",
            "Epoch 87/100\n",
            "67/67 [==============================] - 10s 155ms/step - loss: 0.1247 - accuracy: 0.9274 - val_loss: 0.2567 - val_accuracy: 0.8593\n",
            "Epoch 88/100\n",
            "67/67 [==============================] - 10s 155ms/step - loss: 0.1236 - accuracy: 0.9277 - val_loss: 0.1932 - val_accuracy: 0.8960\n",
            "Epoch 89/100\n",
            "67/67 [==============================] - 10s 156ms/step - loss: 0.1249 - accuracy: 0.9283 - val_loss: 0.2206 - val_accuracy: 0.8824\n",
            "Epoch 90/100\n",
            "67/67 [==============================] - 10s 154ms/step - loss: 0.1117 - accuracy: 0.9355 - val_loss: 0.2007 - val_accuracy: 0.8959\n",
            "Epoch 91/100\n",
            "67/67 [==============================] - 10s 154ms/step - loss: 0.1148 - accuracy: 0.9334 - val_loss: 0.2021 - val_accuracy: 0.8965\n",
            "Epoch 92/100\n",
            "67/67 [==============================] - 10s 153ms/step - loss: 0.1095 - accuracy: 0.9369 - val_loss: 0.2521 - val_accuracy: 0.8763\n",
            "Epoch 93/100\n",
            "67/67 [==============================] - 10s 152ms/step - loss: 0.1097 - accuracy: 0.9374 - val_loss: 0.2394 - val_accuracy: 0.8736\n",
            "Epoch 94/100\n",
            "67/67 [==============================] - 10s 153ms/step - loss: 0.1116 - accuracy: 0.9382 - val_loss: 0.2136 - val_accuracy: 0.8932\n",
            "Epoch 95/100\n",
            "67/67 [==============================] - 10s 152ms/step - loss: 0.1047 - accuracy: 0.9403 - val_loss: 0.2001 - val_accuracy: 0.8998\n",
            "Epoch 96/100\n",
            "67/67 [==============================] - 10s 153ms/step - loss: 0.0997 - accuracy: 0.9430 - val_loss: 0.2563 - val_accuracy: 0.8790\n",
            "Epoch 97/100\n",
            "67/67 [==============================] - 10s 154ms/step - loss: 0.1007 - accuracy: 0.9432 - val_loss: 0.2127 - val_accuracy: 0.8954\n",
            "Epoch 98/100\n",
            "67/67 [==============================] - 10s 153ms/step - loss: 0.0950 - accuracy: 0.9464 - val_loss: 0.1946 - val_accuracy: 0.9050\n",
            "Epoch 99/100\n",
            "67/67 [==============================] - 10s 154ms/step - loss: 0.0974 - accuracy: 0.9449 - val_loss: 0.2106 - val_accuracy: 0.8997\n",
            "Epoch 100/100\n",
            "67/67 [==============================] - 10s 153ms/step - loss: 0.0898 - accuracy: 0.9492 - val_loss: 0.2862 - val_accuracy: 0.8603\n"
          ]
        }
      ]
    },
    {
      "cell_type": "code",
      "source": [
        "# save the trained model\n",
        "transformer.save('tianliu_525004380_project2_transformer_trained_valacc0.8603.model.h5')\n",
        "transformer.save('tianliu_525004380_project2_transformer_trained_valacc0.8603.model')"
      ],
      "metadata": {
        "colab": {
          "base_uri": "https://localhost:8080/"
        },
        "id": "nEJQvJ7LwTqG",
        "outputId": "ec15d6cd-9b23-43bc-b85f-7594e73187de"
      },
      "execution_count": 18,
      "outputs": [
        {
          "output_type": "stream",
          "name": "stderr",
          "text": [
            "WARNING:absl:Found untraced functions such as embedding_layer_call_fn, embedding_layer_call_and_return_conditional_losses, embedding_1_layer_call_fn, embedding_1_layer_call_and_return_conditional_losses, embedding_2_layer_call_fn while saving (showing 5 of 60). These functions will not be directly callable after loading.\n"
          ]
        },
        {
          "output_type": "stream",
          "name": "stdout",
          "text": [
            "INFO:tensorflow:Assets written to: tianliu_525004380_project2_transformer_trained_valacc0.8603.model/assets\n"
          ]
        },
        {
          "output_type": "stream",
          "name": "stderr",
          "text": [
            "INFO:tensorflow:Assets written to: tianliu_525004380_project2_transformer_trained_valacc0.8603.model/assets\n"
          ]
        }
      ]
    },
    {
      "cell_type": "markdown",
      "source": [
        "#### Plot the train and val performance"
      ],
      "metadata": {
        "id": "HDlvYm87gk49"
      }
    },
    {
      "cell_type": "code",
      "source": [
        "# plot training and validation loss and acc\n",
        "\n",
        "import matplotlib.pyplot as plt\n",
        "\n",
        "history_dict = history.history\n",
        "loss_values = history_dict[\"loss\"]\n",
        "val_loss_values = history_dict[\"val_loss\"]\n",
        "epochs = range(1, len(loss_values) + 1)\n",
        "plt.plot(epochs, loss_values, \"r\", marker=\"o\", label=\"Training loss\")\n",
        "plt.plot(epochs, val_loss_values, \"b\", marker=\"o\",label=\"Validation loss\")\n",
        "plt.title(\"Training and validation loss\")\n",
        "plt.xlabel(\"Epochs\")\n",
        "plt.ylabel(\"Loss\")\n",
        "plt.legend()\n",
        "plt.show()\n",
        "\n",
        "plt.clf()\n",
        "acc = history_dict[\"accuracy\"]\n",
        "val_acc = history_dict[\"val_accuracy\"]\n",
        "plt.plot(epochs, acc, \"r\", marker=\"o\", label=\"Training acc\")\n",
        "plt.plot(epochs, val_acc, \"b\", marker=\"o\", label=\"Validation acc\")\n",
        "plt.title(\"Training and validation accuracy\")\n",
        "plt.xlabel(\"Epochs\")\n",
        "plt.ylabel(\"Accuracy\")\n",
        "plt.legend()\n",
        "plt.show()"
      ],
      "metadata": {
        "colab": {
          "base_uri": "https://localhost:8080/",
          "height": 573
        },
        "id": "8416579QgVB1",
        "outputId": "4394ae47-f1d6-439c-b88f-5c4069cf8dcf"
      },
      "execution_count": 19,
      "outputs": [
        {
          "output_type": "display_data",
          "data": {
            "text/plain": [
              "<Figure size 432x288 with 1 Axes>"
            ],
            "image/png": "[encoded data removed]"
          },
          "metadata": {
            "needs_background": "light"
          }
        },
        {
          "output_type": "display_data",
          "data": {
            "text/plain": [
              "<Figure size 432x288 with 1 Axes>"
            ],
            "image/png": "[encoded data removed]"
          },
          "metadata": {
            "needs_background": "light"
          }
        }
      ]
    },
    {
      "cell_type": "markdown",
      "source": [
        "#### Check translation performance on val dataset"
      ],
      "metadata": {
        "id": "Ua6Rom2lf7E6"
      }
    },
    {
      "cell_type": "code",
      "source": [
        "# sample some sentences as test data to see performance\n",
        "\n",
        "test_input_texts = [pair[0] for pair in val_pairs]\n",
        "test_output_texts = [pair[1] for pair in val_pairs]\n",
        "\n",
        "# test_input_texts = [pair[0] for pair in test_pairs]\n",
        "\n",
        "from numpy import random\n",
        "\n",
        "num_sample = 10\n",
        "idx = [random.randint(0, len(val_pairs)) for i in range(num_sample)]\n",
        "\n",
        "for i in idx:\n",
        "  input_sentence = test_input_texts[i]\n",
        "  target = test_output_texts[i]\n",
        "\n",
        "  print(\"idx =\", i)\n",
        "  print(\"-> input\")\n",
        "  print(input_sentence)\n",
        "  print(\"-> target\")\n",
        "  print(strip_markers(target))\n",
        "  print(\"-> predicted\")\n",
        "  print(strip_markers(decode_sequence(input_sentence)))\n",
        "  print()"
      ],
      "metadata": {
        "colab": {
          "base_uri": "https://localhost:8080/"
        },
        "id": "Xziibla_f6GK",
        "outputId": "9e0a521b-03a7-485d-b8b4-7ea176a7b5cf"
      },
      "execution_count": 20,
      "outputs": [
        {
          "output_type": "stream",
          "name": "stdout",
          "text": [
            "idx = 401\n",
            "-> input\n",
            "a j a e c f a f a e c g a f c e a j a g a e c g a i a e b f b f a d c g c e c f a g c e c e a j c f c e b f \n",
            "-> target\n",
            "c f a e d c g a e f c e c g a e i b f a e k b f c g c e a d ed ee a i l m ef a g j eg c f c e c e a g ej ek a j eh ei el a f h em a f g fd c f c e b f a j ff fg fh a j e fe fi\n",
            "-> predicted\n",
            "c f a e d c g a e f c e c e c g a e j b f b f c g c f a d m ed a i k l ee a g h ef c e c f a j eg eh ei c f a g ej ek b e c f c f b f a j fd fe ff a h el em fg b f a j fh fi a k ej fj\n",
            "\n",
            "idx = 505\n",
            "-> input\n",
            "a d b f a i a g c e b e a g a i c g a g a f b e b f b g c g a i a h c d b d a e a f b g c e b e b g b e \n",
            "-> target\n",
            "b f c e b e a g e f c g b e b f a f i j b g a g k l c g a i h m ed c d b d b g c e a f eh ei a e ej a h ef eg ek b e b g a i el em fd a g ee fe b e a i g ff fg a d d fh\n",
            "-> predicted\n",
            "b f c e b e a g e f c g b e b f a f i j b g a g k l b g a i h m ed c d b d b g c e a f eh ei b e a i eg ej ek b e a i ef el em b g a f fd fe b e a i h ff fg a j d g fh\n",
            "\n",
            "idx = 22\n",
            "-> input\n",
            "a f a f a g b e a e a g c g c f b f a j b g c f a g a i a i c g b f b f c g a k a k a d c d c f b g c f b e \n",
            "-> target\n",
            "b e c g c f a g e f a e g a g d h b f a f i j b g c f c g b f b f a i ed ee ef c g c d c f a d ei ej b g a k ek el c f a k em fd a i eg eh fe b e a g ff fg a j l m fh a f k fi\n",
            "-> predicted\n",
            "b e c g b f a g e f a e g a e h a g d d b f c f b g c g b f b f c g a i ee ef eg c g a i ed eh ei c f b f a k ek el b g a k em fd c f a i ej fe ff a j l m fg a f j fh a f i fi\n",
            "\n",
            "idx = 376\n",
            "-> input\n",
            "a d a d a i b g c g a e c f a e a k b d c e a d a k b e c f a k c f a d c e b d \n",
            "-> target\n",
            "b g c g c f a e f a i d e g b d c e a k i j a e k a d h l b e c f a k ed ee c f c e b d a d eh ei a k eg ej a d ef ek a d m el\n",
            "-> predicted\n",
            "b g c g c e c f a e g a f f h a i d e i b d b e c f a k l m c f a k ed ee a k j ef a d j eg c f b d a d ei ej a g eh ek\n",
            "\n",
            "idx = 260\n",
            "-> input\n",
            "a j a j c f c d b g a k a f c f a j c d a k a e b g a d b e c g c d b d a g b f c e \n",
            "-> target\n",
            "c f c d b g a j d e f c f c d b g a e j b e c g a d l m a k k ed c d a j i ee ef a f h eg b d a k eh ei b f c e a g ek el a j g ej em\n",
            "-> predicted\n",
            "c f c d b g a j d e f c f c f c d b g b g c e a d l m a k k ed b d a j i j ee ef a k h eg b d a j g eh ei b f c e a g ek el em\n",
            "\n",
            "idx = 254\n",
            "-> input\n",
            "a e a i a g c g a e a g a h a e c e a e a k a f b d b e c e b d c f c e c g \n",
            "-> target\n",
            "c g c e a e e b d b e a f g h c e a k i j a e k b d a h f l m c f a g ed ee a e ef a g d eg c e c g a i eh ei ej a e ek\n",
            "-> predicted\n",
            "c g c g c f a e f b f b e a f h i b e a k j k a e l a h e g m b d c f a h ed ee ef c e a i d eg eh c g a g ei ej a e ek\n",
            "\n",
            "idx = 525\n",
            "-> input\n",
            "a i a f b d c e c d a g a i a f a f c d c g a f a e b d c f a g b g c g c g a d c e b f \n",
            "-> target\n",
            "b d c e a f d e c d c d c g a f h i b d a e k c f a f l m a f j ed b g c g a g ef eg c g a i ee eh ei c e b f a d ek el a g ej em a i f g fd\n",
            "-> predicted\n",
            "b d c e a f d e c d c f c d c g a f i j b d a e l b g c g a g ed ee a f m ef c g a i k eg eh c g b f a e ek a i ei ej el b f b f a i f em fd\n",
            "\n",
            "idx = 400\n",
            "-> input\n",
            "a i a f a j c f a j a j c e b d c d b e b d c f c e a g b g b g b f \n",
            "-> target\n",
            "c f c e b d c d a j e f g b e b d a j h i j c f a j d k l c e a f m ed b g b g a g ef eg b f a i ee eh ei\n",
            "-> predicted\n",
            "c f c e b d b e a j e f g b e b d a j h i j c f a j d k l c e b g b g b f a g ef eg a i ed ee eh b f a i m ei ej\n",
            "\n",
            "idx = 225\n",
            "-> input\n",
            "a g a f a j b f b d a e a e a e b e a d b e b d a e a h c d b g a j c e b d b g \n",
            "-> target\n",
            "b f b d b e a e f a e g a e h a j d e i b e b d a d k l a f j m c d b g c e b d b g a j eg eh ei a h ee ef ej a e ek a g ed el\n",
            "-> predicted\n",
            "b f b d b e a e f a e g b e b e b d a d j a f i k b d c d b g b g c e b g a j ef eg eh a h ed ee ei a h l m ej a e ek a g k el\n",
            "\n",
            "idx = 36\n",
            "-> input\n",
            "a g a f a e a k a g a f b e a h b d b e c g b d c d c e a d c e a e a d a k b d b f c e \n",
            "-> target\n",
            "b e b d b e c g a h e f g a f d h b d a g i j c d a k k l a e m c e a f ed ee c e b d b f a k eh ei c e a d ej ek a e el a d eg em a g ef fd\n",
            "-> predicted\n",
            "b f b f b e b g a h e f g a f d h c g a e j b d a g k l a k i m a e ed c d c e b d b f a k eh ei b d c f a d ej ek a d eg el c e a g em fd\n",
            "\n"
          ]
        }
      ]
    },
    {
      "cell_type": "markdown",
      "source": [
        "### Retrain on the entire given dataset"
      ],
      "metadata": {
        "id": "ZN5FsGRvjPV9"
      }
    },
    {
      "cell_type": "code",
      "source": [
        "train_ds_full = make_dataset(text_pairs)"
      ],
      "metadata": {
        "id": "hBI_CPWJkftp"
      },
      "execution_count": 25,
      "outputs": []
    },
    {
      "cell_type": "code",
      "source": [
        "embed_dim = 256\n",
        "dense_dim = 1024\n",
        "num_heads = 8\n",
        "vocab_size = 100\n",
        "\n",
        "encoder_inputs = keras.Input(shape=(None,), dtype=\"int64\", name=\"input\")\n",
        "x = PositionalEmbedding(sequence_length, vocab_size, embed_dim)(encoder_inputs)\n",
        "encoder_outputs = TransformerEncoder(embed_dim, dense_dim, num_heads)(x)\n",
        "\n",
        "decoder_inputs = keras.Input(shape=(None,), dtype=\"int64\", name=\"output\")\n",
        "x = PositionalEmbedding(sequence_length, vocab_size, embed_dim)(decoder_inputs)\n",
        "x = TransformerDecoder(embed_dim, dense_dim, num_heads)(x, encoder_outputs)\n",
        "x = layers.Dropout(0.5)(x)\n",
        "decoder_outputs = layers.Dense(vocab_size, activation=\"softmax\")(x)\n",
        "\n",
        "transformer = keras.Model([encoder_inputs, decoder_inputs], decoder_outputs)\n",
        "\n",
        "transformer.compile(\n",
        "    optimizer=\"rmsprop\",\n",
        "    loss=\"sparse_categorical_crossentropy\",\n",
        "    metrics=[\"accuracy\"])\n",
        "\n",
        "history = transformer.fit(train_ds_full, epochs=80)"
      ],
      "metadata": {
        "colab": {
          "base_uri": "https://localhost:8080/"
        },
        "id": "-f5t5uRvjUwB",
        "outputId": "12e8c7be-180a-4c12-ba16-b503d76fe783"
      },
      "execution_count": 26,
      "outputs": [
        {
          "output_type": "stream",
          "name": "stdout",
          "text": [
            "Epoch 1/80\n",
            "79/79 [==============================] - 15s 135ms/step - loss: 2.2407 - accuracy: 0.1511\n",
            "Epoch 2/80\n",
            "79/79 [==============================] - 11s 133ms/step - loss: 1.2948 - accuracy: 0.3004\n",
            "Epoch 3/80\n",
            "79/79 [==============================] - 11s 135ms/step - loss: 1.1640 - accuracy: 0.3426\n",
            "Epoch 4/80\n",
            "79/79 [==============================] - 11s 135ms/step - loss: 1.0612 - accuracy: 0.3734\n",
            "Epoch 5/80\n",
            "79/79 [==============================] - 11s 136ms/step - loss: 1.0117 - accuracy: 0.3937\n",
            "Epoch 6/80\n",
            "79/79 [==============================] - 11s 137ms/step - loss: 0.9571 - accuracy: 0.4144\n",
            "Epoch 7/80\n",
            "79/79 [==============================] - 11s 138ms/step - loss: 0.9300 - accuracy: 0.4272\n",
            "Epoch 8/80\n",
            "79/79 [==============================] - 11s 138ms/step - loss: 0.8818 - accuracy: 0.4455\n",
            "Epoch 9/80\n",
            "79/79 [==============================] - 11s 138ms/step - loss: 0.8591 - accuracy: 0.4557\n",
            "Epoch 10/80\n",
            "79/79 [==============================] - 11s 139ms/step - loss: 0.8312 - accuracy: 0.4691\n",
            "Epoch 11/80\n",
            "79/79 [==============================] - 11s 139ms/step - loss: 0.7982 - accuracy: 0.4838\n",
            "Epoch 12/80\n",
            "79/79 [==============================] - 11s 140ms/step - loss: 0.7742 - accuracy: 0.4973\n",
            "Epoch 13/80\n",
            "79/79 [==============================] - 11s 140ms/step - loss: 0.7443 - accuracy: 0.5154\n",
            "Epoch 14/80\n",
            "79/79 [==============================] - 11s 139ms/step - loss: 0.7304 - accuracy: 0.5246\n",
            "Epoch 15/80\n",
            "79/79 [==============================] - 11s 139ms/step - loss: 0.6978 - accuracy: 0.5429\n",
            "Epoch 16/80\n",
            "79/79 [==============================] - 11s 139ms/step - loss: 0.6801 - accuracy: 0.5559\n",
            "Epoch 17/80\n",
            "79/79 [==============================] - 11s 140ms/step - loss: 0.6494 - accuracy: 0.5742\n",
            "Epoch 18/80\n",
            "79/79 [==============================] - 11s 139ms/step - loss: 0.6302 - accuracy: 0.5903\n",
            "Epoch 19/80\n",
            "79/79 [==============================] - 11s 141ms/step - loss: 0.6077 - accuracy: 0.6050\n",
            "Epoch 20/80\n",
            "79/79 [==============================] - 11s 141ms/step - loss: 0.5863 - accuracy: 0.6192\n",
            "Epoch 21/80\n",
            "79/79 [==============================] - 11s 140ms/step - loss: 0.5697 - accuracy: 0.6326\n",
            "Epoch 22/80\n",
            "79/79 [==============================] - 11s 141ms/step - loss: 0.5522 - accuracy: 0.6474\n",
            "Epoch 23/80\n",
            "79/79 [==============================] - 11s 141ms/step - loss: 0.5323 - accuracy: 0.6590\n",
            "Epoch 24/80\n",
            "79/79 [==============================] - 11s 141ms/step - loss: 0.5197 - accuracy: 0.6696\n",
            "Epoch 25/80\n",
            "79/79 [==============================] - 11s 141ms/step - loss: 0.4996 - accuracy: 0.6796\n",
            "Epoch 26/80\n",
            "79/79 [==============================] - 11s 140ms/step - loss: 0.4877 - accuracy: 0.6883\n",
            "Epoch 27/80\n",
            "79/79 [==============================] - 11s 141ms/step - loss: 0.4675 - accuracy: 0.6989\n",
            "Epoch 28/80\n",
            "79/79 [==============================] - 11s 142ms/step - loss: 0.4529 - accuracy: 0.7076\n",
            "Epoch 29/80\n",
            "79/79 [==============================] - 11s 143ms/step - loss: 0.4405 - accuracy: 0.7154\n",
            "Epoch 30/80\n",
            "79/79 [==============================] - 11s 144ms/step - loss: 0.4237 - accuracy: 0.7265\n",
            "Epoch 31/80\n",
            "79/79 [==============================] - 11s 144ms/step - loss: 0.4148 - accuracy: 0.7337\n",
            "Epoch 32/80\n",
            "79/79 [==============================] - 11s 145ms/step - loss: 0.3982 - accuracy: 0.7437\n",
            "Epoch 33/80\n",
            "79/79 [==============================] - 12s 146ms/step - loss: 0.3879 - accuracy: 0.7515\n",
            "Epoch 34/80\n",
            "79/79 [==============================] - 11s 143ms/step - loss: 0.3735 - accuracy: 0.7606\n",
            "Epoch 35/80\n",
            "79/79 [==============================] - 11s 142ms/step - loss: 0.3629 - accuracy: 0.7687\n",
            "Epoch 36/80\n",
            "79/79 [==============================] - 11s 143ms/step - loss: 0.3539 - accuracy: 0.7750\n",
            "Epoch 37/80\n",
            "79/79 [==============================] - 11s 144ms/step - loss: 0.3395 - accuracy: 0.7842\n",
            "Epoch 38/80\n",
            "79/79 [==============================] - 11s 143ms/step - loss: 0.3316 - accuracy: 0.7894\n",
            "Epoch 39/80\n",
            "79/79 [==============================] - 11s 144ms/step - loss: 0.3190 - accuracy: 0.7965\n",
            "Epoch 40/80\n",
            "79/79 [==============================] - 11s 142ms/step - loss: 0.3130 - accuracy: 0.8016\n",
            "Epoch 41/80\n",
            "79/79 [==============================] - 11s 143ms/step - loss: 0.3057 - accuracy: 0.8068\n",
            "Epoch 42/80\n",
            "79/79 [==============================] - 11s 142ms/step - loss: 0.2951 - accuracy: 0.8147\n",
            "Epoch 43/80\n",
            "79/79 [==============================] - 11s 141ms/step - loss: 0.2937 - accuracy: 0.8168\n",
            "Epoch 44/80\n",
            "79/79 [==============================] - 11s 142ms/step - loss: 0.2810 - accuracy: 0.8237\n",
            "Epoch 45/80\n",
            "79/79 [==============================] - 11s 141ms/step - loss: 0.2749 - accuracy: 0.8288\n",
            "Epoch 46/80\n",
            "79/79 [==============================] - 11s 141ms/step - loss: 0.2668 - accuracy: 0.8347\n",
            "Epoch 47/80\n",
            "79/79 [==============================] - 11s 140ms/step - loss: 0.2581 - accuracy: 0.8396\n",
            "Epoch 48/80\n",
            "79/79 [==============================] - 11s 141ms/step - loss: 0.2539 - accuracy: 0.8438\n",
            "Epoch 49/80\n",
            "79/79 [==============================] - 11s 140ms/step - loss: 0.2448 - accuracy: 0.8492\n",
            "Epoch 50/80\n",
            "79/79 [==============================] - 11s 140ms/step - loss: 0.2389 - accuracy: 0.8529\n",
            "Epoch 51/80\n",
            "79/79 [==============================] - 11s 141ms/step - loss: 0.2312 - accuracy: 0.8585\n",
            "Epoch 52/80\n",
            "79/79 [==============================] - 11s 141ms/step - loss: 0.2243 - accuracy: 0.8628\n",
            "Epoch 53/80\n",
            "79/79 [==============================] - 11s 141ms/step - loss: 0.2175 - accuracy: 0.8680\n",
            "Epoch 54/80\n",
            "79/79 [==============================] - 11s 140ms/step - loss: 0.2106 - accuracy: 0.8719\n",
            "Epoch 55/80\n",
            "79/79 [==============================] - 11s 141ms/step - loss: 0.2065 - accuracy: 0.8744\n",
            "Epoch 56/80\n",
            "79/79 [==============================] - 11s 142ms/step - loss: 0.2020 - accuracy: 0.8794\n",
            "Epoch 57/80\n",
            "79/79 [==============================] - 11s 142ms/step - loss: 0.1937 - accuracy: 0.8843\n",
            "Epoch 58/80\n",
            "79/79 [==============================] - 11s 142ms/step - loss: 0.1885 - accuracy: 0.8876\n",
            "Epoch 59/80\n",
            "79/79 [==============================] - 11s 144ms/step - loss: 0.1783 - accuracy: 0.8933\n",
            "Epoch 60/80\n",
            "79/79 [==============================] - 11s 144ms/step - loss: 0.1772 - accuracy: 0.8952\n",
            "Epoch 61/80\n",
            "79/79 [==============================] - 11s 142ms/step - loss: 0.1693 - accuracy: 0.8989\n",
            "Epoch 62/80\n",
            "79/79 [==============================] - 11s 143ms/step - loss: 0.1658 - accuracy: 0.9018\n",
            "Epoch 63/80\n",
            "79/79 [==============================] - 11s 142ms/step - loss: 0.1621 - accuracy: 0.9057\n",
            "Epoch 64/80\n",
            "79/79 [==============================] - 11s 143ms/step - loss: 0.1529 - accuracy: 0.9100\n",
            "Epoch 65/80\n",
            "79/79 [==============================] - 11s 143ms/step - loss: 0.1504 - accuracy: 0.9112\n",
            "Epoch 66/80\n",
            "79/79 [==============================] - 11s 142ms/step - loss: 0.1426 - accuracy: 0.9159\n",
            "Epoch 67/80\n",
            "79/79 [==============================] - 11s 141ms/step - loss: 0.1445 - accuracy: 0.9169\n",
            "Epoch 68/80\n",
            "79/79 [==============================] - 11s 141ms/step - loss: 0.1350 - accuracy: 0.9215\n",
            "Epoch 69/80\n",
            "79/79 [==============================] - 11s 141ms/step - loss: 0.1347 - accuracy: 0.9221\n",
            "Epoch 70/80\n",
            "79/79 [==============================] - 11s 141ms/step - loss: 0.1268 - accuracy: 0.9277\n",
            "Epoch 71/80\n",
            "79/79 [==============================] - 11s 141ms/step - loss: 0.1247 - accuracy: 0.9272\n",
            "Epoch 72/80\n",
            "79/79 [==============================] - 11s 140ms/step - loss: 0.1197 - accuracy: 0.9313\n",
            "Epoch 73/80\n",
            "79/79 [==============================] - 11s 141ms/step - loss: 0.1177 - accuracy: 0.9327\n",
            "Epoch 74/80\n",
            "79/79 [==============================] - 11s 141ms/step - loss: 0.1167 - accuracy: 0.9342\n",
            "Epoch 75/80\n",
            "79/79 [==============================] - 11s 142ms/step - loss: 0.1103 - accuracy: 0.9380\n",
            "Epoch 76/80\n",
            "79/79 [==============================] - 11s 141ms/step - loss: 0.1070 - accuracy: 0.9399\n",
            "Epoch 77/80\n",
            "79/79 [==============================] - 11s 142ms/step - loss: 0.1073 - accuracy: 0.9408\n",
            "Epoch 78/80\n",
            "79/79 [==============================] - 11s 141ms/step - loss: 0.1000 - accuracy: 0.9434\n",
            "Epoch 79/80\n",
            "79/79 [==============================] - 11s 142ms/step - loss: 0.0988 - accuracy: 0.9447\n",
            "Epoch 80/80\n",
            "79/79 [==============================] - 11s 143ms/step - loss: 0.0972 - accuracy: 0.9456\n"
          ]
        }
      ]
    },
    {
      "cell_type": "markdown",
      "source": [
        "### Save the Final Trained Model"
      ],
      "metadata": {
        "id": "nwYx8JCJhfH3"
      }
    },
    {
      "cell_type": "code",
      "source": [
        "transformer.save_weights('tianliu_525004380_project2_transformer_final_0.9331.weights')\n",
        "transformer.save('tianliu_525004380_project2_transformer_final_0.9456.best.h5') # save in h5 format\n",
        "transformer.save('tianliu_525004380_project2_transformer_final_0.9456.best')"
      ],
      "metadata": {
        "colab": {
          "base_uri": "https://localhost:8080/"
        },
        "id": "cnOjnuJOEP6l",
        "outputId": "1774bb62-a7c0-49ad-b165-981435dcd232"
      },
      "execution_count": 37,
      "outputs": [
        {
          "output_type": "stream",
          "name": "stderr",
          "text": [
            "WARNING:absl:Found untraced functions such as embedding_8_layer_call_fn, embedding_8_layer_call_and_return_conditional_losses, embedding_9_layer_call_fn, embedding_9_layer_call_and_return_conditional_losses, embedding_10_layer_call_fn while saving (showing 5 of 60). These functions will not be directly callable after loading.\n"
          ]
        },
        {
          "output_type": "stream",
          "name": "stdout",
          "text": [
            "INFO:tensorflow:Assets written to: tianliu_525004380_project2_transformer_final_0.9456.best/assets\n"
          ]
        },
        {
          "output_type": "stream",
          "name": "stderr",
          "text": [
            "INFO:tensorflow:Assets written to: tianliu_525004380_project2_transformer_final_0.9456.best/assets\n"
          ]
        }
      ]
    },
    {
      "cell_type": "markdown",
      "source": [
        "### To test the trained model on the testing data"
      ],
      "metadata": {
        "id": "oDFapwt3husC"
      }
    },
    {
      "cell_type": "markdown",
      "source": [
        "#### Setup working directory"
      ],
      "metadata": {
        "id": "s75LU8p_cODl"
      }
    },
    {
      "cell_type": "code",
      "source": [
        "# mount your drive\n",
        "from google.colab import drive\n",
        "drive.mount('/content/drive')"
      ],
      "metadata": {
        "colab": {
          "base_uri": "https://localhost:8080/"
        },
        "id": "YwOTYKARay1B",
        "outputId": "9a3efec5-3daa-47e2-dd05-5937450f7561"
      },
      "execution_count": null,
      "outputs": [
        {
          "output_type": "stream",
          "name": "stdout",
          "text": [
            "Mounted at /content/drive\n"
          ]
        }
      ]
    },
    {
      "cell_type": "code",
      "source": [
        "# change the following directory to your working directory\n",
        "%cd 'drive/MyDrive/Colab Notebooks/CSCE636_DeepLearning/Project2_MachineTranslation/'"
      ],
      "metadata": {
        "colab": {
          "base_uri": "https://localhost:8080/"
        },
        "id": "fPyal10fa4gC",
        "outputId": "7c82dc7b-1b82-4e5b-fd89-0f97efe7d3c9"
      },
      "execution_count": null,
      "outputs": [
        {
          "output_type": "stream",
          "name": "stdout",
          "text": [
            "/content/drive/MyDrive/Colab Notebooks/CSCE636_DeepLearning/Project2_MachineTranslation\n"
          ]
        }
      ]
    },
    {
      "cell_type": "markdown",
      "source": [
        "#### To load the pretrained model"
      ],
      "metadata": {
        "id": "ek1tXnsLcTBz"
      }
    },
    {
      "cell_type": "markdown",
      "source": [
        "To load the model with customized classes, like the Positional Embedding and TransformerEncoder as well as TransformerDecoder, arguments have to be passed to the custom_objects, as shown below. Also, these layers have to be defined by running the following blocks."
      ],
      "metadata": {
        "id": "bDTdiaX2aG6F"
      }
    },
    {
      "cell_type": "code",
      "source": [
        "import tensorflow as tf\n",
        "from tensorflow import keras\n",
        "from tensorflow.keras import layers\n",
        "\n",
        "class TransformerEncoder(layers.Layer):\n",
        "    def __init__(self, embed_dim, dense_dim, num_heads, **kwargs):\n",
        "        super().__init__(**kwargs)\n",
        "        self.embed_dim = embed_dim\n",
        "        self.dense_dim = dense_dim\n",
        "        self.num_heads = num_heads\n",
        "        self.attention = layers.MultiHeadAttention(\n",
        "            num_heads=num_heads, key_dim=embed_dim)\n",
        "        self.dense_proj = keras.Sequential(\n",
        "            [layers.Dense(dense_dim, activation=\"relu\"),\n",
        "             layers.Dense(embed_dim),]\n",
        "        )\n",
        "        self.layernorm_1 = layers.LayerNormalization()\n",
        "        self.layernorm_2 = layers.LayerNormalization()\n",
        "\n",
        "    def call(self, inputs, mask=None):\n",
        "        if mask is not None:\n",
        "            mask = mask[:, tf.newaxis, :]\n",
        "        attention_output = self.attention(\n",
        "            inputs, inputs, attention_mask=mask)\n",
        "        proj_input = self.layernorm_1(inputs + attention_output)\n",
        "        proj_output = self.dense_proj(proj_input)\n",
        "        return self.layernorm_2(proj_input + proj_output)\n",
        "\n",
        "    def get_config(self):\n",
        "        config = super().get_config()\n",
        "        config.update({\n",
        "            \"embed_dim\": self.embed_dim,\n",
        "            \"num_heads\": self.num_heads,\n",
        "            \"dense_dim\": self.dense_dim,\n",
        "        })\n",
        "        return config\n",
        "\n",
        "class PositionalEmbedding(layers.Layer):\n",
        "    def __init__(self, sequence_length, input_dim, output_dim, **kwargs):\n",
        "        super().__init__(**kwargs)\n",
        "        self.token_embeddings = layers.Embedding(\n",
        "            input_dim=input_dim, output_dim=output_dim)\n",
        "        self.position_embeddings = layers.Embedding(\n",
        "            input_dim=sequence_length, output_dim=output_dim)\n",
        "        self.sequence_length = sequence_length\n",
        "        self.input_dim = input_dim\n",
        "        self.output_dim = output_dim\n",
        "\n",
        "    def call(self, inputs):\n",
        "        length = tf.shape(inputs)[-1]\n",
        "        positions = tf.range(start=0, limit=length, delta=1)\n",
        "        embedded_tokens = self.token_embeddings(inputs)\n",
        "        embedded_positions = self.position_embeddings(positions)\n",
        "        return embedded_tokens + embedded_positions # add up the word embedding and position embedding\n",
        "\n",
        "    def compute_mask(self, inputs, mask=None):\n",
        "        return tf.math.not_equal(inputs, 0)\n",
        "\n",
        "    def get_config(self):\n",
        "        config = super().get_config()\n",
        "        config.update({\n",
        "            \"output_dim\": self.output_dim,\n",
        "            \"sequence_length\": self.sequence_length,\n",
        "            \"input_dim\": self.input_dim,\n",
        "        })\n",
        "        return config\n",
        "\n",
        "class TransformerDecoder(layers.Layer):\n",
        "    def __init__(self, embed_dim, dense_dim, num_heads, **kwargs):\n",
        "        super().__init__(**kwargs)\n",
        "        self.embed_dim = embed_dim\n",
        "        self.dense_dim = dense_dim\n",
        "        self.num_heads = num_heads\n",
        "        self.attention_1 = layers.MultiHeadAttention(\n",
        "            num_heads=num_heads, key_dim=embed_dim)\n",
        "        self.attention_2 = layers.MultiHeadAttention(\n",
        "            num_heads=num_heads, key_dim=embed_dim)\n",
        "        self.dense_proj = keras.Sequential(\n",
        "            [layers.Dense(dense_dim, activation=\"relu\"),\n",
        "             layers.Dense(embed_dim),]\n",
        "        )\n",
        "        self.layernorm_1 = layers.LayerNormalization()\n",
        "        self.layernorm_2 = layers.LayerNormalization()\n",
        "        self.layernorm_3 = layers.LayerNormalization()\n",
        "        self.supports_masking = True\n",
        "\n",
        "    def get_config(self):\n",
        "        config = super().get_config()\n",
        "        config.update({\n",
        "            \"embed_dim\": self.embed_dim,\n",
        "            \"num_heads\": self.num_heads,\n",
        "            \"dense_dim\": self.dense_dim,\n",
        "        })\n",
        "        return config\n",
        "\n",
        "    def get_causal_attention_mask(self, inputs):\n",
        "        input_shape = tf.shape(inputs)\n",
        "        batch_size, sequence_length = input_shape[0], input_shape[1]\n",
        "        i = tf.range(sequence_length)[:, tf.newaxis]\n",
        "        j = tf.range(sequence_length)\n",
        "        mask = tf.cast(i >= j, dtype=\"int32\")\n",
        "        mask = tf.reshape(mask, (1, input_shape[1], input_shape[1]))\n",
        "        mult = tf.concat(\n",
        "            [tf.expand_dims(batch_size, -1),\n",
        "             tf.constant([1, 1], dtype=tf.int32)], axis=0)\n",
        "        return tf.tile(mask, mult)\n",
        "\n",
        "    def call(self, inputs, encoder_outputs, mask=None):\n",
        "        causal_mask = self.get_causal_attention_mask(inputs)\n",
        "        if mask is not None:\n",
        "            padding_mask = tf.cast(\n",
        "                mask[:, tf.newaxis, :], dtype=\"int32\")\n",
        "            padding_mask = tf.minimum(padding_mask, causal_mask)\n",
        "\n",
        "        attention_output_1 = self.attention_1(\n",
        "            query=inputs,\n",
        "            value=inputs,\n",
        "            key=inputs,\n",
        "            attention_mask=causal_mask)\n",
        "        \n",
        "        attention_output_1 = self.layernorm_1(inputs + attention_output_1)\n",
        "\n",
        "        attention_output_2 = self.attention_2(\n",
        "            query=attention_output_1,\n",
        "            value=encoder_outputs,\n",
        "            key=encoder_outputs,\n",
        "            attention_mask=padding_mask,\n",
        "        )\n",
        "        \n",
        "        attention_output_2 = self.layernorm_2(\n",
        "            attention_output_1 + attention_output_2)\n",
        "        \n",
        "        proj_output = self.dense_proj(attention_output_2)\n",
        "        \n",
        "        return self.layernorm_3(attention_output_2 + proj_output)"
      ],
      "metadata": {
        "id": "S9J6CPewbdJ-"
      },
      "execution_count": null,
      "outputs": []
    },
    {
      "cell_type": "code",
      "source": [
        "# load the model\n",
        "from tensorflow import keras\n",
        "\n",
        "transformer_loaded = keras.models.load_model(\\\n",
        "                                             'tianliu_525004380_project2_transformer_final.best',\\\n",
        "                                            #  'tianliu_525004380_project2_transformer_final_0.9601.best', \\\n",
        "                                             custom_objects={\"PositionalEmbedding\":PositionalEmbedding, \\\n",
        "                                                             \"TransformerEncoder\":TransformerEncoder, \\\n",
        "                                                             \"TransformerDecoder\":TransformerDecoder})\n",
        "\n",
        "# # load model in h5 format\n",
        "# transformer_loaded = keras.models.load_model(\\\n",
        "#                                             #  'tianliu_525004380_project2_transformer_final.best.h5', \\\n",
        "#                                              'tianliu_525004380_project2_transformer_trained_valacc0.8701.model.h5', \\\n",
        "#                                              custom_objects={\"PositionalEmbedding\":PositionalEmbedding,\\\n",
        "#                                                              \"TransformerEncoder\":TransformerEncoder, \\\n",
        "#                                                              \"TransformerDecoder\":TransformerDecoder})"
      ],
      "metadata": {
        "id": "YOA7gZhchuVo"
      },
      "execution_count": null,
      "outputs": []
    },
    {
      "cell_type": "code",
      "source": [
        "# load the model by loading the weights\n",
        "\n",
        "import tensorflow as tf\n",
        "from tensorflow import keras\n",
        "from tensorflow.keras import layers\n",
        "\n",
        "class TransformerEncoder(layers.Layer):\n",
        "    def __init__(self, embed_dim, dense_dim, num_heads, **kwargs):\n",
        "        super().__init__(**kwargs)\n",
        "        self.embed_dim = embed_dim\n",
        "        self.dense_dim = dense_dim\n",
        "        self.num_heads = num_heads\n",
        "        self.attention = layers.MultiHeadAttention(\n",
        "            num_heads=num_heads, key_dim=embed_dim)\n",
        "        self.dense_proj = keras.Sequential(\n",
        "            [layers.Dense(dense_dim, activation=\"relu\"),\n",
        "             layers.Dense(embed_dim),]\n",
        "        )\n",
        "        self.layernorm_1 = layers.LayerNormalization()\n",
        "        self.layernorm_2 = layers.LayerNormalization()\n",
        "\n",
        "    def call(self, inputs, mask=None):\n",
        "        if mask is not None:\n",
        "            mask = mask[:, tf.newaxis, :]\n",
        "        attention_output = self.attention(\n",
        "            inputs, inputs, attention_mask=mask)\n",
        "        proj_input = self.layernorm_1(inputs + attention_output)\n",
        "        proj_output = self.dense_proj(proj_input)\n",
        "        return self.layernorm_2(proj_input + proj_output)\n",
        "\n",
        "    def get_config(self):\n",
        "        config = super().get_config()\n",
        "        config.update({\n",
        "            \"embed_dim\": self.embed_dim,\n",
        "            \"num_heads\": self.num_heads,\n",
        "            \"dense_dim\": self.dense_dim,\n",
        "        })\n",
        "        return config\n",
        "\n",
        "class PositionalEmbedding(layers.Layer):\n",
        "    def __init__(self, sequence_length, input_dim, output_dim, **kwargs):\n",
        "        super().__init__(**kwargs)\n",
        "        self.token_embeddings = layers.Embedding(\n",
        "            input_dim=input_dim, output_dim=output_dim)\n",
        "        self.position_embeddings = layers.Embedding(\n",
        "            input_dim=sequence_length, output_dim=output_dim)\n",
        "        self.sequence_length = sequence_length\n",
        "        self.input_dim = input_dim\n",
        "        self.output_dim = output_dim\n",
        "\n",
        "    def call(self, inputs):\n",
        "        length = tf.shape(inputs)[-1]\n",
        "        positions = tf.range(start=0, limit=length, delta=1)\n",
        "        embedded_tokens = self.token_embeddings(inputs)\n",
        "        embedded_positions = self.position_embeddings(positions)\n",
        "        return embedded_tokens + embedded_positions # add up the word embedding and position embedding\n",
        "\n",
        "    def compute_mask(self, inputs, mask=None):\n",
        "        return tf.math.not_equal(inputs, 0)\n",
        "\n",
        "    def get_config(self):\n",
        "        config = super().get_config()\n",
        "        config.update({\n",
        "            \"output_dim\": self.output_dim,\n",
        "            \"sequence_length\": self.sequence_length,\n",
        "            \"input_dim\": self.input_dim,\n",
        "        })\n",
        "        return config\n",
        "\n",
        "class TransformerDecoder(layers.Layer):\n",
        "    def __init__(self, embed_dim, dense_dim, num_heads, **kwargs):\n",
        "        super().__init__(**kwargs)\n",
        "        self.embed_dim = embed_dim\n",
        "        self.dense_dim = dense_dim\n",
        "        self.num_heads = num_heads\n",
        "        self.attention_1 = layers.MultiHeadAttention(\n",
        "            num_heads=num_heads, key_dim=embed_dim)\n",
        "        self.attention_2 = layers.MultiHeadAttention(\n",
        "            num_heads=num_heads, key_dim=embed_dim)\n",
        "        self.dense_proj = keras.Sequential(\n",
        "            [layers.Dense(dense_dim, activation=\"relu\"),\n",
        "             layers.Dense(embed_dim),]\n",
        "        )\n",
        "        self.layernorm_1 = layers.LayerNormalization()\n",
        "        self.layernorm_2 = layers.LayerNormalization()\n",
        "        self.layernorm_3 = layers.LayerNormalization()\n",
        "        self.supports_masking = True\n",
        "\n",
        "    def get_config(self):\n",
        "        config = super().get_config()\n",
        "        config.update({\n",
        "            \"embed_dim\": self.embed_dim,\n",
        "            \"num_heads\": self.num_heads,\n",
        "            \"dense_dim\": self.dense_dim,\n",
        "        })\n",
        "        return config\n",
        "\n",
        "    def get_causal_attention_mask(self, inputs):\n",
        "        input_shape = tf.shape(inputs)\n",
        "        batch_size, sequence_length = input_shape[0], input_shape[1]\n",
        "        i = tf.range(sequence_length)[:, tf.newaxis]\n",
        "        j = tf.range(sequence_length)\n",
        "        mask = tf.cast(i >= j, dtype=\"int32\")\n",
        "        mask = tf.reshape(mask, (1, input_shape[1], input_shape[1]))\n",
        "        mult = tf.concat(\n",
        "            [tf.expand_dims(batch_size, -1),\n",
        "             tf.constant([1, 1], dtype=tf.int32)], axis=0)\n",
        "        return tf.tile(mask, mult)\n",
        "\n",
        "    def call(self, inputs, encoder_outputs, mask=None):\n",
        "        causal_mask = self.get_causal_attention_mask(inputs)\n",
        "        if mask is not None:\n",
        "            padding_mask = tf.cast(\n",
        "                mask[:, tf.newaxis, :], dtype=\"int32\")\n",
        "            padding_mask = tf.minimum(padding_mask, causal_mask)\n",
        "\n",
        "        attention_output_1 = self.attention_1(\n",
        "            query=inputs,\n",
        "            value=inputs,\n",
        "            key=inputs,\n",
        "            attention_mask=causal_mask)\n",
        "        \n",
        "        attention_output_1 = self.layernorm_1(inputs + attention_output_1)\n",
        "\n",
        "        attention_output_2 = self.attention_2(\n",
        "            query=attention_output_1,\n",
        "            value=encoder_outputs,\n",
        "            key=encoder_outputs,\n",
        "            attention_mask=padding_mask,\n",
        "        )\n",
        "        \n",
        "        attention_output_2 = self.layernorm_2(\n",
        "            attention_output_1 + attention_output_2)\n",
        "        \n",
        "        proj_output = self.dense_proj(attention_output_2)\n",
        "        \n",
        "        return self.layernorm_3(attention_output_2 + proj_output)\n",
        "\n",
        "embed_dim = 256\n",
        "dense_dim = 1024\n",
        "num_heads = 8\n",
        "vocab_size = 100\n",
        "\n",
        "encoder_inputs = keras.Input(shape=(None,), dtype=\"int64\", name=\"input\")\n",
        "x = PositionalEmbedding(sequence_length, vocab_size, embed_dim)(encoder_inputs)\n",
        "encoder_outputs = TransformerEncoder(embed_dim, dense_dim, num_heads)(x)\n",
        "\n",
        "decoder_inputs = keras.Input(shape=(None,), dtype=\"int64\", name=\"output\")\n",
        "x = PositionalEmbedding(sequence_length, vocab_size, embed_dim)(decoder_inputs)\n",
        "x = TransformerDecoder(embed_dim, dense_dim, num_heads)(x, encoder_outputs)\n",
        "x = layers.Dropout(0.5)(x)\n",
        "decoder_outputs = layers.Dense(vocab_size, activation=\"softmax\")(x)\n",
        "\n",
        "transformer_loaded = keras.Model([encoder_inputs, decoder_inputs], decoder_outputs)\n",
        "\n",
        "transformer_loaded.load_weights('tianliu_525004380_project2_transformer_final_0.9331.weights')"
      ],
      "metadata": {
        "id": "Td4jrovedJ-U",
        "outputId": "4085bd4f-487b-4bee-a613-19b9407751c5",
        "colab": {
          "base_uri": "https://localhost:8080/"
        }
      },
      "execution_count": 38,
      "outputs": [
        {
          "output_type": "execute_result",
          "data": {
            "text/plain": [
              "<tensorflow.python.training.tracking.util.CheckpointLoadStatus at 0x7f0a1c40e450>"
            ]
          },
          "metadata": {},
          "execution_count": 38
        }
      ]
    },
    {
      "cell_type": "code",
      "source": [
        "transformer_loaded = transformer"
      ],
      "metadata": {
        "id": "zbHn0Q7I93OQ"
      },
      "execution_count": 28,
      "outputs": []
    },
    {
      "cell_type": "markdown",
      "source": [
        "#### To run trained model on test data"
      ],
      "metadata": {
        "id": "ruHExcOi7gFc"
      }
    },
    {
      "cell_type": "markdown",
      "source": [
        "Note: before run the trained model to generate translated text for the testing data, the `source_vectorization` and `target_vectorization` have to be initialized by loading the `train_pairs`, such that the test input can be vectorized using the same training input vocabulary, and the predicted results can be decoded using the same training output vocabulary."
      ],
      "metadata": {
        "id": "Xiy5o2NRcguC"
      }
    },
    {
      "cell_type": "code",
      "source": [
        "# initialize the source_vectorization and target_vectorization\n",
        "\n",
        "import tensorflow as tf\n",
        "from tensorflow.keras import layers\n",
        "import string\n",
        "import re\n",
        "import pickle\n",
        "\n",
        "strip_chars = string.punctuation\n",
        "# print(type(strip_chars))\n",
        "\n",
        "strip_chars = strip_chars.replace(\"[\", \"\") # will keep [start] and [end] as it is to separate the marker from actual word start and end\n",
        "strip_chars = strip_chars.replace(\"]\", \"\")\n",
        "\n",
        "def custom_standardization(input_string):\n",
        "    lowercase = tf.strings.lower(input_string)\n",
        "    return tf.strings.regex_replace(\n",
        "        lowercase, f\"[{re.escape(strip_chars)}]\", \"\") # replace punctuation characters with the empty string\n",
        "\n",
        "vocab_size = 40 \n",
        "sequence_length = 100 # max seq length seen in train data is 95\n",
        "\n",
        "source_vectorization = layers.TextVectorization(\n",
        "    max_tokens=vocab_size,\n",
        "    output_mode=\"int\",\n",
        "    output_sequence_length=sequence_length,\n",
        ")\n",
        "\n",
        "target_vectorization = layers.TextVectorization(\n",
        "    max_tokens=vocab_size,\n",
        "    output_mode=\"int\",\n",
        "    output_sequence_length=sequence_length + 1,\n",
        "    standardize=custom_standardization,\n",
        ")\n",
        "\n",
        "train_pairs_loaded = pickle.load(open('text_pairs', 'rb')) # load the train_pairs\n",
        "\n",
        "train_input_texts = [pair[0] for pair in train_pairs_loaded]\n",
        "train_output_texts = [pair[1] for pair in train_pairs_loaded]\n",
        "\n",
        "source_vectorization.adapt(train_input_texts)\n",
        "target_vectorization.adapt(train_output_texts)\n",
        "\n",
        "print(len(source_vectorization.get_vocabulary()))\n",
        "print(len(target_vectorization.get_vocabulary()))"
      ],
      "metadata": {
        "colab": {
          "base_uri": "https://localhost:8080/"
        },
        "id": "uF9q7zciczSZ",
        "outputId": "8f33d76a-b45a-4690-885b-b100259039b4"
      },
      "execution_count": null,
      "outputs": [
        {
          "output_type": "stream",
          "name": "stdout",
          "text": [
            "13\n",
            "38\n"
          ]
        }
      ]
    },
    {
      "cell_type": "markdown",
      "source": [
        "Notice that the following decoding process would be long if the testing dataset is large."
      ],
      "metadata": {
        "id": "LXtNpv0Zm-o3"
      }
    },
    {
      "cell_type": "code",
      "source": [
        "# preprocess the testing input data\n",
        "\n",
        "import pickle\n",
        "\n",
        "# test_input = pickle.load(open('DS_5_test_input', 'rb')) # load the test input data\n",
        "\n",
        "# test_input_texts = [pair[0] for pair in train_pairs]\n",
        "# test_output_texts = [strip_markers(pair[1]) for pair in train_pairs]\n",
        "\n",
        "test_input_texts = [pair[0] for pair in val_pairs]\n",
        "test_output_texts = [strip_markers(pair[1]) for pair in val_pairs]\n",
        "\n",
        "test_input = test_input_texts[-10:]\n",
        "test_output = test_output_texts[-10:]\n",
        "\n",
        "import numpy as np\n",
        "from tqdm import tqdm\n",
        "\n",
        "spa_vocab = target_vectorization.get_vocabulary()\n",
        "spa_index_lookup = dict(zip(range(len(spa_vocab)), spa_vocab))\n",
        "max_decoded_sentence_length = 100 # here we use max seq of 100\n",
        "\n",
        "def strip_markers(sentence):\n",
        "  # strip the leading [start] and tailing [end] if existing\n",
        "\n",
        "  words = sentence.split()\n",
        "  if words[0] == \"[start]\":\n",
        "    clean_words = words[1:]\n",
        "  else:\n",
        "    clean_words = words\n",
        "  \n",
        "  if clean_words[-1] == \"[end]\":\n",
        "    clean_words = clean_words[:-1]\n",
        "  else:\n",
        "    clean_words = clean_words\n",
        "\n",
        "  clean_text = \" \".join(clean_words)\n",
        "  return clean_text\n",
        "\n",
        "def decode_sequence(input_sentence):\n",
        "    tokenized_input_sentence = source_vectorization([input_sentence])\n",
        "    decoded_sentence = \"[start]\"\n",
        "    for i in range(max_decoded_sentence_length):\n",
        "        tokenized_target_sentence = target_vectorization(\n",
        "            [decoded_sentence])[:, :-1]\n",
        "        predictions = transformer_loaded(\n",
        "            [tokenized_input_sentence, tokenized_target_sentence])\n",
        "        sampled_token_index = np.argmax(predictions[0, i, :])\n",
        "        sampled_token = spa_index_lookup[sampled_token_index]\n",
        "        decoded_sentence += \" \" + sampled_token\n",
        "        if sampled_token == \"[end]\":\n",
        "            break\n",
        "\n",
        "    return decoded_sentence\n",
        "\n",
        "# run the trained mode to get the predicted output\n",
        "test_pred = []\n",
        "for test_sentence in tqdm(test_input):\n",
        "  test_pred.append(strip_markers(decode_sequence(test_sentence)))"
      ],
      "metadata": {
        "colab": {
          "base_uri": "https://localhost:8080/"
        },
        "id": "kU8WRl3mh3hS",
        "outputId": "2de17b68-b69e-4912-ead4-61b65e932577"
      },
      "execution_count": 41,
      "outputs": [
        {
          "output_type": "stream",
          "name": "stderr",
          "text": [
            "100%|██████████| 10/10 [00:24<00:00,  2.47s/it]\n"
          ]
        }
      ]
    },
    {
      "cell_type": "markdown",
      "source": [
        "#### To calculate the \"accuracy for words\""
      ],
      "metadata": {
        "id": "TLtDxKDXcjja"
      }
    },
    {
      "cell_type": "markdown",
      "source": [
        "From here you can calculate the test accuracy using the \"accuracy for words\" metric (you can use your own or use my implementation below)"
      ],
      "metadata": {
        "id": "cwx7L7A374Bx"
      }
    },
    {
      "cell_type": "code",
      "source": [
        "def calculate_word_acc(target_texts, pred_texts):\n",
        "\n",
        "  total_ct = 0\n",
        "  match_ct = 0\n",
        "\n",
        "  assert(len(target_texts)==len(pred_texts)) # assert target sentence number match pred sentence number\n",
        "  \n",
        "  text_pairs = zip(target_texts, pred_texts) \n",
        "  for pair in text_pairs: # loop through each sentence\n",
        "    target = pair[0]\n",
        "    pred = pair[1]\n",
        "    print()\n",
        "    print(\"target:\", target)\n",
        "    print(\"predic:\", pred)\n",
        "    \n",
        "    target_words = target.split()\n",
        "    pred_words = pred.split()\n",
        "\n",
        "    total_ct += len(target_words)\n",
        "    min_len = min(len(target_words), len(pred_words))\n",
        "    print('target_len:', len(target_words))\n",
        "    print('pred_len:', len(pred_words))\n",
        "    \n",
        "    m_ct = 0\n",
        "    for i in range(min_len): # loop through each word\n",
        "      if target_words[i] == pred_words[i]:\n",
        "        m_ct += 1\n",
        "        match_ct += 1\n",
        "    \n",
        "    print('m_ct', m_ct)\n",
        "    print('match_ct', match_ct)\n",
        "    print('total_ct', total_ct)\n",
        "    \n",
        "  word_acc = match_ct / total_ct\n",
        "  return word_acc\n",
        "\n",
        "# load the test output data\n",
        "# test_output = pickle.load(open('DS_5_test_output', 'rb'))\n",
        "\n",
        "acc = calculate_word_acc(test_output, test_pred)\n",
        "print(\"testing accuracy is\", acc)"
      ],
      "metadata": {
        "colab": {
          "base_uri": "https://localhost:8080/"
        },
        "id": "j2HfL43vh-BS",
        "outputId": "ab760f2d-0fd7-4dc1-fe88-56993571ff28"
      },
      "execution_count": 42,
      "outputs": [
        {
          "output_type": "stream",
          "name": "stdout",
          "text": [
            "\n",
            "target: b e c g b f c f c d c e a i g h i a h e f j a d d k c e a e m a d l ed b f c f a d ef eg c d a k eh ei b e c f a j ej ek el c e a d em fd a g ee fe c e c f a g fg fh a k ff fi c g a f fj fk\n",
            "predic: b e c g b f c f c d c e a i g h i a h e f j a d d k c e a e m a d l ed c f a g ee ef b f c f a d eh ei c e a k ej ek c f a d el em a g eg fd c e c e c e c f a g fh fi a h ff fg fj a f fe fk\n",
            "target_len: 86\n",
            "pred_len: 86\n",
            "m_ct 45\n",
            "match_ct 45\n",
            "total_ct 86\n",
            "\n",
            "target: b f c g b f a h d e f a e g c f c g c g c e b d a e m b f a i l ed ee b g a k ef eg a d k eh c f a d ei ej a h i j ek b f a e em a e fd a d el fe c g a i h ff fg\n",
            "predic: b f c g b f a h d e f a e g c f c g c g c e b d a e m b f a i l ed ee a d k ef a h i j eg b g a h h eh ei a e ej c f a d ek el a h g em b f e e fe c g c g a i fd ff fg\n",
            "target_len: 74\n",
            "pred_len: 77\n",
            "m_ct 35\n",
            "match_ct 80\n",
            "total_ct 160\n",
            "\n",
            "target: c d b f c g a k e f c f b e a i g h i c e c f a f k l b g c f b g a f ee ef a f ed eg a k m eh a d j ei c g a j d ej ek\n",
            "predic: c d b f c g a k e f c f b e a i g h i c e c f a f k l b g c f b g a f ee ef a f ed eg a k m eh a d j ei c g a j d ej ek\n",
            "target_len: 56\n",
            "pred_len: 56\n",
            "m_ct 56\n",
            "match_ct 136\n",
            "total_ct 216\n",
            "\n",
            "target: b d c d b d c d a e g a g f h a e i b e b g a k k l a g j m b f a e ee c e c f c f a e ei a g eh ej a d eg ek b e a g el em a g ef fd a f ed fe a d e ff c g a j d fg fh c g a f fi fj b g b e a e fm a i fk fl gd\n",
            "predic: b d c d b g c d a e g a g f h a e i b e b g a k k l a g j m b f a e ee c e c f c f a e ei a g eh ej a d eg ek b e a g el em a g ef fd a f ed fe a d e ff c g a j d fg fh c g a f fi fj b g b e a e fm a i fk fl gd\n",
            "target_len: 95\n",
            "pred_len: 95\n",
            "m_ct 94\n",
            "match_ct 230\n",
            "total_ct 311\n",
            "\n",
            "target: b g b f b d c g a g f g b g b g a d i j c d a h h k l a j d e m b d a e ee a g ed ef c d b f a g eh ei a g eg ej\n",
            "predic: b g b f b d c g a g f g b g b g a d i j c d a h h k l a j d e m b d a e ee a g ed ef c d b f a g eh ei a g eg ej\n",
            "target_len: 53\n",
            "pred_len: 53\n",
            "m_ct 53\n",
            "match_ct 283\n",
            "total_ct 364\n",
            "\n",
            "target: b e c g c g c d b d a e h a d g i c g c g a k k l b f a j j m ed a d f ee c e a i e ef eg a k d eh c f c g b g c f a h ek el em c f b g a k fe ff a h ej fd fg c g a g fh fi a g ei fj\n",
            "predic: b e c g c g c d b d a e h a d g i c g c g a k k l b f a j j m ed a d f ee c e a i e ef eg a k d eh c f b g c f a h ej ek el a k ei em c f b g a k fe ff c g a h fd fg fh c g a g fi fj\n",
            "target_len: 83\n",
            "pred_len: 83\n",
            "m_ct 53\n",
            "match_ct 336\n",
            "total_ct 447\n",
            "\n",
            "target: c e c e b e b f b g b f b d b g a e k c e a f l m a e ed a d j ee a g i ef c d a i h eg eh b f a g ei ej a f g ek c f c e a g em fd a i f el fe a h d e ff\n",
            "predic: c e c e b e b f b g b f b d b g a e k c e a f l m a e ed a d j ee a g i ef c d a i h eg eh b f a g ei ej a f g ek c f c e a g em fd a i f el fe a h d e ff\n",
            "target_len: 71\n",
            "pred_len: 71\n",
            "m_ct 71\n",
            "match_ct 407\n",
            "total_ct 518\n",
            "\n",
            "target: c d c e b g c g a j e f g c e c f c f a g j k a d i l c d a g m ed a h d h ee a e ef b g c g b e a g ei ej a d eh ek a e el b d c e a e fe a i em fd ff a f eg fg\n",
            "predic: c d c e b g c g a j e f g c e c f c f a g j k a d i l c d a g m ed a h d h ee a e ef b g c g b e a g ei ej a e ek b d a i eg el em b d a g fd fe a e ff a f eh fg\n",
            "target_len: 74\n",
            "pred_len: 74\n",
            "m_ct 56\n",
            "match_ct 463\n",
            "total_ct 592\n",
            "\n",
            "target: b e b e c g c g a g f g c f a f h i b f a e k a d j l a g e m c e a e ee a d ed ef b g b g a g eh ei b f a k ej ek b f b g a k em fd b e a k fe ff a e fg a i eg el fh a f d fi b g c e a h fj fk fl\n",
            "predic: b e b e c g c g a g f g c f a f h i b f a e k a d j l a g e m c e a e ee a d ed ef b g b g a g eh ei b f a k ej ek b f b g a k em fd b e a k fe ff a e fg a i eg el fh a f d fi b g c e a h fj fk fl\n",
            "target_len: 89\n",
            "pred_len: 89\n",
            "m_ct 89\n",
            "match_ct 552\n",
            "total_ct 681\n",
            "\n",
            "target: b e b e b g b e a g f g b g c g b f a d j k a i h i l a i d e m b e b g c e a i ee ef eg a k ed eh c f a f ei ej\n",
            "predic: b e b e b g b e a g f g b g c g b f a d j k a i h i l a i d e m b e b g c e a i ee ef eg a k ed eh c f a f ei ej\n",
            "target_len: 53\n",
            "pred_len: 53\n",
            "m_ct 53\n",
            "match_ct 605\n",
            "total_ct 734\n",
            "testing accuracy is 0.8242506811989101\n"
          ]
        }
      ]
    }
  ]
}