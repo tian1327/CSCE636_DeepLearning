{
  "nbformat": 4,
  "nbformat_minor": 0,
  "metadata": {
    "colab": {
      "name": "Project1_NoisyMNIST.ipynb",
      "provenance": [],
      "collapsed_sections": [],
      "toc_visible": true
    },
    "kernelspec": {
      "name": "python3",
      "display_name": "Python 3"
    },
    "language_info": {
      "name": "python"
    },
    "accelerator": "GPU"
  },
  "cells": [
    {
      "cell_type": "markdown",
      "source": [
        "Explanation:  \n",
        "\n",
        "In this project, I implemented a CNN model to classify the noist MNIST dataset. To prevent the model from overfitting the noises in the images, I added the dropout layers after convolutional layers. To help model learn to recognize the true features of various numbers, I augmented the data by adding the original clean images to the given training dataset. The original given training data was splitted into training and validation dataset in 9:1 splitting ratio.\n",
        "\n",
        "After tuning the hyperparameters using the validation set, the model was then retrained on the entire training dataset. The trained model was then saved and submitted for testing set.\n",
        "\n",
        "\n",
        "To load the trained model for testing on the withheld testing data, please reshape and rescale the testing tensor first. (Please See code/instructions at the end section.)\n",
        "\n"
      ],
      "metadata": {
        "id": "fB7_CgkhnJ89"
      }
    },
    {
      "cell_type": "code",
      "source": [
        "!nvidia-smi"
      ],
      "metadata": {
        "colab": {
          "base_uri": "https://localhost:8080/"
        },
        "id": "da057RQI630x",
        "outputId": "18ca75bc-1f60-4c44-eddd-a726a3822df5"
      },
      "execution_count": null,
      "outputs": [
        {
          "output_type": "stream",
          "name": "stdout",
          "text": [
            "Wed Apr 13 03:15:54 2022       \n",
            "+-----------------------------------------------------------------------------+\n",
            "| NVIDIA-SMI 460.32.03    Driver Version: 460.32.03    CUDA Version: 11.2     |\n",
            "|-------------------------------+----------------------+----------------------+\n",
            "| GPU  Name        Persistence-M| Bus-Id        Disp.A | Volatile Uncorr. ECC |\n",
            "| Fan  Temp  Perf  Pwr:Usage/Cap|         Memory-Usage | GPU-Util  Compute M. |\n",
            "|                               |                      |               MIG M. |\n",
            "|===============================+======================+======================|\n",
            "|   0  Tesla T4            Off  | 00000000:00:04.0 Off |                    0 |\n",
            "| N/A   41C    P8    10W /  70W |      0MiB / 15109MiB |      0%      Default |\n",
            "|                               |                      |                  N/A |\n",
            "+-------------------------------+----------------------+----------------------+\n",
            "                                                                               \n",
            "+-----------------------------------------------------------------------------+\n",
            "| Processes:                                                                  |\n",
            "|  GPU   GI   CI        PID   Type   Process name                  GPU Memory |\n",
            "|        ID   ID                                                   Usage      |\n",
            "|=============================================================================|\n",
            "|  No running processes found                                                 |\n",
            "+-----------------------------------------------------------------------------+\n"
          ]
        }
      ]
    },
    {
      "cell_type": "markdown",
      "source": [
        "##### Mount the drive"
      ],
      "metadata": {
        "id": "FVPEJSLclTtS"
      }
    },
    {
      "cell_type": "code",
      "execution_count": null,
      "metadata": {
        "colab": {
          "base_uri": "https://localhost:8080/"
        },
        "id": "rd79IUkjXT53",
        "outputId": "14ef5021-dad6-4521-c20d-b0258f5c98a7"
      },
      "outputs": [
        {
          "output_type": "stream",
          "name": "stdout",
          "text": [
            "Mounted at /content/drive\n"
          ]
        }
      ],
      "source": [
        "from google.colab import drive\n",
        "drive.mount('/content/drive')"
      ]
    },
    {
      "cell_type": "code",
      "source": [
        "%cd 'drive/MyDrive/Colab Notebooks/CSCE636_DeepLearning/'"
      ],
      "metadata": {
        "colab": {
          "base_uri": "https://localhost:8080/"
        },
        "id": "rR4FebIXXWCA",
        "outputId": "c7e4ba3d-5fcf-4fe1-addd-cbe74d6aceef"
      },
      "execution_count": null,
      "outputs": [
        {
          "output_type": "stream",
          "name": "stdout",
          "text": [
            "/content/drive/MyDrive/Colab Notebooks/CSCE636_DeepLearning\n"
          ]
        }
      ]
    },
    {
      "cell_type": "markdown",
      "source": [
        "#### Load data and preprocess"
      ],
      "metadata": {
        "id": "tAW3DN03lY-z"
      }
    },
    {
      "cell_type": "code",
      "source": [
        "import pickle\n",
        "import numpy as np\n",
        "\n",
        "train_images = pickle.load(open('636_project1_train_images', 'rb'))\n",
        "train_labels = pickle.load(open('636_project1_train_labels', 'rb'))\n",
        "\n",
        "# check dimension\n",
        "print(type(train_images))\n",
        "print(train_images.shape)\n",
        "print(type(train_labels))\n",
        "print(train_labels.shape)\n",
        "\n",
        "print(np.amax(train_images[:,:]))\n",
        "\n",
        "# reshape and normalize the image tensors\n",
        "train_images = np.array(train_images).reshape((60000, 28, 28, 1))\n",
        "train_images = train_images.astype(\"float32\") / 255.\n",
        "train_labels = np.array(train_labels)\n",
        "\n",
        "print(type(train_images))\n",
        "print(train_images.shape)\n",
        "print(type(train_labels))\n",
        "print(train_labels.shape)\n",
        "print(np.amax(train_images[:,:]))"
      ],
      "metadata": {
        "colab": {
          "base_uri": "https://localhost:8080/"
        },
        "id": "qLiIuXyXXjk2",
        "outputId": "9431bf83-5fda-41c2-e73f-1d2543456535"
      },
      "execution_count": null,
      "outputs": [
        {
          "output_type": "stream",
          "name": "stdout",
          "text": [
            "<class 'tensorflow.python.framework.ops.EagerTensor'>\n",
            "(60000, 28, 28)\n",
            "<class 'tensorflow.python.framework.ops.EagerTensor'>\n",
            "(60000,)\n",
            "255\n",
            "<class 'numpy.ndarray'>\n",
            "(60000, 28, 28, 1)\n",
            "<class 'numpy.ndarray'>\n",
            "(60000,)\n",
            "1.0\n"
          ]
        }
      ]
    },
    {
      "cell_type": "markdown",
      "source": [
        "Here we plot the sampled training images, tried to use a median filter / thresholding to smooth the noise. But none of these helped the training."
      ],
      "metadata": {
        "id": "4cNQtrwKnwns"
      }
    },
    {
      "cell_type": "code",
      "source": [
        "# plot sample images\n",
        "\n",
        "from scipy import ndimage\n",
        "import cv2\n",
        "from numpy import random\n",
        "import matplotlib.pyplot as plt\n",
        "from tqdm import tqdm\n",
        "\n",
        "def filter_image(sample):\n",
        "\n",
        "  result = ndimage.median_filter(sample, size=2) # hurt the original pixels\n",
        "  # result = cv2.medianBlur(sample, 3)\n",
        "  # result = cv2.GaussianBlur(sample, (3,3), 0)\n",
        "  # result = sample\n",
        "\n",
        "  # dim1, dim2 = sample.shape[:2]\n",
        "  # result = np.zeros((dim1,dim2))\n",
        "  # for i in range(dim1):\n",
        "  #   for j in range(dim2):\n",
        "  #     if sample[i,j] > 0.1:\n",
        "  #       result[i,j] = sample[i,j]\n",
        "\n",
        "  return result\n",
        "\n",
        "num_sample = 10\n",
        "idx = [random.randint(0, train_images.shape[0]) for i in range(num_sample)]\n",
        "\n",
        "# plot original noisy images\n",
        "fig, axes = plt.subplots(1, 10)\n",
        "fig.set_figheight(3)\n",
        "fig.set_figwidth(3*num_sample)\n",
        "for i in range(num_sample):\n",
        "  sample_img = train_images[idx[i], :].reshape(28, 28)\n",
        "  im = axes[i].imshow(sample_img, cmap='Greys') #vmax=0.5\n",
        "  axes[i].set_title('Label: {}'.format(train_labels[idx[i]]))\n",
        "\n",
        "# fig.colorbar(im, ax=axes[num_sample-1])\n",
        "plt.tight_layout()\n",
        "plt.show()\n",
        "\n",
        "# plot images after median filter\n",
        "fig, axes = plt.subplots(1, 10)\n",
        "fig.set_figheight(3)\n",
        "fig.set_figwidth(3*num_sample)\n",
        "for i in tqdm(range(num_sample)):\n",
        "  sample_img = train_images[idx[i], :]\n",
        "  sample_img = filter_image(sample_img)\n",
        "  axes[i].imshow(sample_img.reshape(28,28), cmap='Greys')\n",
        "  axes[i].set_title('Label: {}'.format(train_labels[idx[i]]))\n",
        "\n",
        "plt.tight_layout()\n",
        "plt.show()"
      ],
      "metadata": {
        "colab": {
          "base_uri": "https://localhost:8080/",
          "height": 354
        },
        "id": "meZV9rx1pUn-",
        "outputId": "68ee1a7d-a027-4750-95e4-54a200de8100"
      },
      "execution_count": null,
      "outputs": [
        {
          "output_type": "display_data",
          "data": {
            "text/plain": [
              "<Figure size 2160x216 with 10 Axes>"
            ],
            "image/png": "[encoded data removed]"
          },
          "metadata": {
            "needs_background": "light"
          }
        },
        {
          "output_type": "stream",
          "name": "stderr",
          "text": [
            "100%|██████████| 10/10 [00:00<00:00, 700.52it/s]\n"
          ]
        },
        {
          "output_type": "display_data",
          "data": {
            "text/plain": [
              "<Figure size 2160x216 with 10 Axes>"
            ],
            "image/png": "[encoded data removed]"
          },
          "metadata": {
            "needs_background": "light"
          }
        }
      ]
    },
    {
      "cell_type": "markdown",
      "source": [
        "#### Split given data into train and val set"
      ],
      "metadata": {
        "id": "9X_txPYLoQOS"
      }
    },
    {
      "cell_type": "code",
      "source": [
        "# split into train and val dataset\n",
        "\n",
        "from sklearn.model_selection import train_test_split\n",
        "\n",
        "X_train, X_val, y_train, y_val = train_test_split(train_images, train_labels, test_size=0.1, shuffle=True)\n",
        "print(X_train.shape)\n",
        "print(y_train.shape)\n",
        "print(X_val.shape)\n",
        "print(y_val.shape)"
      ],
      "metadata": {
        "colab": {
          "base_uri": "https://localhost:8080/"
        },
        "id": "DW9J5aveYKXZ",
        "outputId": "ef612dc1-0c7a-4eec-e0e0-df5fde495607"
      },
      "execution_count": null,
      "outputs": [
        {
          "output_type": "stream",
          "name": "stdout",
          "text": [
            "(54000, 28, 28, 1)\n",
            "(54000,)\n",
            "(6000, 28, 28, 1)\n",
            "(6000,)\n"
          ]
        }
      ]
    },
    {
      "cell_type": "markdown",
      "source": [
        "Add original MNIST train and test data to the training dataset to help the model learn better"
      ],
      "metadata": {
        "id": "i8n8d01NtTVP"
      }
    },
    {
      "cell_type": "code",
      "source": [
        "from tensorflow.keras.datasets import mnist\n",
        "\n",
        "(train_images_clean, train_labels_clean), (test_images_clean, test_labels_clean) = mnist.load_data()\n",
        "train_images_clean = train_images_clean.reshape((60000, 28, 28, 1))\n",
        "train_images_clean = train_images_clean.astype(\"float32\") / 255\n",
        "test_images_clean = test_images_clean.reshape((10000, 28, 28, 1))\n",
        "test_images_clean = test_images_clean.astype(\"float32\") / 255"
      ],
      "metadata": {
        "id": "0-jHkWRntakD",
        "colab": {
          "base_uri": "https://localhost:8080/"
        },
        "outputId": "8a37bf23-bf6c-4231-be3c-f8ff6df1b5ca"
      },
      "execution_count": null,
      "outputs": [
        {
          "output_type": "stream",
          "name": "stdout",
          "text": [
            "Downloading data from https://storage.googleapis.com/tensorflow/tf-keras-datasets/mnist.npz\n",
            "11493376/11490434 [==============================] - 0s 0us/step\n",
            "11501568/11490434 [==============================] - 0s 0us/step\n"
          ]
        }
      ]
    },
    {
      "cell_type": "code",
      "source": [
        "# concatenate the noisy train data with the original train and test data\n",
        "X_train_agg = np.vstack([X_train, train_images_clean, test_images_clean])\n",
        "y_train_agg = np.concatenate([y_train, train_labels_clean, test_labels_clean])\n",
        "\n",
        "print(X_train_agg.shape)\n",
        "print(y_train_agg.shape)"
      ],
      "metadata": {
        "id": "FASDu1_vU7It",
        "colab": {
          "base_uri": "https://localhost:8080/"
        },
        "outputId": "5e3ed513-7eca-4f4c-dba7-5551c3a64b23"
      },
      "execution_count": null,
      "outputs": [
        {
          "output_type": "stream",
          "name": "stdout",
          "text": [
            "(124000, 28, 28, 1)\n",
            "(124000,)\n"
          ]
        }
      ]
    },
    {
      "cell_type": "markdown",
      "source": [
        "#### Define CNN model"
      ],
      "metadata": {
        "id": "7Yf1pGvplkhE"
      }
    },
    {
      "cell_type": "markdown",
      "source": [
        "Here, I tried  \n",
        "\n",
        "1.   augment the data by adding some Gaussian Noises,\n",
        "2.   add an encoder-decoder structure before classifier\n",
        "3.   change optimizer and learning rate schedules\n",
        "4.   add dropout layer, BatchNormalization, Regularizer\n",
        "\n",
        "Only find adding the dropout layer helped improved the performance.\n",
        "\n"
      ],
      "metadata": {
        "id": "KSuTVmxvpRUv"
      }
    },
    {
      "cell_type": "code",
      "source": [
        "from tensorflow import keras\n",
        "from tensorflow.keras import layers\n",
        "\n",
        "data_augmentation = keras.Sequential(\n",
        "    [\n",
        "        # layers.Rescaling(scale=1./255),\n",
        "        layers.RandomRotation(0.2),\n",
        "        layers.RandomZoom(0.2),\n",
        "        \n",
        "        # maybe add some noises here as well\n",
        "        # layers.GaussianNoise(1.0),\n",
        "    ]\n",
        ")\n",
        "\n",
        "\n",
        "inputs = keras.Input(shape=(28, 28, 1))\n",
        "# data augmentation\n",
        "# x = data_augmentation(inputs)\n",
        "x = inputs\n",
        "\n",
        "x = layers.Conv2D(filters=256, kernel_size=2, activation=\"relu\")(x)\n",
        "x = layers.MaxPooling2D(pool_size=2)(x)\n",
        "# x = layers.BatchNormalization()(x)\n",
        "# x = layers.Dropout(0.5)(x)\n",
        "\n",
        "x = layers.Conv2D(filters=128, kernel_size=2, activation=\"relu\")(x)\n",
        "x = layers.MaxPooling2D(pool_size=2)(x)\n",
        "# x = layers.BatchNormalization()(x)\n",
        "# x = layers.Dropout(0.5)(x)\n",
        "\n",
        "x = layers.Conv2D(filters=64, kernel_size=2, activation=\"relu\")(x)\n",
        "x = layers.Flatten()(x)\n",
        "# x = layers.BatchNormalization()(x)\n",
        "x = layers.Dropout(0.5)(x)\n",
        "\n",
        "# x = layers.Dense(256, activation='relu')(x)\n",
        "# x = layers.Dropout(0.5)(x)\n",
        "\n",
        "outputs = layers.Dense(10, activation=\"softmax\")(x)\n",
        "\n",
        "model = keras.Model(inputs=inputs, outputs=outputs)"
      ],
      "metadata": {
        "id": "kF6nzMaYX6U5"
      },
      "execution_count": null,
      "outputs": []
    },
    {
      "cell_type": "code",
      "source": [
        "import tensorflow as tf\n",
        "\n",
        "# use learning rate decay \n",
        "\n",
        "# lr_schedule = keras.optimizers.schedules.ExponentialDecay(\n",
        "#     initial_learning_rate=1e-2,\n",
        "#     decay_steps=2000,\n",
        "#     decay_rate=0.9)\n",
        "\n",
        "# opt = keras.optimizers.SGD(learning_rate=lr_schedule)\n",
        "# opt = tf.keras.optimizers.Adam(learning_rate=0.001)\n",
        "\n",
        "model.compile(\n",
        "              optimizer=\"adam\",\n",
        "              # optimizer=opt,\n",
        "              loss=\"sparse_categorical_crossentropy\",\n",
        "              metrics=[\"accuracy\"])\n",
        "\n",
        "# history = model.fit(X_train, y_train, epochs=50, batch_size=256, validation_data=(X_val, y_val), shuffle=True)\n",
        "\n",
        "# use aggregated train and val data\n",
        "history = model.fit(X_train_agg, y_train_agg, epochs=50, batch_size=256, validation_data=(X_val, y_val), shuffle=True) #,  callbacks=callbacks"
      ],
      "metadata": {
        "colab": {
          "base_uri": "https://localhost:8080/"
        },
        "id": "LMKYLkj4YAsY",
        "outputId": "e1ff8d58-1da3-4c98-925f-e23cf656db2d"
      },
      "execution_count": null,
      "outputs": [
        {
          "output_type": "stream",
          "name": "stdout",
          "text": [
            "Epoch 1/50\n",
            "485/485 [==============================] - 72s 29ms/step - loss: 0.9926 - accuracy: 0.6566 - val_loss: 1.5106 - val_accuracy: 0.4827\n",
            "Epoch 2/50\n",
            "485/485 [==============================] - 14s 28ms/step - loss: 0.7083 - accuracy: 0.7599 - val_loss: 1.3208 - val_accuracy: 0.5530\n",
            "Epoch 3/50\n",
            "485/485 [==============================] - 14s 28ms/step - loss: 0.6395 - accuracy: 0.7826 - val_loss: 1.2567 - val_accuracy: 0.5758\n",
            "Epoch 4/50\n",
            "485/485 [==============================] - 14s 28ms/step - loss: 0.5999 - accuracy: 0.7971 - val_loss: 1.1921 - val_accuracy: 0.5913\n",
            "Epoch 5/50\n",
            "485/485 [==============================] - 14s 28ms/step - loss: 0.5735 - accuracy: 0.8057 - val_loss: 1.1469 - val_accuracy: 0.6035\n",
            "Epoch 6/50\n",
            "485/485 [==============================] - 14s 29ms/step - loss: 0.5532 - accuracy: 0.8132 - val_loss: 1.1239 - val_accuracy: 0.6128\n",
            "Epoch 7/50\n",
            "485/485 [==============================] - 14s 29ms/step - loss: 0.5383 - accuracy: 0.8174 - val_loss: 1.1018 - val_accuracy: 0.6200\n",
            "Epoch 8/50\n",
            "485/485 [==============================] - 14s 29ms/step - loss: 0.5285 - accuracy: 0.8210 - val_loss: 1.0874 - val_accuracy: 0.6245\n",
            "Epoch 9/50\n",
            "485/485 [==============================] - 14s 29ms/step - loss: 0.5179 - accuracy: 0.8238 - val_loss: 1.1166 - val_accuracy: 0.6223\n",
            "Epoch 10/50\n",
            "485/485 [==============================] - 14s 29ms/step - loss: 0.5094 - accuracy: 0.8259 - val_loss: 1.0632 - val_accuracy: 0.6362\n",
            "Epoch 11/50\n",
            "485/485 [==============================] - 14s 29ms/step - loss: 0.5011 - accuracy: 0.8298 - val_loss: 1.0629 - val_accuracy: 0.6367\n",
            "Epoch 12/50\n",
            "485/485 [==============================] - 14s 29ms/step - loss: 0.4940 - accuracy: 0.8312 - val_loss: 1.0741 - val_accuracy: 0.6285\n",
            "Epoch 13/50\n",
            "485/485 [==============================] - 14s 29ms/step - loss: 0.4885 - accuracy: 0.8341 - val_loss: 1.0514 - val_accuracy: 0.6403\n",
            "Epoch 14/50\n",
            "485/485 [==============================] - 14s 29ms/step - loss: 0.4836 - accuracy: 0.8350 - val_loss: 1.0555 - val_accuracy: 0.6407\n",
            "Epoch 15/50\n",
            "485/485 [==============================] - 14s 29ms/step - loss: 0.4759 - accuracy: 0.8379 - val_loss: 1.0566 - val_accuracy: 0.6403\n",
            "Epoch 16/50\n",
            "485/485 [==============================] - 14s 29ms/step - loss: 0.4724 - accuracy: 0.8384 - val_loss: 1.0868 - val_accuracy: 0.6345\n",
            "Epoch 17/50\n",
            "485/485 [==============================] - 14s 29ms/step - loss: 0.4676 - accuracy: 0.8405 - val_loss: 1.0523 - val_accuracy: 0.6395\n",
            "Epoch 18/50\n",
            "485/485 [==============================] - 14s 29ms/step - loss: 0.4633 - accuracy: 0.8417 - val_loss: 1.0568 - val_accuracy: 0.6390\n",
            "Epoch 19/50\n",
            "485/485 [==============================] - 14s 29ms/step - loss: 0.4586 - accuracy: 0.8431 - val_loss: 1.0593 - val_accuracy: 0.6407\n",
            "Epoch 20/50\n",
            "485/485 [==============================] - 14s 29ms/step - loss: 0.4548 - accuracy: 0.8442 - val_loss: 1.0665 - val_accuracy: 0.6395\n",
            "Epoch 21/50\n",
            "485/485 [==============================] - 14s 29ms/step - loss: 0.4505 - accuracy: 0.8458 - val_loss: 1.0655 - val_accuracy: 0.6323\n",
            "Epoch 22/50\n",
            "485/485 [==============================] - 14s 29ms/step - loss: 0.4460 - accuracy: 0.8458 - val_loss: 1.0657 - val_accuracy: 0.6368\n",
            "Epoch 23/50\n",
            "485/485 [==============================] - 14s 29ms/step - loss: 0.4404 - accuracy: 0.8488 - val_loss: 1.0720 - val_accuracy: 0.6385\n",
            "Epoch 24/50\n",
            "485/485 [==============================] - 14s 29ms/step - loss: 0.4372 - accuracy: 0.8501 - val_loss: 1.0644 - val_accuracy: 0.6358\n",
            "Epoch 25/50\n",
            "485/485 [==============================] - 14s 29ms/step - loss: 0.4362 - accuracy: 0.8507 - val_loss: 1.0751 - val_accuracy: 0.6315\n",
            "Epoch 26/50\n",
            "485/485 [==============================] - 14s 29ms/step - loss: 0.4313 - accuracy: 0.8513 - val_loss: 1.0977 - val_accuracy: 0.6203\n",
            "Epoch 27/50\n",
            "485/485 [==============================] - 14s 29ms/step - loss: 0.4263 - accuracy: 0.8533 - val_loss: 1.1022 - val_accuracy: 0.6235\n",
            "Epoch 28/50\n",
            "485/485 [==============================] - 14s 30ms/step - loss: 0.4270 - accuracy: 0.8535 - val_loss: 1.0908 - val_accuracy: 0.6310\n",
            "Epoch 29/50\n",
            "485/485 [==============================] - 16s 33ms/step - loss: 0.4232 - accuracy: 0.8545 - val_loss: 1.0783 - val_accuracy: 0.6317\n",
            "Epoch 30/50\n",
            "485/485 [==============================] - 14s 29ms/step - loss: 0.4196 - accuracy: 0.8561 - val_loss: 1.1164 - val_accuracy: 0.6210\n",
            "Epoch 31/50\n",
            "485/485 [==============================] - 14s 29ms/step - loss: 0.4145 - accuracy: 0.8567 - val_loss: 1.1063 - val_accuracy: 0.6333\n",
            "Epoch 32/50\n",
            "485/485 [==============================] - 14s 29ms/step - loss: 0.4130 - accuracy: 0.8572 - val_loss: 1.1066 - val_accuracy: 0.6223\n",
            "Epoch 33/50\n",
            "485/485 [==============================] - 14s 29ms/step - loss: 0.4095 - accuracy: 0.8583 - val_loss: 1.1072 - val_accuracy: 0.6280\n",
            "Epoch 34/50\n",
            "485/485 [==============================] - 14s 29ms/step - loss: 0.4059 - accuracy: 0.8593 - val_loss: 1.1113 - val_accuracy: 0.6263\n",
            "Epoch 35/50\n",
            "485/485 [==============================] - 14s 29ms/step - loss: 0.4043 - accuracy: 0.8603 - val_loss: 1.1013 - val_accuracy: 0.6307\n",
            "Epoch 36/50\n",
            "485/485 [==============================] - 14s 29ms/step - loss: 0.4035 - accuracy: 0.8603 - val_loss: 1.1139 - val_accuracy: 0.6278\n",
            "Epoch 37/50\n",
            "485/485 [==============================] - 14s 29ms/step - loss: 0.3974 - accuracy: 0.8620 - val_loss: 1.1146 - val_accuracy: 0.6272\n",
            "Epoch 38/50\n",
            "485/485 [==============================] - 14s 29ms/step - loss: 0.3964 - accuracy: 0.8627 - val_loss: 1.1230 - val_accuracy: 0.6182\n",
            "Epoch 39/50\n",
            "485/485 [==============================] - 14s 29ms/step - loss: 0.3952 - accuracy: 0.8626 - val_loss: 1.1488 - val_accuracy: 0.6200\n",
            "Epoch 40/50\n",
            "485/485 [==============================] - 14s 29ms/step - loss: 0.3919 - accuracy: 0.8639 - val_loss: 1.1450 - val_accuracy: 0.6125\n",
            "Epoch 41/50\n",
            "485/485 [==============================] - 14s 29ms/step - loss: 0.3886 - accuracy: 0.8647 - val_loss: 1.1347 - val_accuracy: 0.6220\n",
            "Epoch 42/50\n",
            "485/485 [==============================] - 14s 29ms/step - loss: 0.3848 - accuracy: 0.8672 - val_loss: 1.1581 - val_accuracy: 0.6168\n",
            "Epoch 43/50\n",
            "485/485 [==============================] - 14s 29ms/step - loss: 0.3827 - accuracy: 0.8673 - val_loss: 1.1345 - val_accuracy: 0.6242\n",
            "Epoch 44/50\n",
            "485/485 [==============================] - 14s 29ms/step - loss: 0.3791 - accuracy: 0.8676 - val_loss: 1.1533 - val_accuracy: 0.6137\n",
            "Epoch 45/50\n",
            "485/485 [==============================] - 14s 29ms/step - loss: 0.3772 - accuracy: 0.8682 - val_loss: 1.1578 - val_accuracy: 0.6165\n",
            "Epoch 46/50\n",
            "485/485 [==============================] - 14s 29ms/step - loss: 0.3772 - accuracy: 0.8690 - val_loss: 1.1536 - val_accuracy: 0.6027\n",
            "Epoch 47/50\n",
            "485/485 [==============================] - 14s 29ms/step - loss: 0.3769 - accuracy: 0.8680 - val_loss: 1.1630 - val_accuracy: 0.6077\n",
            "Epoch 48/50\n",
            "485/485 [==============================] - 14s 29ms/step - loss: 0.3738 - accuracy: 0.8696 - val_loss: 1.1605 - val_accuracy: 0.6053\n",
            "Epoch 49/50\n",
            "485/485 [==============================] - 14s 29ms/step - loss: 0.3704 - accuracy: 0.8705 - val_loss: 1.1714 - val_accuracy: 0.6092\n",
            "Epoch 50/50\n",
            "485/485 [==============================] - 14s 29ms/step - loss: 0.3699 - accuracy: 0.8697 - val_loss: 1.1959 - val_accuracy: 0.6082\n"
          ]
        }
      ]
    },
    {
      "cell_type": "code",
      "source": [
        "model.save('tianliu_525004380_project1_model_50epoch.best')"
      ],
      "metadata": {
        "colab": {
          "base_uri": "https://localhost:8080/"
        },
        "id": "WbSIdRckD7FZ",
        "outputId": "fd7ededc-6b09-4714-97ec-a8a79af41e12"
      },
      "execution_count": null,
      "outputs": [
        {
          "output_type": "stream",
          "name": "stdout",
          "text": [
            "INFO:tensorflow:Assets written to: tianliu_525004380_project1_model_50epoch.best/assets\n"
          ]
        }
      ]
    },
    {
      "cell_type": "markdown",
      "source": [
        "#### Plot training and validation scores"
      ],
      "metadata": {
        "id": "fqpdOuKZp6az"
      }
    },
    {
      "cell_type": "code",
      "source": [
        "# plot training and validation loss and acc\n",
        "\n",
        "import matplotlib.pyplot as plt\n",
        "\n",
        "history_dict = history.history\n",
        "loss_values = history_dict[\"loss\"]\n",
        "val_loss_values = history_dict[\"val_loss\"]\n",
        "epochs = range(1, len(loss_values) + 1)\n",
        "plt.plot(epochs, loss_values, \"r\", marker=\"o\", label=\"Training loss\")\n",
        "plt.plot(epochs, val_loss_values, \"b\", marker=\"o\",label=\"Validation loss\")\n",
        "plt.title(\"Training and validation loss\")\n",
        "plt.xlabel(\"Epochs\")\n",
        "plt.ylabel(\"Loss\")\n",
        "plt.legend()\n",
        "plt.show()\n",
        "\n",
        "plt.clf()\n",
        "acc = history_dict[\"accuracy\"]\n",
        "val_acc = history_dict[\"val_accuracy\"]\n",
        "plt.plot(epochs, acc, \"r\", marker=\"o\", label=\"Training acc\")\n",
        "plt.plot(epochs, val_acc, \"b\", marker=\"o\", label=\"Validation acc\")\n",
        "plt.title(\"Training and validation accuracy\")\n",
        "plt.xlabel(\"Epochs\")\n",
        "plt.ylabel(\"Accuracy\")\n",
        "plt.legend()\n",
        "plt.show()"
      ],
      "metadata": {
        "id": "MXK_VVKBb-hT",
        "colab": {
          "base_uri": "https://localhost:8080/",
          "height": 573
        },
        "outputId": "7c730d2d-a2ad-4e50-8c18-a489fc22640b"
      },
      "execution_count": null,
      "outputs": [
        {
          "output_type": "display_data",
          "data": {
            "text/plain": [
              "<Figure size 432x288 with 1 Axes>"
            ],
            "image/png": "[encoded data removed]"
          },
          "metadata": {
            "needs_background": "light"
          }
        },
        {
          "output_type": "display_data",
          "data": {
            "text/plain": [
              "<Figure size 432x288 with 1 Axes>"
            ],
            "image/png": "[encoded data removed]"
          },
          "metadata": {
            "needs_background": "light"
          }
        }
      ]
    },
    {
      "cell_type": "markdown",
      "source": [
        "#### Retrain on the whole training dataset for 20 epochs"
      ],
      "metadata": {
        "id": "YRPFDTRTp_w8"
      }
    },
    {
      "cell_type": "code",
      "source": [
        "# aggregrate the whole training data with the original clean MNIST dataset\n",
        "X_train_agg_whole = np.vstack([train_images, train_images_clean, test_images_clean])\n",
        "y_train_agg_whole = np.concatenate([train_labels, train_labels_clean, test_labels_clean])\n",
        "\n",
        "print(X_train_agg_whole.shape)\n",
        "print(y_train_agg_whole.shape)"
      ],
      "metadata": {
        "id": "Kwsrc68dsuvO",
        "colab": {
          "base_uri": "https://localhost:8080/"
        },
        "outputId": "8eb3e3b8-4c06-429e-d232-b2acbcbe5708"
      },
      "execution_count": null,
      "outputs": [
        {
          "output_type": "stream",
          "name": "stdout",
          "text": [
            "(130000, 28, 28, 1)\n",
            "(130000,)\n"
          ]
        }
      ]
    },
    {
      "cell_type": "code",
      "source": [
        "from tensorflow import keras\n",
        "from tensorflow.keras import layers\n",
        "\n",
        "data_augmentation = keras.Sequential(\n",
        "    [\n",
        "        # layers.Rescaling(scale=1./255),\n",
        "        layers.RandomRotation(0.2),\n",
        "        layers.RandomZoom(0.2),\n",
        "        \n",
        "        # maybe add some noises here as well\n",
        "        # layers.GaussianNoise(1.0),\n",
        "    ]\n",
        ")\n",
        "\n",
        "\n",
        "inputs = keras.Input(shape=(28, 28, 1))\n",
        "# data augmentation\n",
        "# x = data_augmentation(inputs)\n",
        "x = inputs\n",
        "\n",
        "x = layers.Conv2D(filters=256, kernel_size=2, activation=\"relu\")(x)\n",
        "x = layers.MaxPooling2D(pool_size=2)(x)\n",
        "# x = layers.BatchNormalization()(x)\n",
        "# x = layers.Dropout(0.5)(x)\n",
        "\n",
        "x = layers.Conv2D(filters=128, kernel_size=2, activation=\"relu\")(x)\n",
        "x = layers.MaxPooling2D(pool_size=2)(x)\n",
        "# x = layers.BatchNormalization()(x)\n",
        "# x = layers.Dropout(0.5)(x)\n",
        "\n",
        "x = layers.Conv2D(filters=64, kernel_size=2, activation=\"relu\")(x)\n",
        "x = layers.Flatten()(x)\n",
        "# x = layers.BatchNormalization()(x)\n",
        "x = layers.Dropout(0.5)(x)\n",
        "\n",
        "# x = layers.Dense(256, activation='relu')(x)\n",
        "# x = layers.Dropout(0.5)(x)\n",
        "\n",
        "outputs = layers.Dense(10, activation=\"softmax\")(x)\n",
        "\n",
        "model = keras.Model(inputs=inputs, outputs=outputs)\n",
        "\n",
        "model.compile(\n",
        "              optimizer='adam',\n",
        "              # optimizer=opt,\n",
        "              loss=\"sparse_categorical_crossentropy\",\n",
        "              metrics=[\"accuracy\"])\n",
        "\n",
        "# test aggregated train and val data\n",
        "history = model.fit(X_train_agg_whole, y_train_agg_whole, epochs=20, batch_size=256, shuffle=True)"
      ],
      "metadata": {
        "id": "iFiJHo46l10w",
        "colab": {
          "base_uri": "https://localhost:8080/"
        },
        "outputId": "747aa6ae-126b-401c-fa2c-dd8c836bb521"
      },
      "execution_count": null,
      "outputs": [
        {
          "output_type": "stream",
          "name": "stdout",
          "text": [
            "Epoch 1/20\n",
            "508/508 [==============================] - 15s 28ms/step - loss: 1.0377 - accuracy: 0.6407\n",
            "Epoch 2/20\n",
            "508/508 [==============================] - 14s 28ms/step - loss: 0.7405 - accuracy: 0.7471\n",
            "Epoch 3/20\n",
            "508/508 [==============================] - 14s 28ms/step - loss: 0.6674 - accuracy: 0.7734\n",
            "Epoch 4/20\n",
            "508/508 [==============================] - 14s 28ms/step - loss: 0.6270 - accuracy: 0.7868\n",
            "Epoch 5/20\n",
            "508/508 [==============================] - 14s 28ms/step - loss: 0.6019 - accuracy: 0.7967\n",
            "Epoch 6/20\n",
            "508/508 [==============================] - 14s 28ms/step - loss: 0.5822 - accuracy: 0.8021\n",
            "Epoch 7/20\n",
            "508/508 [==============================] - 14s 28ms/step - loss: 0.5649 - accuracy: 0.8084\n",
            "Epoch 8/20\n",
            "508/508 [==============================] - 14s 28ms/step - loss: 0.5571 - accuracy: 0.8115\n",
            "Epoch 9/20\n",
            "508/508 [==============================] - 14s 28ms/step - loss: 0.5450 - accuracy: 0.8134\n",
            "Epoch 10/20\n",
            "508/508 [==============================] - 14s 28ms/step - loss: 0.5374 - accuracy: 0.8173\n",
            "Epoch 11/20\n",
            "508/508 [==============================] - 14s 28ms/step - loss: 0.5289 - accuracy: 0.8199\n",
            "Epoch 12/20\n",
            "508/508 [==============================] - 14s 28ms/step - loss: 0.5217 - accuracy: 0.8215\n",
            "Epoch 13/20\n",
            "508/508 [==============================] - 14s 28ms/step - loss: 0.5168 - accuracy: 0.8244\n",
            "Epoch 14/20\n",
            "508/508 [==============================] - 14s 28ms/step - loss: 0.5097 - accuracy: 0.8257\n",
            "Epoch 15/20\n",
            "508/508 [==============================] - 14s 28ms/step - loss: 0.5076 - accuracy: 0.8264\n",
            "Epoch 16/20\n",
            "508/508 [==============================] - 14s 28ms/step - loss: 0.5008 - accuracy: 0.8290\n",
            "Epoch 17/20\n",
            "508/508 [==============================] - 14s 28ms/step - loss: 0.4966 - accuracy: 0.8303\n",
            "Epoch 18/20\n",
            "508/508 [==============================] - 14s 28ms/step - loss: 0.4931 - accuracy: 0.8307\n",
            "Epoch 19/20\n",
            "508/508 [==============================] - 14s 28ms/step - loss: 0.4884 - accuracy: 0.8331\n",
            "Epoch 20/20\n",
            "508/508 [==============================] - 14s 28ms/step - loss: 0.4860 - accuracy: 0.8340\n"
          ]
        }
      ]
    },
    {
      "cell_type": "markdown",
      "source": [
        "#### Save the Final Trained Model"
      ],
      "metadata": {
        "id": "lPFC_fGCqGL0"
      }
    },
    {
      "cell_type": "code",
      "source": [
        "model.save('tianliu_525004380_project1_model_final.best')"
      ],
      "metadata": {
        "id": "RHTtjbpLqJzU",
        "colab": {
          "base_uri": "https://localhost:8080/"
        },
        "outputId": "dd288ce9-1096-42ff-8305-f4093b80c974"
      },
      "execution_count": null,
      "outputs": [
        {
          "output_type": "stream",
          "name": "stdout",
          "text": [
            "INFO:tensorflow:Assets written to: tianliu_525004380_project1_model_final.best/assets\n"
          ]
        }
      ]
    },
    {
      "cell_type": "markdown",
      "source": [
        "#### To test the trained model on the testing data"
      ],
      "metadata": {
        "id": "e5vnfY9FqNLm"
      }
    },
    {
      "cell_type": "code",
      "source": [
        "# load the model\n",
        "from tensorflow import keras\n",
        "\n",
        "model = keras.models.load_model('tianliu_525004380_project1_model_final.best')"
      ],
      "metadata": {
        "id": "fWB_Io9NqW7Q"
      },
      "execution_count": null,
      "outputs": []
    },
    {
      "cell_type": "code",
      "source": [
        "# preprocess the testing data by reshaping and rescaling it, like the following:\n",
        "\n",
        "test_images = pickle.load(open('636_project1_test_images', 'rb'))\n",
        "test_labels = pickle.load(open('636_project1_test_labels', 'rb'))\n",
        "\n",
        "test_images = np.array(test_images).reshape((60000, 28, 28, 1))\n",
        "test_images = test_images.astype(\"float32\") / 255\n",
        "test_labels = np.array(test_labels)"
      ],
      "metadata": {
        "id": "J1b-XKHOtvk9"
      },
      "execution_count": null,
      "outputs": []
    },
    {
      "cell_type": "code",
      "source": [
        "# test the model\n",
        "test_loss, test_acc = model.evaluate(test_images, test_labels)"
      ],
      "metadata": {
        "id": "drnr7DPNu7k7"
      },
      "execution_count": null,
      "outputs": []
    }
  ]
}