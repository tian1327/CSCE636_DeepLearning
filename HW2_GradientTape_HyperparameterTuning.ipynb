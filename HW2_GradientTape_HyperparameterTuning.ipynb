{
  "cells": [
    {
      "cell_type": "markdown",
      "metadata": {
        "id": "X-3ramYVr9_2"
      },
      "source": [
        "### (1) Use of GradientTape API\n"
      ]
    },
    {
      "cell_type": "code",
      "execution_count": 20,
      "metadata": {
        "colab": {
          "base_uri": "https://localhost:8080/"
        },
        "id": "DpYz5Fya5Nit",
        "outputId": "928d4997-6ef6-456e-f376-3c1f025253ca"
      },
      "outputs": [
        {
          "name": "stdout",
          "output_type": "stream",
          "text": [
            "gradient of sin(x) at 0.0 = 1.0\n",
            "gradient of sin(x) at 0.1 = 0.9950041770935059\n",
            "gradient of sin(x) at 0.2 = 0.9800665974617004\n",
            "gradient of sin(x) at 0.3 = 0.9553365111351013\n"
          ]
        }
      ],
      "source": [
        "import tensorflow as tf\n",
        "\n",
        "x_list = [0.0, 0.1, 0.2, 0.3]\n",
        "for x in x_list:\n",
        "  input_var = tf.Variable(initial_value=x)\n",
        "  with tf.GradientTape() as tape:\n",
        "    result = tf.math.sin(input_var)\n",
        "  gradient = tape.gradient(result, input_var)\n",
        "  print(\"gradient of sin(x) at {} = {}\".format(x, gradient))"
      ]
    },
    {
      "cell_type": "markdown",
      "metadata": {
        "id": "_Nv_X6IA5H8t"
      },
      "source": [
        "### (2) Hyperparameter tuning on the IMDB dataset\n"
      ]
    },
    {
      "cell_type": "markdown",
      "metadata": {
        "id": "PHdTISLn5Rl_"
      },
      "source": [
        "Answer:  \n",
        "\n",
        "After trying different hyperparameters, the best hyerperparameters are using the same model structure (2 hidden layers, each with 16 neurons and relu activation function), but changing the optimizer to 'Adam', and increasing the training batchsize to 1024.\n",
        "\n",
        "The training and validation loss and accuracy are shown in the plots, showing the inflection point (overfitting) occurs after 5 epochs of training. Thus retraining the model with all training data for 5 epochs, we obtain the training accuracy of 0.945 and training loss of 0.166. The test accuracy is 0.883, test loss 0.294."
      ]
    },
    {
      "cell_type": "markdown",
      "metadata": {
        "id": "SxkoH7Pyr9_3"
      },
      "source": [
        "**Loading the IMDB dataset**"
      ]
    },
    {
      "cell_type": "code",
      "execution_count": 2,
      "metadata": {
        "id": "QnoThHnMr9_4"
      },
      "outputs": [],
      "source": [
        "from tensorflow.keras.datasets import imdb\n",
        "(train_data, train_labels), (test_data, test_labels) = imdb.load_data(\n",
        "    num_words=10000)"
      ]
    },
    {
      "cell_type": "code",
      "execution_count": null,
      "metadata": {
        "id": "ql0JF4XOr9_6"
      },
      "outputs": [],
      "source": [
        "train_data[0]"
      ]
    },
    {
      "cell_type": "code",
      "execution_count": 3,
      "metadata": {
        "colab": {
          "base_uri": "https://localhost:8080/"
        },
        "id": "MjNF6F_Or9_6",
        "outputId": "b8d15ac8-b0f5-4fbd-989b-ada9689c7c29"
      },
      "outputs": [
        {
          "data": {
            "text/plain": [
              "1"
            ]
          },
          "execution_count": 3,
          "metadata": {},
          "output_type": "execute_result"
        }
      ],
      "source": [
        "train_labels[0]"
      ]
    },
    {
      "cell_type": "code",
      "execution_count": 4,
      "metadata": {
        "colab": {
          "base_uri": "https://localhost:8080/"
        },
        "id": "zdnkF8cpr9_7",
        "outputId": "20a6ed83-897f-4a19-fa1a-3f69a3991eda"
      },
      "outputs": [
        {
          "data": {
            "text/plain": [
              "9999"
            ]
          },
          "execution_count": 4,
          "metadata": {},
          "output_type": "execute_result"
        }
      ],
      "source": [
        "max([max(sequence) for sequence in train_data])"
      ]
    },
    {
      "cell_type": "markdown",
      "metadata": {
        "id": "naSf9apOr9_8"
      },
      "source": [
        "**Decoding reviews back to text**"
      ]
    },
    {
      "cell_type": "code",
      "execution_count": 5,
      "metadata": {
        "colab": {
          "base_uri": "https://localhost:8080/"
        },
        "id": "wwN9WQlvr9_8",
        "outputId": "72f8b29e-0036-475f-e8ef-cca93c2e7b2b"
      },
      "outputs": [
        {
          "name": "stdout",
          "output_type": "stream",
          "text": [
            "Downloading data from https://storage.googleapis.com/tensorflow/tf-keras-datasets/imdb_word_index.json\n",
            "1646592/1641221 [==============================] - 0s 0us/step\n",
            "1654784/1641221 [==============================] - 0s 0us/step\n"
          ]
        }
      ],
      "source": [
        "word_index = imdb.get_word_index()\n",
        "reverse_word_index = dict(\n",
        "    [(value, key) for (key, value) in word_index.items()])\n",
        "decoded_review = \" \".join(\n",
        "    [reverse_word_index.get(i - 3, \"?\") for i in train_data[0]])"
      ]
    },
    {
      "cell_type": "markdown",
      "metadata": {
        "id": "b914U9G9r9_9"
      },
      "source": [
        "### Preparing the data"
      ]
    },
    {
      "cell_type": "markdown",
      "metadata": {
        "id": "CCaRHS14r9_9"
      },
      "source": [
        "**Encoding the integer sequences via multi-hot encoding**"
      ]
    },
    {
      "cell_type": "code",
      "execution_count": 3,
      "metadata": {
        "id": "vIDElTufr9_9"
      },
      "outputs": [],
      "source": [
        "import numpy as np\n",
        "def vectorize_sequences(sequences, dimension=10000):\n",
        "    results = np.zeros((len(sequences), dimension))\n",
        "    for i, sequence in enumerate(sequences):\n",
        "        for j in sequence:\n",
        "            results[i, j] = 1.\n",
        "    return results\n",
        "x_train = vectorize_sequences(train_data)\n",
        "x_test = vectorize_sequences(test_data)"
      ]
    },
    {
      "cell_type": "code",
      "execution_count": 7,
      "metadata": {
        "colab": {
          "base_uri": "https://localhost:8080/"
        },
        "id": "l0XSDs_fr9_-",
        "outputId": "615b5e0f-1bc0-445c-8dbe-826e0aa7555f"
      },
      "outputs": [
        {
          "data": {
            "text/plain": [
              "array([0., 1., 1., ..., 0., 0., 0.])"
            ]
          },
          "execution_count": 7,
          "metadata": {},
          "output_type": "execute_result"
        }
      ],
      "source": [
        "x_train[0]"
      ]
    },
    {
      "cell_type": "code",
      "execution_count": 4,
      "metadata": {
        "id": "-e5eYc61r9_-"
      },
      "outputs": [],
      "source": [
        "y_train = np.asarray(train_labels).astype(\"float32\")\n",
        "y_test = np.asarray(test_labels).astype(\"float32\")"
      ]
    },
    {
      "cell_type": "markdown",
      "metadata": {
        "id": "SQBhkFDVr9_-"
      },
      "source": [
        "### Building your model"
      ]
    },
    {
      "cell_type": "markdown",
      "metadata": {
        "id": "g2RLsjm8r9__"
      },
      "source": [
        "**Model definition**"
      ]
    },
    {
      "cell_type": "code",
      "execution_count": 12,
      "metadata": {
        "id": "LliVrbIjr9__"
      },
      "outputs": [],
      "source": [
        "from tensorflow import keras\n",
        "from tensorflow.keras import layers\n",
        "\n",
        "model = keras.Sequential([\n",
        "    layers.Dense(16, activation=\"relu\"),\n",
        "    layers.Dense(16, activation=\"relu\"),\n",
        "    layers.Dense(1, activation=\"sigmoid\")\n",
        "])"
      ]
    },
    {
      "cell_type": "markdown",
      "metadata": {
        "id": "Z8iDXdivr9__"
      },
      "source": [
        "**Compiling the model**"
      ]
    },
    {
      "cell_type": "code",
      "execution_count": 13,
      "metadata": {
        "id": "keWTai6jr-AA"
      },
      "outputs": [],
      "source": [
        "model.compile(optimizer=\"adam\",\n",
        "              loss=\"binary_crossentropy\",\n",
        "              metrics=[\"accuracy\"])"
      ]
    },
    {
      "cell_type": "markdown",
      "metadata": {
        "id": "6vH5Iba7r-AA"
      },
      "source": [
        "### Validating your approach"
      ]
    },
    {
      "cell_type": "markdown",
      "metadata": {
        "id": "u7cDCFH4r-AA"
      },
      "source": [
        "**Setting aside a validation set**"
      ]
    },
    {
      "cell_type": "code",
      "execution_count": 7,
      "metadata": {
        "id": "ApE4PA_cr-AB"
      },
      "outputs": [],
      "source": [
        "x_val = x_train[:10000]\n",
        "partial_x_train = x_train[10000:]\n",
        "y_val = y_train[:10000]\n",
        "partial_y_train = y_train[10000:]"
      ]
    },
    {
      "cell_type": "markdown",
      "metadata": {
        "id": "7dIkIT3Xr-AB"
      },
      "source": [
        "**Training your model**"
      ]
    },
    {
      "cell_type": "code",
      "execution_count": 14,
      "metadata": {
        "colab": {
          "base_uri": "https://localhost:8080/"
        },
        "id": "JJhQFuALr-AB",
        "outputId": "a9305822-6123-4c59-c886-19ed2c6c742f"
      },
      "outputs": [
        {
          "name": "stdout",
          "output_type": "stream",
          "text": [
            "Epoch 1/10\n",
            "15/15 [==============================] - 2s 107ms/step - loss: 0.6220 - accuracy: 0.7098 - val_loss: 0.5101 - val_accuracy: 0.8277\n",
            "Epoch 2/10\n",
            "15/15 [==============================] - 1s 86ms/step - loss: 0.4151 - accuracy: 0.8723 - val_loss: 0.3758 - val_accuracy: 0.8695\n",
            "Epoch 3/10\n",
            "15/15 [==============================] - 1s 79ms/step - loss: 0.2930 - accuracy: 0.9085 - val_loss: 0.3129 - val_accuracy: 0.8854\n",
            "Epoch 4/10\n",
            "15/15 [==============================] - 1s 76ms/step - loss: 0.2245 - accuracy: 0.9301 - val_loss: 0.2886 - val_accuracy: 0.8895\n",
            "Epoch 5/10\n",
            "15/15 [==============================] - 1s 84ms/step - loss: 0.1806 - accuracy: 0.9462 - val_loss: 0.2800 - val_accuracy: 0.8901\n",
            "Epoch 6/10\n",
            "15/15 [==============================] - 1s 85ms/step - loss: 0.1493 - accuracy: 0.9571 - val_loss: 0.2822 - val_accuracy: 0.8878\n",
            "Epoch 7/10\n",
            "15/15 [==============================] - 1s 66ms/step - loss: 0.1253 - accuracy: 0.9659 - val_loss: 0.2901 - val_accuracy: 0.8836\n",
            "Epoch 8/10\n",
            "15/15 [==============================] - 1s 83ms/step - loss: 0.1064 - accuracy: 0.9726 - val_loss: 0.2978 - val_accuracy: 0.8831\n",
            "Epoch 9/10\n",
            "15/15 [==============================] - 1s 83ms/step - loss: 0.0891 - accuracy: 0.9801 - val_loss: 0.3086 - val_accuracy: 0.8811\n",
            "Epoch 10/10\n",
            "15/15 [==============================] - 1s 75ms/step - loss: 0.0755 - accuracy: 0.9851 - val_loss: 0.3227 - val_accuracy: 0.8811\n"
          ]
        }
      ],
      "source": [
        "history = model.fit(partial_x_train,\n",
        "                    partial_y_train,\n",
        "                    epochs=10,\n",
        "                    batch_size=1024,\n",
        "                    validation_data=(x_val, y_val))"
      ]
    },
    {
      "cell_type": "code",
      "execution_count": 13,
      "metadata": {
        "colab": {
          "base_uri": "https://localhost:8080/"
        },
        "id": "sHBG0VVmr-AB",
        "outputId": "d7095c69-b4f1-4b40-db25-f66f997d6804"
      },
      "outputs": [
        {
          "data": {
            "text/plain": [
              "dict_keys(['loss', 'accuracy', 'val_loss', 'val_accuracy'])"
            ]
          },
          "execution_count": 13,
          "metadata": {},
          "output_type": "execute_result"
        }
      ],
      "source": [
        "history_dict = history.history\n",
        "history_dict.keys()"
      ]
    },
    {
      "cell_type": "markdown",
      "metadata": {
        "id": "Q90o15Skr-AC"
      },
      "source": [
        "**Plotting the training and validation loss**"
      ]
    },
    {
      "cell_type": "code",
      "execution_count": 15,
      "metadata": {
        "colab": {
          "base_uri": "https://localhost:8080/",
          "height": 295
        },
        "id": "xOw6O9GLr-AC",
        "outputId": "2fd77f8d-5e64-4bb0-ebd3-c68ad0de7c99"
      },
      "outputs": [
        {
          "data": {
            "image/png": "[encoded data removed]",
            "text/plain": [
              "<Figure size 432x288 with 1 Axes>"
            ]
          },
          "metadata": {
            "needs_background": "light"
          },
          "output_type": "display_data"
        }
      ],
      "source": [
        "import matplotlib.pyplot as plt\n",
        "history_dict = history.history\n",
        "loss_values = history_dict[\"loss\"]\n",
        "val_loss_values = history_dict[\"val_loss\"]\n",
        "epochs = range(1, len(loss_values) + 1)\n",
        "plt.plot(epochs, loss_values, \"bo\", label=\"Training loss\")\n",
        "plt.plot(epochs, val_loss_values, \"b\", label=\"Validation loss\")\n",
        "plt.title(\"Training and validation loss\")\n",
        "plt.xlabel(\"Epochs\")\n",
        "plt.ylabel(\"Loss\")\n",
        "plt.legend()\n",
        "plt.show()"
      ]
    },
    {
      "cell_type": "markdown",
      "metadata": {
        "id": "BbsdeFi1r-AC"
      },
      "source": [
        "**Plotting the training and validation accuracy**"
      ]
    },
    {
      "cell_type": "code",
      "execution_count": 16,
      "metadata": {
        "colab": {
          "base_uri": "https://localhost:8080/",
          "height": 295
        },
        "id": "K_8NX_b5r-AC",
        "outputId": "1f0cb0f9-99d1-4fef-e4e0-d3fc438978eb"
      },
      "outputs": [
        {
          "data": {
            "image/png": "[encoded data removed]",
            "text/plain": [
              "<Figure size 432x288 with 1 Axes>"
            ]
          },
          "metadata": {
            "needs_background": "light"
          },
          "output_type": "display_data"
        }
      ],
      "source": [
        "plt.clf()\n",
        "acc = history_dict[\"accuracy\"]\n",
        "val_acc = history_dict[\"val_accuracy\"]\n",
        "plt.plot(epochs, acc, \"bo\", label=\"Training acc\")\n",
        "plt.plot(epochs, val_acc, \"b\", label=\"Validation acc\")\n",
        "plt.title(\"Training and validation accuracy\")\n",
        "plt.xlabel(\"Epochs\")\n",
        "plt.ylabel(\"Accuracy\")\n",
        "plt.legend()\n",
        "plt.show()"
      ]
    },
    {
      "cell_type": "markdown",
      "metadata": {
        "id": "SVTQT-9ar-AD"
      },
      "source": [
        "**Retraining a model from scratch**"
      ]
    },
    {
      "cell_type": "code",
      "execution_count": 17,
      "metadata": {
        "colab": {
          "base_uri": "https://localhost:8080/"
        },
        "id": "Tnejb5OKr-AD",
        "outputId": "9d850423-b0f8-4d81-9a86-c1f1d0a2803f"
      },
      "outputs": [
        {
          "name": "stdout",
          "output_type": "stream",
          "text": [
            "Epoch 1/5\n",
            "25/25 [==============================] - 2s 56ms/step - loss: 0.5953 - accuracy: 0.7062\n",
            "Epoch 2/5\n",
            "25/25 [==============================] - 1s 54ms/step - loss: 0.3604 - accuracy: 0.8898\n",
            "Epoch 3/5\n",
            "25/25 [==============================] - 1s 59ms/step - loss: 0.2475 - accuracy: 0.9190\n",
            "Epoch 4/5\n",
            "25/25 [==============================] - 1s 57ms/step - loss: 0.1957 - accuracy: 0.9340\n",
            "Epoch 5/5\n",
            "25/25 [==============================] - 1s 51ms/step - loss: 0.1660 - accuracy: 0.9450\n",
            "\n",
            "------------------------------ testing\n",
            "782/782 [==============================] - 2s 2ms/step - loss: 0.2940 - accuracy: 0.8831\n"
          ]
        }
      ],
      "source": [
        "model = keras.Sequential([\n",
        "    layers.Dense(16, activation=\"relu\"),\n",
        "    layers.Dense(16, activation=\"relu\"),\n",
        "    layers.Dense(1, activation=\"sigmoid\")\n",
        "])\n",
        "model.compile(optimizer=\"adam\",\n",
        "              loss=\"binary_crossentropy\",\n",
        "              metrics=[\"accuracy\"])\n",
        "\n",
        "hist = model.fit(x_train, y_train, epochs=5, batch_size=1024)\n",
        "\n",
        "print(\"\\n\"+\"---\"*10,\"testing\")\n",
        "results = model.evaluate(x_test, y_test)"
      ]
    },
    {
      "cell_type": "code",
      "execution_count": 18,
      "metadata": {
        "colab": {
          "base_uri": "https://localhost:8080/"
        },
        "id": "EK1hWlScr-AD",
        "outputId": "4fdedf80-e184-4853-bc63-a3e0278b38ee"
      },
      "outputs": [
        {
          "name": "stdout",
          "output_type": "stream",
          "text": [
            "dict_keys(['loss', 'accuracy'])\n",
            "loss = [0.5953339338302612, 0.360353946685791, 0.24751697480678558, 0.19568337500095367, 0.1659945845603943]\n",
            "accuracy = [0.7061600089073181, 0.8897600173950195, 0.9190000295639038, 0.9340400099754333, 0.9449999928474426]\n",
            "\n",
            "test_loss = 0.2940043807029724\n",
            "test_acc = 0.8831200003623962\n"
          ]
        }
      ],
      "source": [
        "print(hist.history.keys())\n",
        "for k,v in hist.history.items():\n",
        "  print(k,\"=\",v)\n",
        "\n",
        "print()\n",
        "print(\"test_loss =\", results[0])\n",
        "print(\"test_acc =\", results[1])\n"
      ]
    },
    {
      "cell_type": "markdown",
      "metadata": {
        "id": "O0ZFFIiur-AD"
      },
      "source": [
        "### Using a trained model to generate predictions on new data"
      ]
    },
    {
      "cell_type": "code",
      "execution_count": 19,
      "metadata": {
        "colab": {
          "base_uri": "https://localhost:8080/"
        },
        "id": "TbZVzQ_8r-AE",
        "outputId": "5a3c9579-f348-443d-e7ed-471c1dcb4c33"
      },
      "outputs": [
        {
          "data": {
            "text/plain": [
              "array([[0.22867236],\n",
              "       [0.9978789 ],\n",
              "       [0.75263363],\n",
              "       ...,\n",
              "       [0.10445344],\n",
              "       [0.08650866],\n",
              "       [0.58263826]], dtype=float32)"
            ]
          },
          "execution_count": 19,
          "metadata": {},
          "output_type": "execute_result"
        }
      ],
      "source": [
        "model.predict(x_test)"
      ]
    }
  ],
  "metadata": {
    "colab": {
      "collapsed_sections": [],
      "name": "HW2_GradientTape_HyperparameterTuning",
      "provenance": [],
      "toc_visible": true
    },
    "kernelspec": {
      "display_name": "Python 3",
      "language": "python",
      "name": "python3"
    },
    "language_info": {
      "codemirror_mode": {
        "name": "ipython",
        "version": 3
      },
      "file_extension": ".py",
      "mimetype": "text/x-python",
      "name": "python",
      "nbconvert_exporter": "python",
      "pygments_lexer": "ipython3",
      "version": "3.7.0"
    }
  },
  "nbformat": 4,
  "nbformat_minor": 0
}
