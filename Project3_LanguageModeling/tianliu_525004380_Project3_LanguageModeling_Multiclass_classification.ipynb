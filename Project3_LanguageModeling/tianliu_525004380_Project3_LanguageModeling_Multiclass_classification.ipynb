{
  "nbformat": 4,
  "nbformat_minor": 0,
  "metadata": {
    "colab": {
      "name": "tianliu_525004380_Project3_LanguageModeling_Multiclass-classification",
      "provenance": [],
      "collapsed_sections": [],
      "toc_visible": true
    },
    "kernelspec": {
      "name": "python3",
      "display_name": "Python 3"
    },
    "language_info": {
      "name": "python"
    },
    "accelerator": "GPU"
  },
  "cells": [
    {
      "cell_type": "markdown",
      "source": [
        "Name: Tian Liu  \n",
        "UIN: 525004380"
      ],
      "metadata": {
        "id": "G8uAn6RjKcmr"
      }
    },
    {
      "cell_type": "markdown",
      "source": [
        "### Explanation\n",
        "\n",
        "Here in this project, I implemented Transformer Encoder to extract features from input texts, and formulate the problem of predicting next word as a multi-class classification problem by adding few dense layers after the TransformerEncoder.\n",
        "\n",
        "To test the pretrained model (by grader), please refer to the last section `Reload the Final Model for Testing`."
      ],
      "metadata": {
        "id": "qd9HryGoXsPD"
      }
    },
    {
      "cell_type": "code",
      "execution_count": 1,
      "metadata": {
        "colab": {
          "base_uri": "https://localhost:8080/"
        },
        "id": "8fLAqShmKTir",
        "outputId": "897499a4-5bf4-4e90-d2f7-84212ab7ae86"
      },
      "outputs": [
        {
          "output_type": "stream",
          "name": "stdout",
          "text": [
            "Tue May  3 00:45:25 2022       \n",
            "+-----------------------------------------------------------------------------+\n",
            "| NVIDIA-SMI 460.32.03    Driver Version: 460.32.03    CUDA Version: 11.2     |\n",
            "|-------------------------------+----------------------+----------------------+\n",
            "| GPU  Name        Persistence-M| Bus-Id        Disp.A | Volatile Uncorr. ECC |\n",
            "| Fan  Temp  Perf  Pwr:Usage/Cap|         Memory-Usage | GPU-Util  Compute M. |\n",
            "|                               |                      |               MIG M. |\n",
            "|===============================+======================+======================|\n",
            "|   0  Tesla P100-PCIE...  Off  | 00000000:00:04.0 Off |                    0 |\n",
            "| N/A   32C    P0    27W / 250W |      0MiB / 16280MiB |      0%      Default |\n",
            "|                               |                      |                  N/A |\n",
            "+-------------------------------+----------------------+----------------------+\n",
            "                                                                               \n",
            "+-----------------------------------------------------------------------------+\n",
            "| Processes:                                                                  |\n",
            "|  GPU   GI   CI        PID   Type   Process name                  GPU Memory |\n",
            "|        ID   ID                                                   Usage      |\n",
            "|=============================================================================|\n",
            "|  No running processes found                                                 |\n",
            "+-----------------------------------------------------------------------------+\n"
          ]
        }
      ],
      "source": [
        "!nvidia-smi"
      ]
    },
    {
      "cell_type": "code",
      "source": [
        "from google.colab import drive\n",
        "drive.mount('/content/drive')\n",
        "%cd 'drive/MyDrive/Colab Notebooks/CSCE636_DeepLearning/Project3_LanguageModeling/'"
      ],
      "metadata": {
        "colab": {
          "base_uri": "https://localhost:8080/"
        },
        "id": "7nk52AE_K86B",
        "outputId": "e3f23814-836f-4b29-bdb9-f416a15276b4"
      },
      "execution_count": 2,
      "outputs": [
        {
          "output_type": "stream",
          "name": "stdout",
          "text": [
            "Mounted at /content/drive\n",
            "/content/drive/MyDrive/Colab Notebooks/CSCE636_DeepLearning/Project3_LanguageModeling\n"
          ]
        }
      ]
    },
    {
      "cell_type": "markdown",
      "source": [
        "### Load Train Data"
      ],
      "metadata": {
        "id": "pZvhKW4hLgCb"
      }
    },
    {
      "cell_type": "code",
      "source": [
        "import pickle\n",
        "import numpy as np\n",
        "\n",
        "train_input = pickle.load(open('DS_5_train_input_prefixList', 'rb'))\n",
        "train_output = pickle.load(open('DS_5_train_input_nextWord', 'rb'))"
      ],
      "metadata": {
        "id": "dydX6TlHLGu8"
      },
      "execution_count": 5,
      "outputs": []
    },
    {
      "cell_type": "code",
      "source": [
        "# examine the train data\n",
        "\n",
        "for i in range(3):\n",
        "  print(train_input[i])\n",
        "  print('->')\n",
        "  print(train_output[i])\n",
        "  print()"
      ],
      "metadata": {
        "colab": {
          "base_uri": "https://localhost:8080/"
        },
        "id": "D0cTYIPKLQ5_",
        "outputId": "107a24de-763d-4b3f-bef7-abfb3d29bb47"
      },
      "execution_count": 13,
      "outputs": [
        {
          "output_type": "stream",
          "name": "stdout",
          "text": [
            "['a', 'g', 'b', 'f', 'a', 'f', 'a', 'e', 'a', 'k', 'a', 'j', 'c', 'f', 'b', 'f', 'c', 'd', 'a', 'k']\n",
            "->\n",
            "a\n",
            "\n",
            "['a', 'k', 'a', 'e', 'a', 'e', 'a', 'e', 'a', 'i', 'a', 'f', 'b', 'e', 'a', 'i', 'c', 'd', 'b', 'g']\n",
            "->\n",
            "c\n",
            "\n",
            "['a', 'k', 'c', 'f', 'a', 'd', 'a', 'g', 'b', 'e', 'a', 'h', 'c', 'd', 'a', 'h', 'a', 'k', 'a']\n",
            "->\n",
            "k\n",
            "\n"
          ]
        }
      ]
    },
    {
      "cell_type": "code",
      "source": [
        "# check the data and vocab size in given training data\n",
        "max_len = 0\n",
        "max_ct = 0\n",
        "for text in train_input:\n",
        "  max_ct = max(max_ct, len(text))\n",
        "  for word in text:\n",
        "    max_len = max(max_len, len(word))\n",
        "\n",
        "print('max_len', max_len)\n",
        "print('max_ct', max_ct)\n",
        "\n",
        "max_len = 0\n",
        "max_ct = 0\n",
        "for text in train_output:\n",
        "  max_ct = max(max_ct, len(text))\n",
        "  for word in text:\n",
        "    max_len = max(max_len, len(word))\n",
        "\n",
        "print('max_len', max_len)\n",
        "print('max_ct', max_ct)"
      ],
      "metadata": {
        "colab": {
          "base_uri": "https://localhost:8080/"
        },
        "id": "FI_IeJGwLmDT",
        "outputId": "3910cd69-7359-4a5f-e3a3-10eca87ca612"
      },
      "execution_count": 14,
      "outputs": [
        {
          "output_type": "stream",
          "name": "stdout",
          "text": [
            "max_len 1\n",
            "max_ct 48\n",
            "max_len 1\n",
            "max_ct 1\n"
          ]
        }
      ]
    },
    {
      "cell_type": "code",
      "source": [
        "# prepare train_texts by concatenate prefix and nextWord\n",
        "\n",
        "train_texts = []\n",
        "for i in range(len(train_input)):\n",
        "# for i in range(10):\n",
        "  prefix = train_input[i]\n",
        "  nextword = train_output[i]\n",
        "  sen = ' '.join(train_input[i]) + ' ' + train_output[i]\n",
        "  train_texts.append(sen)\n",
        "\n",
        "  # print('prefix', prefix)\n",
        "  # print('nextword', nextword)\n",
        "  # print('sen',sen)\n",
        "  # print(\"-----\")"
      ],
      "metadata": {
        "id": "biGD2EEdKqSP"
      },
      "execution_count": 15,
      "outputs": []
    },
    {
      "cell_type": "code",
      "source": [
        "# save the train_texts out for rebuilding the text_vec for testing by grader\n",
        "pickle.dump(train_texts, open('final_model/train_texts','wb')) "
      ],
      "metadata": {
        "id": "2J1BHfLaTENk"
      },
      "execution_count": 136,
      "outputs": []
    },
    {
      "cell_type": "markdown",
      "source": [
        "### Prepare TextVectorization Layer"
      ],
      "metadata": {
        "id": "bUwXWIfaLm7T"
      }
    },
    {
      "cell_type": "code",
      "source": [
        "from tensorflow.keras.layers import TextVectorization\n",
        "\n",
        "sequence_length = 66 # max len in train input of project is 64\n",
        "vocab_size = 13 # since only 13 unique letters in train_input\n",
        "text_vectorization = TextVectorization(\n",
        "    max_tokens=vocab_size,\n",
        "    output_mode=\"int\",\n",
        "    output_sequence_length=sequence_length,\n",
        ")\n",
        "\n",
        "text_vectorization.adapt(train_texts)\n",
        "\n",
        "print(len(text_vectorization.get_vocabulary()))"
      ],
      "metadata": {
        "colab": {
          "base_uri": "https://localhost:8080/"
        },
        "id": "IGXSSOfNLOWs",
        "outputId": "a3471927-64d1-4f22-fb22-b67906e1798a"
      },
      "execution_count": 16,
      "outputs": [
        {
          "output_type": "stream",
          "name": "stdout",
          "text": [
            "13\n"
          ]
        }
      ]
    },
    {
      "cell_type": "markdown",
      "source": [
        "### Split Data into Train and Val Sets"
      ],
      "metadata": {
        "id": "sZGkSkpbzrK-"
      }
    },
    {
      "cell_type": "code",
      "source": [
        "# split into train and val\n",
        "\n",
        "import random\n",
        "\n",
        "random.shuffle(train_texts)\n",
        "num_val_samples = int(0.15 * len(train_texts))\n",
        "num_train_samples = len(train_texts) - num_val_samples\n",
        "\n",
        "train_set = train_texts[:num_train_samples]\n",
        "val_set = train_texts[num_train_samples:]\n",
        "\n",
        "print(len(train_set))\n",
        "print(len(val_set))"
      ],
      "metadata": {
        "colab": {
          "base_uri": "https://localhost:8080/"
        },
        "id": "3JnP4ZXLU2Xw",
        "outputId": "02a80e3b-9e4e-42ac-f94f-aa193ded1ef9"
      },
      "execution_count": 17,
      "outputs": [
        {
          "output_type": "stream",
          "name": "stdout",
          "text": [
            "4250\n",
            "750\n"
          ]
        }
      ]
    },
    {
      "cell_type": "code",
      "source": [
        "# prepare the input and output for the multiclass classification dataset\n",
        "\n",
        "def to_one_hot(labels, dimension=13):\n",
        "    results = np.zeros((len(labels), dimension))\n",
        "    for i, label in enumerate(labels):\n",
        "        results[i, label] = 1.\n",
        "    return results\n",
        "\n",
        "# get the index token dicts\n",
        "index_token = dict(enumerate(text_vectorization.get_vocabulary()))\n",
        "\n",
        "tokens_index = dict()\n",
        "for idx, tok in index_token.items():\n",
        "  tokens_index[tok] = idx\n",
        "\n",
        "print(index_token)\n",
        "print(tokens_index)\n",
        "print(len(tokens_index))\n",
        "\n",
        "trainset_prefix = [sen[:-2] for sen in train_set]\n",
        "trainset_nextWord = [sen[-1:] for sen in train_set]\n",
        "valset_prefix = [sen[:-2] for sen in val_set]\n",
        "valset_nextWord = [sen[-1:] for sen in val_set]\n",
        "\n",
        "# print(trainset_prefix)\n",
        "# print(trainset_nextWord)\n",
        "\n",
        "X_train = text_vectorization(trainset_prefix)\n",
        "y_train = [tokens_index[nextWord] for nextWord in trainset_nextWord]\n",
        "y_train = to_one_hot(y_train, len(tokens_index))\n",
        "# print('y_train', y_train)\n",
        "\n",
        "X_val = text_vectorization(valset_prefix)\n",
        "y_val = [tokens_index[nextWord] for nextWord in valset_nextWord]\n",
        "y_val = to_one_hot(y_val, len(tokens_index))\n",
        "\n",
        "print(X_train.shape)\n",
        "print(y_train.shape)\n",
        "print(X_val.shape)\n",
        "print(y_val.shape)"
      ],
      "metadata": {
        "colab": {
          "base_uri": "https://localhost:8080/"
        },
        "id": "6tZnzHA2Qiee",
        "outputId": "58904624-cc9f-4e19-c201-1f2cb1fabd14"
      },
      "execution_count": 18,
      "outputs": [
        {
          "output_type": "stream",
          "name": "stdout",
          "text": [
            "{0: '', 1: '[UNK]', 2: 'a', 3: 'b', 4: 'c', 5: 'e', 6: 'd', 7: 'f', 8: 'g', 9: 'k', 10: 'i', 11: 'j', 12: 'h'}\n",
            "{'': 0, '[UNK]': 1, 'a': 2, 'b': 3, 'c': 4, 'e': 5, 'd': 6, 'f': 7, 'g': 8, 'k': 9, 'i': 10, 'j': 11, 'h': 12}\n",
            "13\n",
            "(4250, 66)\n",
            "(4250, 13)\n",
            "(750, 66)\n",
            "(750, 13)\n"
          ]
        }
      ]
    },
    {
      "cell_type": "markdown",
      "source": [
        "### Transformer Encoder for Multi-class Classification"
      ],
      "metadata": {
        "id": "7940yaq9VzNR"
      }
    },
    {
      "cell_type": "markdown",
      "source": [
        "#### Positional Embedding and Transformer Encoder"
      ],
      "metadata": {
        "id": "Tw-JfyC645Bi"
      }
    },
    {
      "cell_type": "code",
      "source": [
        "import tensorflow as tf\n",
        "from tensorflow import keras\n",
        "from keras import layers\n",
        "\n",
        "class PositionalEmbedding(layers.Layer):\n",
        "    def __init__(self, sequence_length, input_dim, output_dim, **kwargs):\n",
        "        super().__init__(**kwargs)\n",
        "        self.token_embeddings = layers.Embedding(\n",
        "            input_dim=input_dim, output_dim=output_dim)\n",
        "        self.position_embeddings = layers.Embedding(\n",
        "            input_dim=sequence_length, output_dim=output_dim)\n",
        "        self.sequence_length = sequence_length\n",
        "        self.input_dim = input_dim\n",
        "        self.output_dim = output_dim\n",
        "\n",
        "    def call(self, inputs):\n",
        "        length = tf.shape(inputs)[-1]\n",
        "        positions = tf.range(start=0, limit=length, delta=1)\n",
        "        embedded_tokens = self.token_embeddings(inputs)\n",
        "        embedded_positions = self.position_embeddings(positions)\n",
        "        return embedded_tokens + embedded_positions # add up the word embedding and position embedding\n",
        "\n",
        "    def compute_mask(self, inputs, mask=None):\n",
        "        return tf.math.not_equal(inputs, 0)\n",
        "\n",
        "    def get_config(self):\n",
        "        config = super().get_config()\n",
        "        config.update({\n",
        "            \"output_dim\": self.output_dim,\n",
        "            \"sequence_length\": self.sequence_length,\n",
        "            \"input_dim\": self.input_dim,\n",
        "        })\n",
        "        return config\n",
        "\n",
        "\n",
        "class TransformerEncoder(layers.Layer):\n",
        "    def __init__(self, embed_dim, dense_dim, num_heads, **kwargs):\n",
        "        super().__init__(**kwargs)\n",
        "        self.embed_dim = embed_dim\n",
        "        self.dense_dim = dense_dim\n",
        "        self.num_heads = num_heads\n",
        "        self.attention = layers.MultiHeadAttention(\n",
        "            num_heads=num_heads, key_dim=embed_dim)\n",
        "        self.dense_proj = keras.Sequential(\n",
        "            [layers.Dense(dense_dim, activation=\"relu\"),\n",
        "             layers.Dense(embed_dim),]\n",
        "        )\n",
        "        self.layernorm_1 = layers.LayerNormalization()\n",
        "        self.layernorm_2 = layers.LayerNormalization()\n",
        "\n",
        "    def call(self, inputs, mask=None):\n",
        "        if mask is not None:\n",
        "            mask = mask[:, tf.newaxis, :]\n",
        "        attention_output = self.attention(\n",
        "            inputs, inputs, attention_mask=mask)\n",
        "        proj_input = self.layernorm_1(inputs + attention_output)\n",
        "        proj_output = self.dense_proj(proj_input)\n",
        "        return self.layernorm_2(proj_input + proj_output)\n",
        "\n",
        "    def get_config(self):\n",
        "        config = super().get_config()\n",
        "        config.update({\n",
        "            \"embed_dim\": self.embed_dim,\n",
        "            \"num_heads\": self.num_heads,\n",
        "            \"dense_dim\": self.dense_dim,\n",
        "        })\n",
        "        return config"
      ],
      "metadata": {
        "id": "f2-ab3fqVuR_"
      },
      "execution_count": 80,
      "outputs": []
    },
    {
      "cell_type": "markdown",
      "source": [
        "#### End-to-end Model for Multi-class Classification"
      ],
      "metadata": {
        "id": "IooUFjwzWEAI"
      }
    },
    {
      "cell_type": "code",
      "source": [
        "import tensorflow\n",
        "from tensorflow import keras\n",
        "from tensorflow.keras import layers\n",
        "\n",
        "embed_dim = 128\n",
        "latent_dim = 512\n",
        "num_heads = 8\n",
        "\n",
        "output_size = 13\n",
        "\n",
        "inputs = keras.Input(shape=(None,), dtype=\"int64\")\n",
        "x = PositionalEmbedding(sequence_length, vocab_size, embed_dim)(inputs)\n",
        "x = TransformerEncoder(embed_dim, latent_dim, num_heads)(x)\n",
        "x = layers.GlobalMaxPooling1D()(x) # reduce sequence to a single vector\n",
        "x = layers.Dropout(0.5)(x)\n",
        "outputs = layers.Dense(output_size, activation=\"softmax\")(x)\n",
        "\n",
        "model = keras.Model(inputs, outputs)\n",
        "model.summary()\n",
        "\n",
        "model.compile(loss=\"categorical_crossentropy\", optimizer=\"rmsprop\", metrics=[\"accuracy\"])"
      ],
      "metadata": {
        "id": "4p4-mD-wV_yT",
        "colab": {
          "base_uri": "https://localhost:8080/"
        },
        "outputId": "32932d67-152c-42bc-dd74-fd712e402f45"
      },
      "execution_count": 95,
      "outputs": [
        {
          "output_type": "stream",
          "name": "stdout",
          "text": [
            "Model: \"model_16\"\n",
            "_________________________________________________________________\n",
            " Layer (type)                Output Shape              Param #   \n",
            "=================================================================\n",
            " input_17 (InputLayer)       [(None, None)]            0         \n",
            "                                                                 \n",
            " positional_embedding_16 (Po  (None, None, 128)        10112     \n",
            " sitionalEmbedding)                                              \n",
            "                                                                 \n",
            " transformer_encoder_16 (Tra  (None, None, 128)        659712    \n",
            " nsformerEncoder)                                                \n",
            "                                                                 \n",
            " global_max_pooling1d_7 (Glo  (None, 128)              0         \n",
            " balMaxPooling1D)                                                \n",
            "                                                                 \n",
            " dropout_16 (Dropout)        (None, 128)               0         \n",
            "                                                                 \n",
            " dense_59 (Dense)            (None, 13)                1677      \n",
            "                                                                 \n",
            "=================================================================\n",
            "Total params: 671,501\n",
            "Trainable params: 671,501\n",
            "Non-trainable params: 0\n",
            "_________________________________________________________________\n"
          ]
        }
      ]
    },
    {
      "cell_type": "markdown",
      "source": [
        "#### Train the Model"
      ],
      "metadata": {
        "id": "qdwfkZ1i42vT"
      }
    },
    {
      "cell_type": "code",
      "source": [
        "# tokens_index = dict(enumerate(text_vectorization.get_vocabulary()))\n",
        "\n",
        "class predNextAcc(keras.callbacks.Callback):\n",
        "    def __init__(self,\n",
        "                 prefix,\n",
        "                 nextWord,\n",
        "                #  model_input_length,\n",
        "                #  temperatures=(1.,),\n",
        "                #  print_freq=1\n",
        "                 ):\n",
        "        self.prefix = text_vectorization(prefix)\n",
        "        self.nextWord = nextWord\n",
        "        # self.model_input_length = model_input_length\n",
        "        # self.temperatures = temperatures\n",
        "        # self.print_freq = print_freq\n",
        "        \n",
        "\n",
        "    def on_epoch_end(self, epoch, logs=None):\n",
        "        tokenized_sentences = self.prefix\n",
        "        predictions = self.model(tokenized_sentences)\n",
        "        pred_next = predictions[:, 0, :]\n",
        "        print('\\npred_next.shape', pred_next.shape)\n",
        "        next_tokens = np.argmax(pred_next, axis=1) # check axis=1 here\n",
        "        print('next_tokens.shape', next_tokens.shape)\n",
        "\n",
        "        pred_nextWords = [tokens_index[i] for i in next_tokens]\n",
        "\n",
        "        # target_tokens = text_vectorization(self.nextWord)\n",
        "        # print('target_tokens.shape', target_tokens.shape)\n",
        "\n",
        "        target_words = self.nextWord\n",
        "        wordAcc = 0\n",
        "        match_ct = 0\n",
        "        total_ct = len(target_words)\n",
        "        for i in range(total_ct):\n",
        "          if pred_nextWords[i] == target_words[i]:\n",
        "            match_ct += 1\n",
        "        print('match_ct =', match_ct)\n",
        "        print('total_ct =', total_ct)\n",
        "        print('wordAcc =', match_ct / total_ct)\n",
        "\n",
        "        # for temperature in self.temperatures:\n",
        "        #     print(\"== Generating with temperature\", temperature)\n",
        "        #     sentence = self.prompt\n",
        "        #     for i in range(self.generate_length):\n",
        "        #         tokenized_sentence = text_vectorization([sentence])\n",
        "        #         predictions = self.model(tokenized_sentence)\n",
        "        #         next_token = sample_next(predictions[0, i, :])\n",
        "        #         sampled_token = tokens_index[next_token]\n",
        "        #         sentence += \" \" + sampled_token\n",
        "        #     print(sentence)\n",
        "\n",
        "# prefix = [sen.strip()[:-2] for sen in train_set[:300]]\n",
        "# nextWord = [sen.strip()[-1] for sen in train_set[:300]]\n",
        "\n",
        "# prefix = [sen.strip()[:-2] for sen in train_texts[:1000]]\n",
        "# nextWord = [sen.strip()[-1] for sen in train_texts[:1000]]\n",
        "\n",
        "# prefix = [sen.strip()[:-2] for sen in val_set]\n",
        "# nextWord = [sen.strip()[-1] for sen in val_set]\n",
        "\n",
        "# print(prefix)\n",
        "# print(nextWord)\n",
        "# stop\n",
        "\n",
        "# predNextAcc_callback = predNextAcc(prefix, nextWord)\n",
        "\n",
        "# print(X_train.shape)\n",
        "# print(y_train.shape)\n",
        "\n",
        "# history = model.fit(X_train, y_train, batch_size=64, shuffle=True, validation_data=(X_val, y_val), epochs=20, callbacks=[predNextAcc_callback])\n",
        "\n",
        "history = model.fit(X_train, y_train, batch_size=64, shuffle=True, validation_data=(X_val, y_val), epochs=30)"
      ],
      "metadata": {
        "colab": {
          "base_uri": "https://localhost:8080/"
        },
        "id": "irWZ4PmkaPeY",
        "outputId": "4b28f89f-535c-4cd8-d424-9e39a4f862fa"
      },
      "execution_count": 96,
      "outputs": [
        {
          "output_type": "stream",
          "name": "stdout",
          "text": [
            "Epoch 1/30\n",
            "67/67 [==============================] - 4s 30ms/step - loss: 2.8617 - accuracy: 0.1504 - val_loss: 2.3236 - val_accuracy: 0.1147\n",
            "Epoch 2/30\n",
            "67/67 [==============================] - 2s 23ms/step - loss: 2.3951 - accuracy: 0.1586 - val_loss: 2.1602 - val_accuracy: 0.1787\n",
            "Epoch 3/30\n",
            "67/67 [==============================] - 1s 22ms/step - loss: 2.2347 - accuracy: 0.1809 - val_loss: 2.0703 - val_accuracy: 0.2440\n",
            "Epoch 4/30\n",
            "67/67 [==============================] - 1s 18ms/step - loss: 2.1398 - accuracy: 0.2054 - val_loss: 2.0161 - val_accuracy: 0.1947\n",
            "Epoch 5/30\n",
            "67/67 [==============================] - 1s 18ms/step - loss: 2.0495 - accuracy: 0.2445 - val_loss: 1.8281 - val_accuracy: 0.3120\n",
            "Epoch 6/30\n",
            "67/67 [==============================] - 1s 19ms/step - loss: 1.9439 - accuracy: 0.2685 - val_loss: 1.7813 - val_accuracy: 0.2573\n",
            "Epoch 7/30\n",
            "67/67 [==============================] - 1s 18ms/step - loss: 1.9192 - accuracy: 0.2718 - val_loss: 1.5895 - val_accuracy: 0.3347\n",
            "Epoch 8/30\n",
            "67/67 [==============================] - 1s 19ms/step - loss: 1.7984 - accuracy: 0.2988 - val_loss: 1.5115 - val_accuracy: 0.3200\n",
            "Epoch 9/30\n",
            "67/67 [==============================] - 1s 18ms/step - loss: 1.7990 - accuracy: 0.3016 - val_loss: 1.5250 - val_accuracy: 0.2987\n",
            "Epoch 10/30\n",
            "67/67 [==============================] - 1s 19ms/step - loss: 1.8385 - accuracy: 0.2894 - val_loss: 1.5280 - val_accuracy: 0.3187\n",
            "Epoch 11/30\n",
            "67/67 [==============================] - 1s 19ms/step - loss: 1.7920 - accuracy: 0.2936 - val_loss: 1.4699 - val_accuracy: 0.3413\n",
            "Epoch 12/30\n",
            "67/67 [==============================] - 1s 18ms/step - loss: 1.7508 - accuracy: 0.3158 - val_loss: 1.4630 - val_accuracy: 0.3373\n",
            "Epoch 13/30\n",
            "67/67 [==============================] - 1s 18ms/step - loss: 1.7972 - accuracy: 0.3021 - val_loss: 1.4538 - val_accuracy: 0.3507\n",
            "Epoch 14/30\n",
            "67/67 [==============================] - 1s 18ms/step - loss: 1.7623 - accuracy: 0.3089 - val_loss: 1.4548 - val_accuracy: 0.3467\n",
            "Epoch 15/30\n",
            "67/67 [==============================] - 1s 18ms/step - loss: 1.7942 - accuracy: 0.3061 - val_loss: 1.4590 - val_accuracy: 0.3187\n",
            "Epoch 16/30\n",
            "67/67 [==============================] - 1s 19ms/step - loss: 1.6529 - accuracy: 0.3308 - val_loss: 1.4454 - val_accuracy: 0.3293\n",
            "Epoch 17/30\n",
            "67/67 [==============================] - 1s 18ms/step - loss: 1.6983 - accuracy: 0.3184 - val_loss: 1.4637 - val_accuracy: 0.3227\n",
            "Epoch 18/30\n",
            "67/67 [==============================] - 1s 18ms/step - loss: 1.5939 - accuracy: 0.3322 - val_loss: 1.4194 - val_accuracy: 0.3427\n",
            "Epoch 19/30\n",
            "67/67 [==============================] - 1s 19ms/step - loss: 1.6556 - accuracy: 0.3280 - val_loss: 2.2752 - val_accuracy: 0.1680\n",
            "Epoch 20/30\n",
            "67/67 [==============================] - 1s 18ms/step - loss: 1.5539 - accuracy: 0.3346 - val_loss: 1.4340 - val_accuracy: 0.3467\n",
            "Epoch 21/30\n",
            "67/67 [==============================] - 1s 19ms/step - loss: 1.7069 - accuracy: 0.3292 - val_loss: 1.5110 - val_accuracy: 0.3040\n",
            "Epoch 22/30\n",
            "67/67 [==============================] - 1s 18ms/step - loss: 1.5716 - accuracy: 0.3433 - val_loss: 1.4224 - val_accuracy: 0.3360\n",
            "Epoch 23/30\n",
            "67/67 [==============================] - 1s 18ms/step - loss: 1.5796 - accuracy: 0.3264 - val_loss: 1.4570 - val_accuracy: 0.3173\n",
            "Epoch 24/30\n",
            "67/67 [==============================] - 1s 18ms/step - loss: 1.6032 - accuracy: 0.3424 - val_loss: 1.4313 - val_accuracy: 0.3533\n",
            "Epoch 25/30\n",
            "67/67 [==============================] - 1s 19ms/step - loss: 1.5949 - accuracy: 0.3346 - val_loss: 1.4340 - val_accuracy: 0.3120\n",
            "Epoch 26/30\n",
            "67/67 [==============================] - 1s 19ms/step - loss: 1.6120 - accuracy: 0.3306 - val_loss: 1.4501 - val_accuracy: 0.3133\n",
            "Epoch 27/30\n",
            "67/67 [==============================] - 1s 19ms/step - loss: 1.5215 - accuracy: 0.3409 - val_loss: 1.4858 - val_accuracy: 0.3253\n",
            "Epoch 28/30\n",
            "67/67 [==============================] - 1s 19ms/step - loss: 1.5190 - accuracy: 0.3485 - val_loss: 1.4318 - val_accuracy: 0.3373\n",
            "Epoch 29/30\n",
            "67/67 [==============================] - 1s 19ms/step - loss: 1.6128 - accuracy: 0.3339 - val_loss: 2.0158 - val_accuracy: 0.2400\n",
            "Epoch 30/30\n",
            "67/67 [==============================] - 1s 18ms/step - loss: 1.5186 - accuracy: 0.3529 - val_loss: 1.4318 - val_accuracy: 0.3507\n"
          ]
        }
      ]
    },
    {
      "cell_type": "markdown",
      "source": [
        "#### Save the trained model"
      ],
      "metadata": {
        "id": "-8fobCI_6FJ9"
      }
    },
    {
      "cell_type": "code",
      "source": [
        "model.save('tianliu_525004380_project3_transformer_trained_valacc0.3507.model')\n",
        "model.save_weights('tianliu_525004380_project3_transformer_trained_valacc0.3507.weights') # save by weights\n",
        "model.save('tianliu_525004380_project3_transformer_trained_valacc0.3507.model.h5') # save by h5 format"
      ],
      "metadata": {
        "colab": {
          "base_uri": "https://localhost:8080/"
        },
        "id": "BZ8WHxK86EKf",
        "outputId": "99745617-8687-4608-d43b-25b6eb675913"
      },
      "execution_count": 99,
      "outputs": [
        {
          "output_type": "stream",
          "name": "stderr",
          "text": [
            "WARNING:absl:Found untraced functions such as embedding_32_layer_call_fn, embedding_32_layer_call_and_return_conditional_losses, embedding_33_layer_call_fn, embedding_33_layer_call_and_return_conditional_losses, multi_head_attention_16_layer_call_fn while saving (showing 5 of 22). These functions will not be directly callable after loading.\n"
          ]
        },
        {
          "output_type": "stream",
          "name": "stdout",
          "text": [
            "INFO:tensorflow:Assets written to: tianliu_525004380_project3_transformer_trained_valacc0.3507.model/assets\n"
          ]
        },
        {
          "output_type": "stream",
          "name": "stderr",
          "text": [
            "INFO:tensorflow:Assets written to: tianliu_525004380_project3_transformer_trained_valacc0.3507.model/assets\n"
          ]
        }
      ]
    },
    {
      "cell_type": "code",
      "source": [
        "# plot training and validation loss and acc\n",
        "\n",
        "import matplotlib.pyplot as plt\n",
        "\n",
        "history_dict = history.history\n",
        "loss_values = history_dict[\"loss\"]\n",
        "val_loss_values = history_dict[\"val_loss\"]\n",
        "epochs = range(1, len(loss_values) + 1)\n",
        "plt.plot(epochs, loss_values, \"r\", marker=\"o\", label=\"Training loss\")\n",
        "plt.plot(epochs, val_loss_values, \"b\", marker=\"o\",label=\"Validation loss\")\n",
        "plt.title(\"Training and validation loss\")\n",
        "plt.xlabel(\"Epochs\")\n",
        "plt.ylabel(\"Loss\")\n",
        "plt.legend()\n",
        "plt.show()\n",
        "\n",
        "plt.clf()\n",
        "acc = history_dict[\"accuracy\"]\n",
        "val_acc = history_dict[\"val_accuracy\"]\n",
        "plt.plot(epochs, acc, \"r\", marker=\"o\", label=\"Training acc\")\n",
        "plt.plot(epochs, val_acc, \"b\", marker=\"o\", label=\"Validation acc\")\n",
        "plt.title(\"Training and validation accuracy\")\n",
        "plt.xlabel(\"Epochs\")\n",
        "plt.ylabel(\"Accuracy\")\n",
        "plt.legend()\n",
        "plt.show()"
      ],
      "metadata": {
        "colab": {
          "base_uri": "https://localhost:8080/",
          "height": 573
        },
        "id": "VWSUemOrnC1R",
        "outputId": "c80a5653-db34-49be-da3d-16e3fc455501"
      },
      "execution_count": 100,
      "outputs": [
        {
          "output_type": "display_data",
          "data": {
            "text/plain": [
              "<Figure size 432x288 with 1 Axes>"
            ],
            "image/png": "[encoded data removed]"
          },
          "metadata": {
            "needs_background": "light"
          }
        },
        {
          "output_type": "display_data",
          "data": {
            "text/plain": [
              "<Figure size 432x288 with 1 Axes>"
            ],
            "image/png": "[encoded data removed]"
          },
          "metadata": {
            "needs_background": "light"
          }
        }
      ]
    },
    {
      "cell_type": "markdown",
      "source": [
        "### Retrain on the entire given training data"
      ],
      "metadata": {
        "id": "8XsbFDC27CXb"
      }
    },
    {
      "cell_type": "code",
      "source": [
        "trainset_prefix_all = [sen[:-2] for sen in train_texts]\n",
        "trainset_nextWord_all = [sen[-1:] for sen in train_texts]\n",
        "\n",
        "X_train = text_vectorization(trainset_prefix_all)\n",
        "y_train = [tokens_index[nextWord] for nextWord in trainset_nextWord_all]\n",
        "y_train = to_one_hot(y_train, len(tokens_index))\n",
        "\n",
        "print(X_train.shape)\n",
        "print(y_train.shape)"
      ],
      "metadata": {
        "colab": {
          "base_uri": "https://localhost:8080/"
        },
        "id": "xuCTN1YZ7G1M",
        "outputId": "c2c2cf54-bc8e-4d1e-c547-195cb863cc8d"
      },
      "execution_count": 19,
      "outputs": [
        {
          "output_type": "stream",
          "name": "stdout",
          "text": [
            "(5000, 66)\n",
            "(5000, 13)\n"
          ]
        }
      ]
    },
    {
      "cell_type": "code",
      "source": [
        "# rebuild model\n",
        "\n",
        "embed_dim = 128\n",
        "latent_dim = 512\n",
        "num_heads = 8\n",
        "\n",
        "output_size = 13\n",
        "\n",
        "inputs = keras.Input(shape=(None,), dtype=\"int64\")\n",
        "x = PositionalEmbedding(sequence_length, vocab_size, embed_dim)(inputs)\n",
        "x = TransformerEncoder(embed_dim, latent_dim, num_heads)(x)\n",
        "x = layers.GlobalMaxPooling1D()(x) # reduce sequence to a single vector\n",
        "x = layers.Dropout(0.5)(x)\n",
        "outputs = layers.Dense(output_size, activation=\"softmax\")(x)\n",
        "\n",
        "model = keras.Model(inputs, outputs)\n",
        "model.summary()\n",
        "\n",
        "model.compile(loss=\"categorical_crossentropy\", optimizer=\"rmsprop\", metrics=[\"accuracy\"])"
      ],
      "metadata": {
        "colab": {
          "base_uri": "https://localhost:8080/"
        },
        "id": "-FhjlE9v-IoT",
        "outputId": "f1a5cb7f-e701-44be-e210-f8baa37450bc"
      },
      "execution_count": 115,
      "outputs": [
        {
          "output_type": "stream",
          "name": "stdout",
          "text": [
            "Model: \"model_19\"\n",
            "_________________________________________________________________\n",
            " Layer (type)                Output Shape              Param #   \n",
            "=================================================================\n",
            " input_20 (InputLayer)       [(None, None)]            0         \n",
            "                                                                 \n",
            " positional_embedding_19 (Po  (None, None, 128)        10112     \n",
            " sitionalEmbedding)                                              \n",
            "                                                                 \n",
            " transformer_encoder_19 (Tra  (None, None, 128)        659712    \n",
            " nsformerEncoder)                                                \n",
            "                                                                 \n",
            " global_max_pooling1d_10 (Gl  (None, 128)              0         \n",
            " obalMaxPooling1D)                                               \n",
            "                                                                 \n",
            " dropout_19 (Dropout)        (None, 128)               0         \n",
            "                                                                 \n",
            " dense_70 (Dense)            (None, 13)                1677      \n",
            "                                                                 \n",
            "=================================================================\n",
            "Total params: 671,501\n",
            "Trainable params: 671,501\n",
            "Non-trainable params: 0\n",
            "_________________________________________________________________\n"
          ]
        }
      ]
    },
    {
      "cell_type": "code",
      "source": [
        "# retrain model on entire training data\n",
        "history = model.fit(X_train, y_train, batch_size=64, shuffle=True, epochs=30)"
      ],
      "metadata": {
        "colab": {
          "base_uri": "https://localhost:8080/"
        },
        "id": "GLtfqC68-Ps5",
        "outputId": "82af30bb-ede4-4738-fc96-f6fa7bd85802"
      },
      "execution_count": 116,
      "outputs": [
        {
          "output_type": "stream",
          "name": "stdout",
          "text": [
            "Epoch 1/30\n",
            "79/79 [==============================] - 4s 17ms/step - loss: 2.7399 - accuracy: 0.1534\n",
            "Epoch 2/30\n",
            "79/79 [==============================] - 1s 16ms/step - loss: 2.2864 - accuracy: 0.1740\n",
            "Epoch 3/30\n",
            "79/79 [==============================] - 1s 16ms/step - loss: 2.1807 - accuracy: 0.1942\n",
            "Epoch 4/30\n",
            "79/79 [==============================] - 1s 16ms/step - loss: 2.0471 - accuracy: 0.2368\n",
            "Epoch 5/30\n",
            "79/79 [==============================] - 1s 16ms/step - loss: 1.9657 - accuracy: 0.2552\n",
            "Epoch 6/30\n",
            "79/79 [==============================] - 1s 16ms/step - loss: 1.8634 - accuracy: 0.2790\n",
            "Epoch 7/30\n",
            "79/79 [==============================] - 1s 16ms/step - loss: 1.8119 - accuracy: 0.2946\n",
            "Epoch 8/30\n",
            "79/79 [==============================] - 1s 16ms/step - loss: 1.8343 - accuracy: 0.2852\n",
            "Epoch 9/30\n",
            "79/79 [==============================] - 1s 16ms/step - loss: 1.7991 - accuracy: 0.2972\n",
            "Epoch 10/30\n",
            "79/79 [==============================] - 1s 16ms/step - loss: 1.7533 - accuracy: 0.3020\n",
            "Epoch 11/30\n",
            "79/79 [==============================] - 1s 16ms/step - loss: 1.8200 - accuracy: 0.2942\n",
            "Epoch 12/30\n",
            "79/79 [==============================] - 1s 16ms/step - loss: 1.6361 - accuracy: 0.3078\n",
            "Epoch 13/30\n",
            "79/79 [==============================] - 1s 16ms/step - loss: 1.7984 - accuracy: 0.3092\n",
            "Epoch 14/30\n",
            "79/79 [==============================] - 1s 16ms/step - loss: 1.7775 - accuracy: 0.3086\n",
            "Epoch 15/30\n",
            "79/79 [==============================] - 1s 16ms/step - loss: 1.7658 - accuracy: 0.3066\n",
            "Epoch 16/30\n",
            "79/79 [==============================] - 1s 16ms/step - loss: 1.5865 - accuracy: 0.3240\n",
            "Epoch 17/30\n",
            "79/79 [==============================] - 1s 16ms/step - loss: 1.6759 - accuracy: 0.3184\n",
            "Epoch 18/30\n",
            "79/79 [==============================] - 1s 16ms/step - loss: 1.7062 - accuracy: 0.3186\n",
            "Epoch 19/30\n",
            "79/79 [==============================] - 1s 16ms/step - loss: 1.5987 - accuracy: 0.3232\n",
            "Epoch 20/30\n",
            "79/79 [==============================] - 1s 16ms/step - loss: 1.6926 - accuracy: 0.3202\n",
            "Epoch 21/30\n",
            "79/79 [==============================] - 1s 17ms/step - loss: 1.6059 - accuracy: 0.3220\n",
            "Epoch 22/30\n",
            "79/79 [==============================] - 1s 16ms/step - loss: 1.6466 - accuracy: 0.3306\n",
            "Epoch 23/30\n",
            "79/79 [==============================] - 1s 16ms/step - loss: 1.7033 - accuracy: 0.3272\n",
            "Epoch 24/30\n",
            "79/79 [==============================] - 1s 16ms/step - loss: 1.6035 - accuracy: 0.3308\n",
            "Epoch 25/30\n",
            "79/79 [==============================] - 1s 17ms/step - loss: 1.5833 - accuracy: 0.3362\n",
            "Epoch 26/30\n",
            "79/79 [==============================] - 1s 16ms/step - loss: 1.5456 - accuracy: 0.3318\n",
            "Epoch 27/30\n",
            "79/79 [==============================] - 1s 16ms/step - loss: 1.5812 - accuracy: 0.3368\n",
            "Epoch 28/30\n",
            "79/79 [==============================] - 1s 16ms/step - loss: 1.5703 - accuracy: 0.3432\n",
            "Epoch 29/30\n",
            "79/79 [==============================] - 1s 17ms/step - loss: 1.6230 - accuracy: 0.3230\n",
            "Epoch 30/30\n",
            "79/79 [==============================] - 2s 22ms/step - loss: 1.5163 - accuracy: 0.3328\n"
          ]
        }
      ]
    },
    {
      "cell_type": "markdown",
      "source": [
        "### Save Final Trained Model"
      ],
      "metadata": {
        "id": "wqmUxTgb-d_a"
      }
    },
    {
      "cell_type": "code",
      "source": [
        "# model.save('final_model/tianliu_525004380_project3_transformer_final.model')\n",
        "model.save_weights('final_model/tianliu_525004380_project3_transformer_final.weights') # save by weights\n",
        "# model.save('final_model/tianliu_525004380_project3_transformer_final.model.h5') # save by h5 format"
      ],
      "metadata": {
        "colab": {
          "base_uri": "https://localhost:8080/"
        },
        "id": "gXs944lm-icm",
        "outputId": "baf31f98-dfc6-4421-9988-338c1d7ddc14"
      },
      "execution_count": 117,
      "outputs": [
        {
          "output_type": "stream",
          "name": "stderr",
          "text": [
            "WARNING:absl:Found untraced functions such as embedding_40_layer_call_fn, embedding_40_layer_call_and_return_conditional_losses, embedding_41_layer_call_fn, embedding_41_layer_call_and_return_conditional_losses, multi_head_attention_20_layer_call_fn while saving (showing 5 of 22). These functions will not be directly callable after loading.\n"
          ]
        },
        {
          "output_type": "stream",
          "name": "stdout",
          "text": [
            "INFO:tensorflow:Assets written to: final_model/tianliu_525004380_project3_transformer_final.model/assets\n"
          ]
        },
        {
          "output_type": "stream",
          "name": "stderr",
          "text": [
            "INFO:tensorflow:Assets written to: final_model/tianliu_525004380_project3_transformer_final.model/assets\n"
          ]
        }
      ]
    },
    {
      "cell_type": "markdown",
      "source": [
        "### Reload the Final Model for Testing"
      ],
      "metadata": {
        "id": "phGb50C1_KQb"
      }
    },
    {
      "cell_type": "code",
      "source": [
        "%cd 'drive/MyDrive/Colab Notebooks/CSCE636_DeepLearning/Project3_LanguageModeling/'"
      ],
      "metadata": {
        "colab": {
          "base_uri": "https://localhost:8080/"
        },
        "id": "CRFucXf2ZdvP",
        "outputId": "b3563289-d23b-4d34-964e-9634caea7515"
      },
      "execution_count": 8,
      "outputs": [
        {
          "output_type": "stream",
          "name": "stdout",
          "text": [
            "[Errno 2] No such file or directory: 'drive/MyDrive/Colab Notebooks/CSCE636_DeepLearning/Project3_LanguageModeling/'\n",
            "/content/drive/MyDrive/Colab Notebooks/CSCE636_DeepLearning/Project3_LanguageModeling\n"
          ]
        }
      ]
    },
    {
      "cell_type": "markdown",
      "source": [
        "#### Load final model and double check"
      ],
      "metadata": {
        "id": "69xise5eMMai"
      }
    },
    {
      "cell_type": "markdown",
      "source": [
        "Here we have to load by weights to ensure the correctness of the model"
      ],
      "metadata": {
        "id": "LKmrEojULIn3"
      }
    },
    {
      "cell_type": "code",
      "source": [
        "# load trained model # NOTICE the following load_model will not yield the same accuracy as loading by weights, reasons to be explored\n",
        "\n",
        "# final_model = keras.models.load_model('final_model/tianliu_525004380_project3_transformer_final.model', custom_objects={\"PositionalEmbedding\": PositionalEmbedding, \"TransformerEncoder\": TransformerEncoder})\n"
      ],
      "metadata": {
        "id": "tPvByF0K9Q47"
      },
      "execution_count": 118,
      "outputs": []
    },
    {
      "cell_type": "code",
      "source": [
        "# rebuild model by loading weights\n",
        "import tensorflow as tf\n",
        "from tensorflow import keras\n",
        "from keras import layers\n",
        "\n",
        "class PositionalEmbedding(layers.Layer):\n",
        "    def __init__(self, sequence_length, input_dim, output_dim, **kwargs):\n",
        "        super().__init__(**kwargs)\n",
        "        self.token_embeddings = layers.Embedding(\n",
        "            input_dim=input_dim, output_dim=output_dim)\n",
        "        self.position_embeddings = layers.Embedding(\n",
        "            input_dim=sequence_length, output_dim=output_dim)\n",
        "        self.sequence_length = sequence_length\n",
        "        self.input_dim = input_dim\n",
        "        self.output_dim = output_dim\n",
        "\n",
        "    def call(self, inputs):\n",
        "        length = tf.shape(inputs)[-1]\n",
        "        positions = tf.range(start=0, limit=length, delta=1)\n",
        "        embedded_tokens = self.token_embeddings(inputs)\n",
        "        embedded_positions = self.position_embeddings(positions)\n",
        "        return embedded_tokens + embedded_positions # add up the word embedding and position embedding\n",
        "\n",
        "    def compute_mask(self, inputs, mask=None):\n",
        "        return tf.math.not_equal(inputs, 0)\n",
        "\n",
        "    def get_config(self):\n",
        "        config = super().get_config()\n",
        "        config.update({\n",
        "            \"output_dim\": self.output_dim,\n",
        "            \"sequence_length\": self.sequence_length,\n",
        "            \"input_dim\": self.input_dim,\n",
        "        })\n",
        "        return config\n",
        "\n",
        "\n",
        "class TransformerEncoder(layers.Layer):\n",
        "    def __init__(self, embed_dim, dense_dim, num_heads, **kwargs):\n",
        "        super().__init__(**kwargs)\n",
        "        self.embed_dim = embed_dim\n",
        "        self.dense_dim = dense_dim\n",
        "        self.num_heads = num_heads\n",
        "        self.attention = layers.MultiHeadAttention(\n",
        "            num_heads=num_heads, key_dim=embed_dim)\n",
        "        self.dense_proj = keras.Sequential(\n",
        "            [layers.Dense(dense_dim, activation=\"relu\"),\n",
        "             layers.Dense(embed_dim),]\n",
        "        )\n",
        "        self.layernorm_1 = layers.LayerNormalization()\n",
        "        self.layernorm_2 = layers.LayerNormalization()\n",
        "\n",
        "    def call(self, inputs, mask=None):\n",
        "        if mask is not None:\n",
        "            mask = mask[:, tf.newaxis, :]\n",
        "        attention_output = self.attention(\n",
        "            inputs, inputs, attention_mask=mask)\n",
        "        proj_input = self.layernorm_1(inputs + attention_output)\n",
        "        proj_output = self.dense_proj(proj_input)\n",
        "        return self.layernorm_2(proj_input + proj_output)\n",
        "\n",
        "    def get_config(self):\n",
        "        config = super().get_config()\n",
        "        config.update({\n",
        "            \"embed_dim\": self.embed_dim,\n",
        "            \"num_heads\": self.num_heads,\n",
        "            \"dense_dim\": self.dense_dim,\n",
        "        })\n",
        "        return config\n",
        "\n",
        "\n",
        "\n",
        "embed_dim = 128\n",
        "latent_dim = 512\n",
        "num_heads = 8\n",
        "sequence_length = 66\n",
        "vocab_size = 13\n",
        "output_size = 13\n",
        "\n",
        "inputs = keras.Input(shape=(None,), dtype=\"int64\")\n",
        "x = PositionalEmbedding(sequence_length, vocab_size, embed_dim)(inputs)\n",
        "x = TransformerEncoder(embed_dim, latent_dim, num_heads)(x)\n",
        "x = layers.GlobalMaxPooling1D()(x) # reduce sequence to a single vector\n",
        "x = layers.Dropout(0.5)(x)\n",
        "outputs = layers.Dense(output_size, activation=\"softmax\")(x)\n",
        "\n",
        "final_model = keras.Model(inputs, outputs)\n",
        "# model.summary()\n",
        "\n",
        "final_model.load_weights('final_model/tianliu_525004380_project3_transformer_final.model')\n",
        "\n",
        "final_model.compile(loss=\"categorical_crossentropy\", optimizer=\"rmsprop\", metrics=[\"accuracy\"])"
      ],
      "metadata": {
        "id": "vU8AQBoJKXbw"
      },
      "execution_count": 9,
      "outputs": []
    },
    {
      "cell_type": "code",
      "source": [
        "# test on the val dataset again to verify the correctness of the loaded model\n",
        "\n",
        "# res = final_model.evaluate(X_val, y_val)\n",
        "# res = final_model.evaluate(X_train, y_train)"
      ],
      "metadata": {
        "colab": {
          "base_uri": "https://localhost:8080/"
        },
        "id": "dHqZ7KRWJHBv",
        "outputId": "1bb9cf40-6afe-4472-d9cd-346c5be915e8"
      },
      "execution_count": 20,
      "outputs": [
        {
          "output_type": "stream",
          "name": "stdout",
          "text": [
            "157/157 [==============================] - 2s 6ms/step - loss: 1.4456 - accuracy: 0.3626\n"
          ]
        }
      ]
    },
    {
      "cell_type": "markdown",
      "source": [
        "#### Get Predictions on Testing Data"
      ],
      "metadata": {
        "id": "A1Qa3tOsMIvW"
      }
    },
    {
      "cell_type": "code",
      "source": [
        "import pickle\n",
        "\n",
        "# For grader to load the test file here\n",
        "test_prefix = pickle.load(open('DS_5_test_input_prefixList', 'rb')) \n",
        "test_nextWord = pickle.load(open('DS_5_test_input_nextWord', 'rb'))\n",
        "\n",
        "# for self-testing code\n",
        "# test_prefix = train_input \n",
        "# test_nextWord = train_output\n",
        "\n",
        "# rebuild the text_vectorization by loading train_texts\n",
        "train_texts = pickle.load(open('final_model/train_texts', 'rb'))\n",
        "\n",
        "from tensorflow.keras.layers import TextVectorization\n",
        "\n",
        "sequence_length = 66 # max len in train input of project is 64\n",
        "vocab_size = 13 # since only 13 unique letters in train_input\n",
        "text_vectorization = TextVectorization(\n",
        "    max_tokens=vocab_size,\n",
        "    output_mode=\"int\",\n",
        "    output_sequence_length=sequence_length,\n",
        ")\n",
        "\n",
        "text_vectorization.adapt(train_texts)\n",
        "print(len(text_vectorization.get_vocabulary()))\n",
        "\n",
        "# rebuild the index_token\n",
        "index_token = dict(enumerate(text_vectorization.get_vocabulary()))\n",
        "\n",
        "print(index_token)\n",
        "\n",
        "def predict_next_word(test_prefix):\n",
        "  \n",
        "  # preprocess the test input\n",
        "  test_texts = [' '.join(test_words) for test_words in test_prefix]\n",
        "  X_test = text_vectorization(test_texts)\n",
        "  \n",
        "  y_pred = final_model.predict(X_test)\n",
        "  # print('y_pred.shape =', y_pred.shape)\n",
        "  nextWord_pred = np.argmax(y_pred, axis=1)\n",
        "  # print('nextWord_pred.shape =', nextWord_pred.shape)\n",
        "\n",
        "  # decode idx back to word\n",
        "  res = []\n",
        "  for idx in nextWord_pred:\n",
        "    res.append(index_token[idx])\n",
        "\n",
        "  return res\n",
        "\n",
        "# get predictions\n",
        "test_nextWord_pred = predict_next_word(test_prefix) \n",
        "\n",
        "# calculate word accuracy\n",
        "total_ct = len(test_nextWord)\n",
        "match_ct = 0\n",
        "for i in range(total_ct):\n",
        "  if test_nextWord[i] == test_nextWord_pred[i]:\n",
        "    match_ct += 1\n",
        "\n",
        "print(\"testing word accuracy =\", match_ct / total_ct)\n"
      ],
      "metadata": {
        "colab": {
          "base_uri": "https://localhost:8080/"
        },
        "id": "KgX8Fm51MJA9",
        "outputId": "e4e105d9-a24b-464b-9fec-7d30df567475"
      },
      "execution_count": 11,
      "outputs": [
        {
          "output_type": "stream",
          "name": "stdout",
          "text": [
            "13\n",
            "{0: '', 1: '[UNK]', 2: 'a', 3: 'b', 4: 'c', 5: 'e', 6: 'd', 7: 'f', 8: 'g', 9: 'k', 10: 'i', 11: 'j', 12: 'h'}\n",
            "testing word accuracy = 0.3626\n"
          ]
        }
      ]
    }
  ]
}