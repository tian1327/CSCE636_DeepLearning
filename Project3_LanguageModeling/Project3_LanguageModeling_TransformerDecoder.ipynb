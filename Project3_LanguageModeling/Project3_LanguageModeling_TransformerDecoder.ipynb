{
  "nbformat": 4,
  "nbformat_minor": 0,
  "metadata": {
    "colab": {
      "name": "tianliu_525004380_Project3_LanguageModeling_TransformerDecoder",
      "provenance": [],
      "collapsed_sections": [],
      "toc_visible": true
    },
    "kernelspec": {
      "name": "python3",
      "display_name": "Python 3"
    },
    "language_info": {
      "name": "python"
    },
    "accelerator": "GPU"
  },
  "cells": [
    {
      "cell_type": "markdown",
      "source": [
        "Name: Tian Liu  \n",
        "UIN: 525004380"
      ],
      "metadata": {
        "id": "G8uAn6RjKcmr"
      }
    },
    {
      "cell_type": "code",
      "execution_count": 1,
      "metadata": {
        "colab": {
          "base_uri": "https://localhost:8080/"
        },
        "id": "8fLAqShmKTir",
        "outputId": "86b531c4-4084-4c1a-a42a-d3804fd5e278"
      },
      "outputs": [
        {
          "output_type": "stream",
          "name": "stdout",
          "text": [
            "Mon May  2 18:13:10 2022       \n",
            "+-----------------------------------------------------------------------------+\n",
            "| NVIDIA-SMI 460.32.03    Driver Version: 460.32.03    CUDA Version: 11.2     |\n",
            "|-------------------------------+----------------------+----------------------+\n",
            "| GPU  Name        Persistence-M| Bus-Id        Disp.A | Volatile Uncorr. ECC |\n",
            "| Fan  Temp  Perf  Pwr:Usage/Cap|         Memory-Usage | GPU-Util  Compute M. |\n",
            "|                               |                      |               MIG M. |\n",
            "|===============================+======================+======================|\n",
            "|   0  Tesla P100-PCIE...  Off  | 00000000:00:04.0 Off |                    0 |\n",
            "| N/A   48C    P0    40W / 250W |      0MiB / 16280MiB |      0%      Default |\n",
            "|                               |                      |                  N/A |\n",
            "+-------------------------------+----------------------+----------------------+\n",
            "                                                                               \n",
            "+-----------------------------------------------------------------------------+\n",
            "| Processes:                                                                  |\n",
            "|  GPU   GI   CI        PID   Type   Process name                  GPU Memory |\n",
            "|        ID   ID                                                   Usage      |\n",
            "|=============================================================================|\n",
            "|  No running processes found                                                 |\n",
            "+-----------------------------------------------------------------------------+\n"
          ]
        }
      ],
      "source": [
        "!nvidia-smi"
      ]
    },
    {
      "cell_type": "code",
      "source": [
        "from google.colab import drive\n",
        "drive.mount('/content/drive')\n",
        "%cd 'drive/MyDrive/Colab Notebooks/CSCE636_DeepLearning/Project3_LanguageModeling/'"
      ],
      "metadata": {
        "colab": {
          "base_uri": "https://localhost:8080/"
        },
        "id": "7nk52AE_K86B",
        "outputId": "a9c1c289-5164-4aa0-8b93-0abc7382d90d"
      },
      "execution_count": 2,
      "outputs": [
        {
          "output_type": "stream",
          "name": "stdout",
          "text": [
            "Drive already mounted at /content/drive; to attempt to forcibly remount, call drive.mount(\"/content/drive\", force_remount=True).\n",
            "/content/drive/MyDrive/Colab Notebooks/CSCE636_DeepLearning/Project3_LanguageModeling\n"
          ]
        }
      ]
    },
    {
      "cell_type": "markdown",
      "source": [
        "### Load Train Data"
      ],
      "metadata": {
        "id": "pZvhKW4hLgCb"
      }
    },
    {
      "cell_type": "code",
      "source": [
        "import pickle\n",
        "import numpy as np\n",
        "\n",
        "train_input = pickle.load(open('DS_5_train_input_prefixList', 'rb'))\n",
        "train_output = pickle.load(open('DS_5_train_input_nextWord', 'rb'))"
      ],
      "metadata": {
        "id": "dydX6TlHLGu8"
      },
      "execution_count": 3,
      "outputs": []
    },
    {
      "cell_type": "code",
      "source": [
        "train_input_p2 = pickle.load(open('../Project2_MachineTranslation/DS_5_train_input', 'rb'))\n",
        "for i in range(3):\n",
        "  print(train_input_p2[i])\n",
        "  print()"
      ],
      "metadata": {
        "colab": {
          "base_uri": "https://localhost:8080/"
        },
        "id": "rQpbk7_GP2Ov",
        "outputId": "4746bd14-84cd-49b7-e1dc-79310d501e49"
      },
      "execution_count": 36,
      "outputs": [
        {
          "output_type": "stream",
          "name": "stdout",
          "text": [
            "a g b f a f a e a k a j c f b f c d a k a k c e b g a h a k b d b f b f b d c d \n",
            "\n",
            "a k a e a e a e a i a f b e a i c d b g c g c e a i c f a e c f c d c d \n",
            "\n",
            "a k c f a d a g b e a h c d a h a k a k b f b e b e b d c d a e c d b f \n",
            "\n"
          ]
        }
      ]
    },
    {
      "cell_type": "code",
      "source": [
        "# examine the train data\n",
        "\n",
        "for i in range(3):\n",
        "  print(train_input[i])\n",
        "  print('->')\n",
        "  print(train_output[i])\n",
        "  print()"
      ],
      "metadata": {
        "colab": {
          "base_uri": "https://localhost:8080/"
        },
        "id": "D0cTYIPKLQ5_",
        "outputId": "65a1c94c-3052-414c-9644-09c6e82956d9"
      },
      "execution_count": 5,
      "outputs": [
        {
          "output_type": "stream",
          "name": "stdout",
          "text": [
            "['a', 'g', 'b', 'f', 'a', 'f', 'a', 'e', 'a', 'k', 'a', 'j', 'c', 'f', 'b', 'f', 'c', 'd', 'a', 'k']\n",
            "->\n",
            "a\n",
            "\n",
            "['a', 'k', 'a', 'e', 'a', 'e', 'a', 'e', 'a', 'i', 'a', 'f', 'b', 'e', 'a', 'i', 'c', 'd', 'b', 'g']\n",
            "->\n",
            "c\n",
            "\n",
            "['a', 'k', 'c', 'f', 'a', 'd', 'a', 'g', 'b', 'e', 'a', 'h', 'c', 'd', 'a', 'h', 'a', 'k', 'a']\n",
            "->\n",
            "k\n",
            "\n"
          ]
        }
      ]
    },
    {
      "cell_type": "code",
      "source": [
        "# check the data and vocab size in given training data\n",
        "max_len = 0\n",
        "max_ct = 0\n",
        "for text in train_input:\n",
        "  max_ct = max(max_ct, len(text))\n",
        "  for word in text:\n",
        "    max_len = max(max_len, len(word))\n",
        "\n",
        "print('max_len', max_len)\n",
        "print('max_ct', max_ct)\n",
        "\n",
        "max_len = 0\n",
        "max_ct = 0\n",
        "for text in train_output:\n",
        "  max_ct = max(max_ct, len(text))\n",
        "  for word in text:\n",
        "    max_len = max(max_len, len(word))\n",
        "\n",
        "print('max_len', max_len)\n",
        "print('max_ct', max_ct)"
      ],
      "metadata": {
        "colab": {
          "base_uri": "https://localhost:8080/"
        },
        "id": "FI_IeJGwLmDT",
        "outputId": "dd943403-b002-438c-a690-19680bd4f052"
      },
      "execution_count": 6,
      "outputs": [
        {
          "output_type": "stream",
          "name": "stdout",
          "text": [
            "max_len 1\n",
            "max_ct 48\n",
            "max_len 1\n",
            "max_ct 1\n"
          ]
        }
      ]
    },
    {
      "cell_type": "code",
      "source": [
        "# prepare train_texts by concatenate prefix and nextWord\n",
        "\n",
        "train_texts = []\n",
        "for i in range(len(train_input)):\n",
        "# for i in range(10):\n",
        "  prefix = train_input[i]\n",
        "  nextword = train_output[i]\n",
        "  sen = ' '.join(train_input[i]) + ' ' + train_output[i]\n",
        "  train_texts.append(sen)\n",
        "\n",
        "  # print('prefix', prefix)\n",
        "  # print('nextword', nextword)\n",
        "  # print('sen',sen)\n",
        "  # print(\"-----\")"
      ],
      "metadata": {
        "id": "wUm99hUyMl8B"
      },
      "execution_count": 7,
      "outputs": []
    },
    {
      "cell_type": "code",
      "source": [
        "# use project 2 train text data\n",
        "train_texts_p2 = train_input_p2"
      ],
      "metadata": {
        "id": "i0kdslXsw-T0"
      },
      "execution_count": 37,
      "outputs": []
    },
    {
      "cell_type": "markdown",
      "source": [
        "### Prepare TextVectorization Layer"
      ],
      "metadata": {
        "id": "bUwXWIfaLm7T"
      }
    },
    {
      "cell_type": "code",
      "source": [
        "from tensorflow.keras.layers import TextVectorization\n",
        "\n",
        "sequence_length = 65 # max len in train input of project is 64\n",
        "vocab_size = 13\n",
        "# since only 26 letters\n",
        "text_vectorization = TextVectorization(\n",
        "    max_tokens=vocab_size,\n",
        "    output_mode=\"int\",\n",
        "    output_sequence_length=sequence_length,\n",
        ")\n",
        "# text_vectorization.adapt(train_texts)\n",
        "text_vectorization.adapt(train_texts_p2)\n",
        "print(len(text_vectorization.get_vocabulary()))"
      ],
      "metadata": {
        "colab": {
          "base_uri": "https://localhost:8080/"
        },
        "id": "IGXSSOfNLOWs",
        "outputId": "c9bcd360-f5bb-43ef-bcf4-4f661d0066c5"
      },
      "execution_count": 48,
      "outputs": [
        {
          "output_type": "stream",
          "name": "stdout",
          "text": [
            "13\n"
          ]
        }
      ]
    },
    {
      "cell_type": "code",
      "source": [
        "# split into train and val\n",
        "\n",
        "import random\n",
        "\n",
        "random.shuffle(train_texts)\n",
        "num_val_samples = int(0.15 * len(train_texts))\n",
        "num_train_samples = len(train_texts) - num_val_samples\n",
        "\n",
        "train_set = train_texts[:num_train_samples]\n",
        "val_set = train_texts[num_train_samples:]\n",
        "\n",
        "print(len(train_set))\n",
        "print(len(val_set))"
      ],
      "metadata": {
        "colab": {
          "base_uri": "https://localhost:8080/"
        },
        "id": "3JnP4ZXLU2Xw",
        "outputId": "29870ee2-3779-4f05-82f2-e5811186a391"
      },
      "execution_count": 49,
      "outputs": [
        {
          "output_type": "stream",
          "name": "stdout",
          "text": [
            "4250\n",
            "750\n"
          ]
        }
      ]
    },
    {
      "cell_type": "code",
      "source": [
        "# prepare the input and output for the lm dataset\n",
        "\n",
        "# train_vec = text_vectorization(train_set)\n",
        "train_vec = text_vectorization(train_texts_p2) # train on project2 train data which has longer sentences\n",
        "\n",
        "X_train = train_vec[:, :-1]\n",
        "y_train = train_vec[:, 1:]\n",
        "\n",
        "val_vec = text_vectorization(val_set)\n",
        "X_val = val_vec[:, :-1]\n",
        "y_val = val_vec[:, 1:]\n",
        "\n",
        "print(train_vec[10])\n",
        "print(X_train[10])\n",
        "print(y_train[10])"
      ],
      "metadata": {
        "colab": {
          "base_uri": "https://localhost:8080/"
        },
        "id": "6tZnzHA2Qiee",
        "outputId": "a73c8199-f8ee-46ff-90dc-e6421dc0c5ef"
      },
      "execution_count": 50,
      "outputs": [
        {
          "output_type": "stream",
          "name": "stdout",
          "text": [
            "tf.Tensor(\n",
            "[ 2 11  3  6  2  9  2  5  3  7  2  8  2  8  4  7  2 10  2  9  4  5  4  7\n",
            "  4  8  4  8  2  6  4  8  4  7  2  9  4  8  2  7  3  7  2  9  3  6  2  5\n",
            "  3  6  0  0  0  0  0  0  0  0  0  0  0  0  0  0  0], shape=(65,), dtype=int64)\n",
            "tf.Tensor(\n",
            "[ 2 11  3  6  2  9  2  5  3  7  2  8  2  8  4  7  2 10  2  9  4  5  4  7\n",
            "  4  8  4  8  2  6  4  8  4  7  2  9  4  8  2  7  3  7  2  9  3  6  2  5\n",
            "  3  6  0  0  0  0  0  0  0  0  0  0  0  0  0  0], shape=(64,), dtype=int64)\n",
            "tf.Tensor(\n",
            "[11  3  6  2  9  2  5  3  7  2  8  2  8  4  7  2 10  2  9  4  5  4  7  4\n",
            "  8  4  8  2  6  4  8  4  7  2  9  4  8  2  7  3  7  2  9  3  6  2  5  3\n",
            "  6  0  0  0  0  0  0  0  0  0  0  0  0  0  0  0], shape=(64,), dtype=int64)\n"
          ]
        }
      ]
    },
    {
      "cell_type": "markdown",
      "source": [
        "### Transformer based seq-to-seq model"
      ],
      "metadata": {
        "id": "7940yaq9VzNR"
      }
    },
    {
      "cell_type": "code",
      "source": [
        "import tensorflow as tf\n",
        "from tensorflow.keras import layers\n",
        "\n",
        "class PositionalEmbedding(layers.Layer):\n",
        "    def __init__(self, sequence_length, input_dim, output_dim, **kwargs):\n",
        "        super().__init__(**kwargs)\n",
        "        self.token_embeddings = layers.Embedding(\n",
        "            input_dim=input_dim, output_dim=output_dim)\n",
        "        self.position_embeddings = layers.Embedding(\n",
        "            input_dim=sequence_length, output_dim=output_dim)\n",
        "        self.sequence_length = sequence_length\n",
        "        self.input_dim = input_dim\n",
        "        self.output_dim = output_dim\n",
        "\n",
        "    def call(self, inputs):\n",
        "        length = tf.shape(inputs)[-1]\n",
        "        positions = tf.range(start=0, limit=length, delta=1)\n",
        "        embedded_tokens = self.token_embeddings(inputs)\n",
        "        embedded_positions = self.position_embeddings(positions)\n",
        "        return embedded_tokens + embedded_positions\n",
        "\n",
        "    def compute_mask(self, inputs, mask=None):\n",
        "        return tf.math.not_equal(inputs, 0)\n",
        "\n",
        "    def get_config(self):\n",
        "        config = super(PositionalEmbedding, self).get_config()\n",
        "        config.update({\n",
        "            \"output_dim\": self.output_dim,\n",
        "            \"sequence_length\": self.sequence_length,\n",
        "            \"input_dim\": self.input_dim,\n",
        "        })\n",
        "        return config\n",
        "\n",
        "\n",
        "class TransformerDecoder(layers.Layer):\n",
        "    def __init__(self, embed_dim, dense_dim, num_heads, **kwargs):\n",
        "        super().__init__(**kwargs)\n",
        "        self.embed_dim = embed_dim\n",
        "        self.dense_dim = dense_dim\n",
        "        self.num_heads = num_heads\n",
        "        self.attention_1 = layers.MultiHeadAttention(\n",
        "          num_heads=num_heads, key_dim=embed_dim)\n",
        "        self.attention_2 = layers.MultiHeadAttention(\n",
        "          num_heads=num_heads, key_dim=embed_dim)\n",
        "        self.dense_proj = keras.Sequential(\n",
        "            [layers.Dense(dense_dim, activation=\"relu\"),\n",
        "             layers.Dense(embed_dim),]\n",
        "        )\n",
        "        self.layernorm_1 = layers.LayerNormalization()\n",
        "        self.layernorm_2 = layers.LayerNormalization()\n",
        "        self.layernorm_3 = layers.LayerNormalization()\n",
        "        self.supports_masking = True\n",
        "\n",
        "    def get_config(self):\n",
        "        config = super(TransformerDecoder, self).get_config()\n",
        "        config.update({\n",
        "            \"embed_dim\": self.embed_dim,\n",
        "            \"num_heads\": self.num_heads,\n",
        "            \"dense_dim\": self.dense_dim,\n",
        "        })\n",
        "        return config\n",
        "\n",
        "    def get_causal_attention_mask(self, inputs):\n",
        "        input_shape = tf.shape(inputs)\n",
        "        batch_size, sequence_length = input_shape[0], input_shape[1]\n",
        "        i = tf.range(sequence_length)[:, tf.newaxis]\n",
        "        j = tf.range(sequence_length)\n",
        "        mask = tf.cast(i >= j, dtype=\"int32\")\n",
        "        mask = tf.reshape(mask, (1, input_shape[1], input_shape[1]))\n",
        "        mult = tf.concat(\n",
        "            [tf.expand_dims(batch_size, -1),\n",
        "             tf.constant([1, 1], dtype=tf.int32)], axis=0)\n",
        "        return tf.tile(mask, mult)\n",
        "\n",
        "    def call(self, inputs, encoder_outputs, mask=None):\n",
        "        causal_mask = self.get_causal_attention_mask(inputs)\n",
        "        if mask is not None:\n",
        "            padding_mask = tf.cast(\n",
        "                mask[:, tf.newaxis, :], dtype=\"int32\")\n",
        "            padding_mask = tf.minimum(padding_mask, causal_mask)\n",
        "        attention_output_1 = self.attention_1(\n",
        "            query=inputs,\n",
        "            value=inputs,\n",
        "            key=inputs,\n",
        "            attention_mask=causal_mask)\n",
        "        attention_output_1 = self.layernorm_1(inputs + attention_output_1)\n",
        "        attention_output_2 = self.attention_2(\n",
        "            query=attention_output_1,\n",
        "            value=encoder_outputs,\n",
        "            key=encoder_outputs,\n",
        "            attention_mask=padding_mask,\n",
        "        )\n",
        "        attention_output_2 = self.layernorm_2(\n",
        "            attention_output_1 + attention_output_2)\n",
        "        proj_output = self.dense_proj(attention_output_2)\n",
        "        return self.layernorm_3(attention_output_2 + proj_output)"
      ],
      "metadata": {
        "id": "f2-ab3fqVuR_"
      },
      "execution_count": 51,
      "outputs": []
    },
    {
      "cell_type": "markdown",
      "source": [
        "#### Transformer-based language model"
      ],
      "metadata": {
        "id": "IooUFjwzWEAI"
      }
    },
    {
      "cell_type": "code",
      "source": [
        "import tensorflow\n",
        "from tensorflow import keras\n",
        "from tensorflow.keras import layers\n",
        "embed_dim = 128\n",
        "latent_dim = 512\n",
        "num_heads = 8\n",
        "\n",
        "inputs = keras.Input(shape=(None,), dtype=\"int64\")\n",
        "x = PositionalEmbedding(sequence_length, vocab_size, embed_dim)(inputs)\n",
        "x = TransformerDecoder(embed_dim, latent_dim, num_heads)(x, x)\n",
        "x = layers.Dropout(0.5)(x)\n",
        "outputs = layers.Dense(vocab_size, activation=\"softmax\")(x)\n",
        "model = keras.Model(inputs, outputs)\n",
        "\n",
        "model.compile(loss=\"sparse_categorical_crossentropy\", optimizer=\"rmsprop\", metrics=[\"accuracy\"])"
      ],
      "metadata": {
        "id": "4p4-mD-wV_yT"
      },
      "execution_count": 57,
      "outputs": []
    },
    {
      "cell_type": "code",
      "source": [
        "tokens_index = dict(enumerate(text_vectorization.get_vocabulary()))\n",
        "\n",
        "class predNextAcc(keras.callbacks.Callback):\n",
        "    def __init__(self,\n",
        "                 prefix,\n",
        "                 nextWord,\n",
        "                #  model_input_length,\n",
        "                #  temperatures=(1.,),\n",
        "                #  print_freq=1\n",
        "                 ):\n",
        "        self.prefix = text_vectorization(prefix)\n",
        "        self.nextWord = nextWord\n",
        "        # self.model_input_length = model_input_length\n",
        "        # self.temperatures = temperatures\n",
        "        # self.print_freq = print_freq\n",
        "        \n",
        "\n",
        "    def on_epoch_end(self, epoch, logs=None):\n",
        "        tokenized_sentences = self.prefix\n",
        "        predictions = self.model(tokenized_sentences)\n",
        "        pred_next = predictions[:, 0, :]\n",
        "        print('\\npred_next.shape', pred_next.shape)\n",
        "        next_tokens = np.argmax(pred_next, axis=1) # check axis=1 here\n",
        "        print('next_tokens.shape', next_tokens.shape)\n",
        "\n",
        "        pred_nextWords = [tokens_index[i] for i in next_tokens]\n",
        "\n",
        "        # target_tokens = text_vectorization(self.nextWord)\n",
        "        # print('target_tokens.shape', target_tokens.shape)\n",
        "\n",
        "        target_words = self.nextWord\n",
        "        wordAcc = 0\n",
        "        match_ct = 0\n",
        "        total_ct = len(target_words)\n",
        "        for i in range(total_ct):\n",
        "          if pred_nextWords[i] == target_words[i]:\n",
        "            match_ct += 1\n",
        "        print('match_ct =', match_ct)\n",
        "        print('total_ct =', total_ct)\n",
        "        print('wordAcc =', match_ct / total_ct)\n",
        "\n",
        "        # for temperature in self.temperatures:\n",
        "        #     print(\"== Generating with temperature\", temperature)\n",
        "        #     sentence = self.prompt\n",
        "        #     for i in range(self.generate_length):\n",
        "        #         tokenized_sentence = text_vectorization([sentence])\n",
        "        #         predictions = self.model(tokenized_sentence)\n",
        "        #         next_token = sample_next(predictions[0, i, :])\n",
        "        #         sampled_token = tokens_index[next_token]\n",
        "        #         sentence += \" \" + sampled_token\n",
        "        #     print(sentence)\n",
        "\n",
        "prefix = [sen.strip()[:-2] for sen in train_set[:300]]\n",
        "nextWord = [sen.strip()[-1] for sen in train_set[:300]]\n",
        "\n",
        "# prefix = [sen.strip()[:-2] for sen in train_texts[:1000]]\n",
        "# nextWord = [sen.strip()[-1] for sen in train_texts[:1000]]\n",
        "\n",
        "# prefix = [sen.strip()[:-2] for sen in val_set]\n",
        "# nextWord = [sen.strip()[-1] for sen in val_set]\n",
        "\n",
        "print(prefix)\n",
        "print(nextWord)\n",
        "# stop\n",
        "\n",
        "predNextAcc_callback = predNextAcc(prefix, nextWord)\n",
        "\n",
        "history = model.fit(X_train, y_train, batch_size=64, shuffle=True, validation_data=(X_val, y_val), epochs=20, callbacks=[predNextAcc_callback])\n",
        "# history = model.fit(X_train, y_train, batch_size=64, shuffle=True, validation_data=(X_val, y_val), epochs=20)"
      ],
      "metadata": {
        "colab": {
          "base_uri": "https://localhost:8080/"
        },
        "id": "irWZ4PmkaPeY",
        "outputId": "108ea372-2fa4-4e8e-d0d4-4c9da3d4b760"
      },
      "execution_count": 58,
      "outputs": [
        {
          "output_type": "stream",
          "name": "stdout",
          "text": [
            "['a f a d b e a g a k a g b d c g b g c f a h a e a', 'a h b d a f a d a i a e b g a g b f a k a d b e', 'a f a k a d b g b d a e a h c f a k c e b f a i b g b d', 'a d a g a h b e c f a k c f c e b f a j c d a d', 'a d a i a j b f c g b d c g a h b g b e a f c d a g', 'a d a h b f a f b e a j c g a g a h c g', 'a d c d a k b g a e a g a j a g c d a f a e', 'a j a e a e a k c e c g a i c d b e a j a d c', 'a i a k b f b e b f a g a g c d a i a d b g c d a k c e c g a', 'a j a i c g b f c d b g a f c d a i a d a h b g a e c', 'a g b d a d c f a i a k a f a e a i b g a d', 'a j a j a g a e c e c d a d a k c d a d b d c d a d b', 'a f c e a f a h a e a f a e a f a f a g c f b g b g c e b e', 'a h c g a e a f a e b g a d a e c e', 'a i a i c f a g b e a k a i a k a f b e a i b d b e a f a k b d', 'a e a f c g a f c g a e a e a g c', 'a i a k a f b g a d c f a d c e a h b g', 'a k b e a i a e a e a k b f a g a f b d', 'a h c f b d a d a k a e c g a k a e a e c d a h a e c e a e c e a', 'a d c d a j c g a g a g a g a h b d a d c', 'a i a h a h c e c f a i b d a d b f b g c d', 'a h a h c e c e b g a g a h c f a g b', 'a j a d b d a k b f a d a h b f b', 'a f b g a h a f a d b d a g a g a k c d', 'a f c d a i c f a e a j c d a g b g c f', 'a k b d a d a f a h a f b f a g b e a d c', 'a k b g a i a j c d a i c e c f c f b f a h a g a g b f b g b e', 'a j a e a g a f a f c f b d c g a g a e b d b d c e a', 'a j a g a h b f b f a k a h b g a h a e a f a d c e b d a e c e c g a f', 'a g a d c f a f b e c e a d a f a g c d a', 'a e a i c g a d a d a e c e a d c e a h c d b g b f b e a e a h b g a d c d', 'a g a i a f a j c g a e a g a f', 'a e a k a h b f a k b g b e c d a d b', 'a j a k c e b f a k c d a h a d b g a f c f b d a', 'a e a k a f a g b e c g c d a i a d b f c d a', 'a e a k c d a g a i a k b g a f c e a d', 'a h a g c f a g a e a h b d c f b e a d a g a k c g c f c d a d b d', 'a h a i c e a d c g c d a g a g c e a d a i a h a e b d b d c f b f c', 'a i a i a g a g c e b f b d a h c e c e a f a h b e a d c d a e a k c f b f c g', 'a k a j b g c e c f a f a g a d c f a i b d c e c g a f a i b f', 'a e a h a f b f a e c f a d a j c d c d a g a e b d c f b d a h a', 'a i c e c d a h a k c f c d a j c e a j b f a e a', 'a k b g a h b g a k a d b f b e a f a h c d', 'a j c e a h b d c d b g a j b g', 'a j a d c f b g a j c f a e a e a h a f a g b g c', 'a i a j b f c g a e a e c g b e a j a g c d b d a i a g', 'a i a e a e a e b g a e a i b g b e c e a i c', 'a j c f a d a e a e a g c f a e b f c f a k a k a e b', 'a i a j b f b d a d a g b e a h a d c f a i c f b f c f b', 'a i a g a j c f c f a e c d a k a h c d b e a d a e c f a g a d a e a j b d b d a e c d b d b g', 'a f a k a i b g a k a e a h c e a d b d c g c e a e a k', 'a f a g a k a e a f c d a h b f c d b', 'a f a f b g a k c f a j a g a d b e a k a g c d b g', 'a d a i b e b d a f c d a f c g a f a i c f a e a k a k a h', 'a e a i b d c g a k a j a e a g', 'a g a k a k b e c f a k c g a k a d c f c d a f b', 'a g a g a e c e b e a h a h a f c e a f b f b g', 'a i a f c e a k c f b g a g b g a g b d a k c f', 'a j b g c g a i a f a d c e b f c g c f', 'a j c g a d b g a k a j b d b f a g a g a e c d b e a e a d b d a k b d a i b f a j', 'a d b d a f b e a e a g a j c g a d a f a d c e', 'a k a f a h c g a d a d c e c f a d a i b e b f a g b d', 'a g a e a j a j a g c d a e b d c d', 'a i a g b e a j b g c f a e c e a f', 'a d a h c d a j a j c d c e b f a k c e a d', 'a f a h a e a e b d a h a k c d b d a g b f c e a e', 'a j a g a j a k b g c g c f b e b', 'a f c g a h a g a h a g c f b d c d a e b e a', 'a j b f a f a d b g a e c d a d a f a', 'a j a k c f c e b g a d a j a d c f b e a e a k c f a', 'a h a j c g a e b e c e a h b g c g a g b f c', 'a i b f b g a g a k b e b f a j c g', 'a d a f b e a f c f a d b d a k b e a', 'a j b e a g c e a i a f c d c e a f a d c', 'a h b e a k c e a k b g a d a k b d a e', 'a k a i c d b e c d a j a d b d c g a e a g a', 'a g a f a h b g a i a j b f a h b g b g b', 'a g a f a h c d c d a h a g b f b e a i a e a f b d a f a', 'a f c g a j c f b e a j a i a h c f a j b e a k b g a f c g b', 'a i a i b e c f a g b e a k c d a d b e c f a e', 'a j a h a j b g a h b g c e b f c g a f c', 'a f a i a k c d b g a e a k a i b f c d', 'a e a i c g a k a d a d a f a j b f a f b f c', 'a i a g c f b d b f a i a k b f a k c d a j a e b e b g a k a i c f', 'a f a i c e b f a i a j b d a k c g b e c f a k b', 'a f c g a j a e b d a g a g a k a g b g a i a f c d a e a e', 'a h a f b f a h c d a j a e a d a i c g c g c f a f a', 'a d a d a f b g a d a f a e c e b d a g c d c f a g a f c e a', 'a k a d a g a e a j b g b g a g c', 'a k b f a h a i c g a d a f a f b e b d c', 'a f a j a e a k c e b f c d b g a k', 'a h b g a e a i b f b e a k a h b d a k a d b f a d c', 'a j a j c e c g a d a f c g c g a e b f a i a g b', 'a k a h a d b f a i a g a e a k b d b g c d b f b g', 'a h c e a f a h b e b g a h b f c f b g b f a f', 'a g a d a d a d a f c d c g b g b d c d a i c d a k a g b e', 'a i a h c e c f a f b g c e a d a g a d c g', 'a k a e a e a h b e c f b e a j b g c g a i', 'a d a i a f a d a g b f c e a d c e a', 'a g a k c g c f a g a k a d c e a d a g a e a k b e', 'a i a k a d c g a g c f a k c f c d a h b f a e a k b g c f b f', 'a i a f a j b f c e c e b e a i c f a', 'a h a k b d a i a g a g b f c f a g c g c d c d a f a e b f a', 'a j a i a e a d a d a f b d a g c d b f c e c g b', 'a i b g a k b e a i a d b g c g a e a g a k', 'a j a i b d a j a g c e c g a e a h a h a e a e c e a g a d', 'a f a f c g a j a f a i b e a j a e c g c e c e a i a g b', 'a e a g a k c g a i a g c d a j b g b g a d a e b g a f b d b e a k c e', 'a d c g a d a i a g c e c f a e c e a d a d a k b g a h b g b g a g b d a k a g', 'a e a h b g b e a g a h c f a i b f a d', 'a g c g a i a d a h c e a j b f b f b f b g c', 'a i a e a i a g c d c g a j c d a k b f b d c e a k', 'a i a d a i b d a f c e c e c f c f a h a e b', 'a g a e a e a k a e a d c g b e a j b d b e c f a', 'a d a f a d a i a i a e b e b d a h c g c g a j c f c e a f b g c f b f', 'a i c d a h c e b g a f a f a g a k', 'a f a h a f b e a g a f a g b d c f b e c d c', 'a h c g c g a k a g c e a e b g a i a g a k a j b d a d c f a f c d a f', 'a i b d c f a k a k a f a e b e a i c f', 'a e a j a h b e b d a h a d a j a f c d c f c g b e b', 'a g a e a h a i c g b e c f a f c f a k b d a h c e a e c e a d a f c e b e', 'a d a i c d c e c g a k a k b g b d', 'a i b e a d c e b d a g b g a h a e c d b f a k a f b f a j a f c d a f b f', 'a k a k c d a k a e b f c e a h a j c d a d c e a g b g', 'a f b e a f a e a e b g a k a f a e', 'a f a j b e b e a d c d a i a j c e b e a f c e b g a d b f', 'a f c d a h c e a k a f a g a d b e c d a h', 'a f a f a e a d a g a i c f b f b d b d a j b f c d b e a j c f', 'a h a e a k b e a f a h a f a e a d c f b d b g', 'a j a f b d a j a g b f c f c e c d a g a d a d c g a', 'a j b f c d a d a e c e a k c e a g a d a', 'a j c e c d a f c e a h b f a g a e c g a e a', 'a f a k c g a d a k c g c e a f a d b g a e a e a', 'a j a k b f c d c g a d b d a d a k c d a e a k c g a j b e b d a k', 'a f a d a k a g a g a d b f a e b g a j c d a k b f b d c g c', 'a i b f a e c d a i c f c g a i a e c g a e a d a f c', 'a h a d b e a e c f a g a g b f a j a j a f b g c d a f c g a e a e b g c e b e a i a e', 'a i b g c e a k a k c e a i a h b e b', 'a f a f c e a f a k a h a j b g b e a h c', 'a e a j b d b f a j a i a j b d c d b d c g a e a', 'a g b d a h c f a g a d c d b f c e a d a h c f', 'a d c e a j a d a i c d a f b f a j a g b e a e b e c d a h b d b f c e b g a j b d', 'a f a g c g a i a j c g b g a k b e a d b g a j c d b e c d b d a k b d', 'a e a i a g a e c g a k c d a f b d b d b d a k a g', 'a k a h c d a e b e c d a j a g', 'a f a j c e b d a f a f a h c f c f c d b e b g', 'a d c f a d a g b d a i c e c f a i a j c e a k b g a e b', 'a j a j a e a k a e c d c f b f a d a h b e a g c g a e b e a g', 'a k a g c d a g a g a h c e c e c d c f a f a h', 'a h c f a j b g b f a i a d a e c g a f c e b f b d a k c d a e a k a i c f a', 'a g b g a k a k a d a d a j b e a d c d c f b g a', 'a j a j a j c d a j c g b f b e b e c g', 'a g c d a f a g a i c d b f b e a h a g c g b', 'a h a h b d a k a e b f c d a i c e a e b', 'a j c d a g a g a j a j b g c d c f a f c g a g a i b g a k b e b', 'a j a h c d a g b d c g a d a f a e b f a j a k a', 'a i a h a h a d a i a g c f c e b d c f c f b d b f b d a i b g b', 'a h c f c g a g a f b g a j a d a e c g a d', 'a i c e a e c d a h a f a d c d a f b g c g c g a', 'a g a k c d a j c g a e a i c g a i a k b e c g c g c', 'a j a f a d a d a e c g a e b g c f a h a e b d c', 'a h a f a f b g a d b d a i a h c e a e c', 'a d a e a g a g c g b g c g a h a j a e c d b', 'a i c g a d a e a h a e a e b f b e a k c f c f c g a e a e', 'a d a k a g b e b e c d a d a d c d a g a', 'a k b d a e a h c d a f c g c g a i a e', 'a g a g c f a g a j c g a i c d c g', 'a h b g a g b e a f a h a d b f a', 'a j b g c e a g a g a h a e a f c f b g c f', 'a i c d a k a f a g a j b d c e c g b f a i c f c g a j b d b e a k', 'a j b f a i b g a d c f a g c d b f b d a i a e', 'a k b d a h c d a h c g a g b e a h a d c f c g b g b e c g a g', 'a h a g a e c d b d c d a d a h c g', 'a h b g a e b g a h c f a e a h c e a g b g b f', 'a g a d a d a j c d a e c d b e a f a d c f c g a d b g c d b d', 'a i c g a h b e a d b g a f c g a e', 'a j b d c f a h a d b e a d a f c', 'a g a g a f a k a e a g a f a d b d b e b e c e b', 'a h c e a e b e a j b f b f a k a i b e b f b e a', 'a e a i a h a d b e c g b g c e a i c g c g b f', 'a h c e a g a i c f b d c f a i a h c f a d', 'a k a k b f c e a i a j a h a k b e a e b f b g c g a e c', 'a g c d a j b g a e c e a d a j a e c f a j c d c', 'a j a d a f a h a e a d c g b d c g a i b g b e a f c', 'a k a e a h c f a i c g a f c e c e a e a k c f a k c g a j c d c f', 'a j c g b e a j a j a h b f c d b e', 'a i a h c g b f c g a k a k a e a e a d c e b', 'a g a h a e a f a e b e c f c d a e a k b d c d a g', 'a k a f a f c e c g a h a h c g a i a k a f b g b f a e b f b f b d c e', 'a j b e b g a k b f a h b f a j c e a g c g b f a d c', 'a f b d a i a h a f c d b g b e', 'a k a k a g a k c f b e c f b f a d a g b g a g a h b f b g a k a h b g', 'a h b e c g a j a d a k b f a d c d c g b d a g a g a d', 'a e a f a i c g b d a e c g a k a f a h a k b d c', 'a e a k a j c d a d b g a d b d a h c g c d a d a e a g a h a e c', 'a f c e a g a e c e a j c e b e a j b g a h', 'a j a d b f a e b g a k a f b d c f a e', 'a h b g a d b d c e a d a k a e b d a k c', 'a h a e b d a g b g b d a j a e a d c e a e a e a e a k a e b d', 'a e a i a k b d a j a i b e a g a i c d b d c g b d b d c d a', 'a f a i c d a h a d c e b e a i a i c g c f b f c g a g a', 'a d a d a i a e b d a f c f a i a j a e a k c e', 'a i c e c d a j a g a h b g c g a j c g c g a k b d', 'a k a k c f a e a k b d a g a f b d c g a h c d', 'a h c f a i b g b d a d c f a e c', 'a e a j a k a i b d b g b e a d a g a j b e a k b d b d a g c f c f b d b', 'a d b e a j a e a h a k a k a e c f b d a g a f b d a e c e c d b f a f b', 'a f a d c e a h c e a h a e a f a e b g a f b d a e a i c d c', 'a f a f a g b e a e a g c g c f b f a j b g c f a g a i a i c', 'a f a h a d a k a g c e a e b d a j c f a', 'a f c g a d a e b g a e a d c e a j b', 'a i a e a d a g b e a e a e c g c f a g a h b', 'a d c e a f a e a e a g a e b g a g a f c f a g c e c g c e a d', 'a d a e b g a g a g c g a g a f b g b d c f a d a', 'a k a j a e c d b g c f a i c f c g a d a f c', 'a g a k a d a j b g c d a g b d c e a g c f c g', 'a g b e a f a g a k a k a k a k a e b d c d c e c', 'a d a h a g a f c g c e c f c d a j a e', 'a h c e a h a d a i a f a h b f a i c e c d b f b d b d c g c d a k b d b e a k b g', 'a i a e a f a k c f c e a h a g b f a j b f a e a g', 'a f a f c f a j a j c e a d b g b f a e b e c d', 'a e a i a d b g a k a k a j a h a g c f b f c g b d b g b e a f b g a f b', 'a k a j c g a g b e a d c f a i b d a e b g a d c d a e', 'a d c g a e a j a d b f b f a j a f b g a f b g c e a', 'a h b e a i a k c e a k b d a g b e a j c f a', 'a j b e a d c g a g b g c d a i c f b f a i b e a d', 'a e a g b g a f a f c e a k c f a e a j a f a i c e a e b f a e c e a g c', 'a h b f a h a e b f c d a d b e b g a', 'a i c e a e c g a g b f a h a k b', 'a g a d c e c d a d a e a e a j a g b d b e b f c f a e a h', 'a j a i b e b g a g a j a h c d a e b d c e a i c e a k a h', 'a k a f c d a h b d a h b e c g a i a e b g c e b f a f', 'a d c e a e a g a e b e a h b d a k a j a f', 'a k b e a k c g a k b e a d a g c g c g a k c', 'a e a k a d a k a d b f a d a h b g', 'a d b d a h a f a k a h b d c f b d c d', 'a h b d a i a e c f a d b d c g a d a k a j a e a f b', 'a e a d a f c g a i a i b d a f b e a d a h c f c f a g a e', 'a j a g a k c f c f a f c g b f c f a g c', 'a d c g a d a h a g a e c d a f a h b f c e a k b e a e a j a k a e c d b g', 'a g a h a d a d b f a k a f b d a f b g a h a j b g b e a h c e b f c g a d c d b e b g', 'a f a k a e a g c d b f a f c f a e a', 'a f a j a h c g c e c d a e c d a j b e a e a k a g', 'a h c g a j a d a e c e a d a e c d a j c e', 'a d a i a i b d b g a h a j a e b d b g c f c d c', 'a e a g b d a f a e c e a j b d b d a e a g b f a g c e a g a f b', 'a i c d b e a f a d a e b f a g a f c d', 'a i b e a f c d a j a k c e c f c e c f a d c d a f a d', 'a f a e a e a j a g a f c e b g b g b f b', 'a k a g c e a h a h c f a h c e c d b f c f a f a f a g b d', 'a d a g b g a d a h a k a e b f a g a f a k c', 'a d b e a e a j a f c f b f a k a j b g c g c d b', 'a k b f a h b f a h a k a e a e c e a f b', 'a j a d a d a d a j c g b e b f a d c e c g b', 'a e a e a k a j b f b e a f c g a e', 'a i b g a e c e a k b g a h a i a j c d a f b d a k a d b d b e a i a f c f b f', 'a e a k a k a g a g c d b f c f a e a h c d a d a d c', 'a k a j c f b f c d a k a k a k b d b f c d a d a g a d c f a e', 'a j a j b d c e a g a f a k a h b g b g b e b e c e a e a e c e c g a d', 'a f a i c f a i c f c g c f a d a f b d a d b d a f a e', 'a d a e a e a k a f a f a d a j b g a j a i a h b f b e c g b e b f b', 'a j c e b e a i a k a k b f b f a g a f c d b g b d a k a d a e c g a e', 'a g a e a e c d a j a d c f a d a', 'a d a i c f a e b d a d a i a f a e b e c g c d b d a i c f', 'a f a g a d c d a i a f c g a i c d b g c g', 'a h b f a j a g a k c d c d a e c e a g a h a j c f', 'a d c g a f b g a k a e a g a e c f a i c f a g c d c e a j a e a e a d', 'a d b d a d a g a j a e c d a d c g c', 'a i a i a k b d b d b f c f a h a e b g', 'a h b e a i a e a j a e a e c e b f a', 'a d c f a g a e c d a g c e a g c e a k', 'a h a g a d b e a e c d a f a j c e b f c f a d a', 'a h c e a e a j a d c d c f b d a d a i a e', 'a f a e a k a e a e b f c g a g b f a i', 'a d a k a d a k c e a d c d c g c g a i a', 'a j a e a f a f c e b d b d a k a e b', 'a i a k a i c e a g c e b f b d a h b f b e b f b e a g', 'a i a d c f b f a d a e c g a i b e a', 'a i b f a i a g b d a h a k b g a g c e c g c f a e b d', 'a e a g a f c f a e a i b d c d c g a h a h b f a k b g a i a e b g b', 'a h a g a i c g b f a k c f b f a h b f c e a j a i a d b d c', 'a f a d b f b f a h a g a g c f b g c f c d a j a i a e c g c d', 'a f a k b g c f a g b e a f a d c e a f c g c g a d a f b', 'a f a i b g a i a d c d a e a d a g c e b f a k b g b', 'a f a k b f a i b e a k a g a d b d c d b f c', 'a h a h c g c f b g c f a d a g b g a d a h a d a e a e c e b e c g c f', 'a h a i c g a e c e c f a j a i b g c', 'a i c e a d a i a j b e a f a g c e a e b f b g', 'a f a h a k a e a j a i a h b f c d b e c d b g c', 'a k b g a d a j b d b e a h a f b f b e a h c g', 'a i b e b d a k a k a d b f c e b g a h a g a e c', 'a i a g c d a e a e a g b d b f b f a j a e c f a f', 'a k a k a k a e b f a i b g a d a g b e b e a e', 'a g a g c e a i c f a e b g a g c f a h a h b g a d c f a j a g c d a e b g a e', 'a j a d a e c g c d a d c g c f a j', 'a k a j a k b f a f b g c g a j b d a d', 'a i a e c d c f a j a i c d a i b e a k', 'a k a f a k b f b f a e a j c e b e a i', 'a j a h b e a i c g b f a i b d a k c e', 'a e a f a g a g c f c e a j a k a g c e b']\n",
            "['f', 'a', 'a', 'a', 'c', 'b', 'a', 'd', 'd', 'f', 'a', 'g', 'a', 'a', 'b', 'e', 'b', 'c', 'h', 'd', 'a', 'e', 'd', 'b', 'c', 'e', 'a', 'i', 'b', 'k', 'a', 'b', 'f', 'e', 'e', 'c', 'a', 'g', 'c', 'b', 'e', 'd', 'c', 'b', 'g', 'b', 'g', 'e', 'd', 'c', 'b', 'g', 'c', 'b', 'b', 'd', 'c', 'a', 'a', 'c', 'b', 'c', 'c', 'a', 'b', 'a', 'd', 'h', 'g', 'h', 'd', 'a', 'g', 'f', 'b', 'k', 'f', 'e', 'e', 'a', 'd', 'c', 'f', 'b', 'g', 'c', 'e', 'd', 'g', 'e', 'a', 'g', 'd', 'c', 'a', 'c', 'a', 'a', 'k', 'c', 'c', 'h', 'g', 'e', 'c', 'c', 'd', 'c', 'c', 'a', 'e', 'b', 'g', 'e', 'b', 'c', 'g', 'c', 'a', 'e', 'a', 'a', 'c', 'a', 'c', 'b', 'c', 'a', 'c', 'e', 'e', 'j', 'g', 'a', 'g', 'f', 'b', 'g', 'f', 'g', 'a', 'a', 'a', 'a', 'c', 'a', 'e', 'c', 'b', 'f', 'e', 'a', 'd', 'f', 'e', 'e', 'f', 'c', 'g', 'g', 'g', 'g', 'd', 'a', 'f', 'b', 'a', 'e', 'a', 'b', 'a', 'c', 'a', 'a', 'a', 'c', 'd', 'e', 'k', 'a', 'b', 'f', 'f', 'f', 'a', 'a', 'f', 'a', 'c', 'f', 'a', 'c', 'b', 'f', 'e', 'a', 'a', 'f', 'b', 'h', 'f', 'c', 'a', 'a', 'd', 'g', 'g', 'g', 'g', 'f', 'd', 'd', 'a', 'j', 'e', 'c', 'd', 'a', 'c', 'a', 'a', 'g', 'c', 'e', 'f', 'a', 'g', 'd', 'f', 'b', 'c', 'a', 'c', 'e', 'b', 'c', 'g', 'a', 'd', 'b', 'a', 'h', 'b', 'b', 'd', 'e', 'b', 'a', 'f', 'a', 'd', 'd', 'f', 'f', 'a', 'b', 'd', 'b', 'a', 'c', 'f', 'a', 'e', 'c', 'c', 'b', 'a', 'e', 'a', 'e', 'b', 'g', 'b', 'b', 'e', 'd', 'c', 'j', 'a', 'g', 'f', 'a', 'd', 'e', 'f', 'b', 'g', 'b', 'g', 'a', 'f', 'a', 'a', 'a', 'a', 'a', 'a', 'c', 'a', 'e']\n",
            "Epoch 1/20\n",
            "77/79 [============================>.] - ETA: 0s - loss: 1.2530 - accuracy: 0.2871\n",
            "pred_next.shape (300, 13)\n",
            "next_tokens.shape (300,)\n",
            "match_ct = 28\n",
            "total_ct = 300\n",
            "wordAcc = 0.09333333333333334\n",
            "79/79 [==============================] - 5s 32ms/step - loss: 1.2494 - accuracy: 0.2875 - val_loss: 0.7054 - val_accuracy: 0.2882\n",
            "Epoch 2/20\n",
            "77/79 [============================>.] - ETA: 0s - loss: 0.9884 - accuracy: 0.3159\n",
            "pred_next.shape (300, 13)\n",
            "next_tokens.shape (300,)\n",
            "match_ct = 3\n",
            "total_ct = 300\n",
            "wordAcc = 0.01\n",
            "79/79 [==============================] - 2s 25ms/step - loss: 0.9886 - accuracy: 0.3156 - val_loss: 0.7015 - val_accuracy: 0.3171\n",
            "Epoch 3/20\n",
            "77/79 [============================>.] - ETA: 0s - loss: 0.9530 - accuracy: 0.3287\n",
            "pred_next.shape (300, 13)\n",
            "next_tokens.shape (300,)\n",
            "match_ct = 28\n",
            "total_ct = 300\n",
            "wordAcc = 0.09333333333333334\n",
            "79/79 [==============================] - 2s 25ms/step - loss: 0.9530 - accuracy: 0.3289 - val_loss: 0.6948 - val_accuracy: 0.3324\n",
            "Epoch 4/20\n",
            "78/79 [============================>.] - ETA: 0s - loss: 0.9402 - accuracy: 0.3349\n",
            "pred_next.shape (300, 13)\n",
            "next_tokens.shape (300,)\n",
            "match_ct = 3\n",
            "total_ct = 300\n",
            "wordAcc = 0.01\n",
            "79/79 [==============================] - 2s 25ms/step - loss: 0.9403 - accuracy: 0.3349 - val_loss: 0.7205 - val_accuracy: 0.3374\n",
            "Epoch 5/20\n",
            "77/79 [============================>.] - ETA: 0s - loss: 0.9340 - accuracy: 0.3388\n",
            "pred_next.shape (300, 13)\n",
            "next_tokens.shape (300,)\n",
            "match_ct = 6\n",
            "total_ct = 300\n",
            "wordAcc = 0.02\n",
            "79/79 [==============================] - 2s 26ms/step - loss: 0.9338 - accuracy: 0.3387 - val_loss: 0.7179 - val_accuracy: 0.3431\n",
            "Epoch 6/20\n",
            "77/79 [============================>.] - ETA: 0s - loss: 0.9277 - accuracy: 0.3386\n",
            "pred_next.shape (300, 13)\n",
            "next_tokens.shape (300,)\n",
            "match_ct = 6\n",
            "total_ct = 300\n",
            "wordAcc = 0.02\n",
            "79/79 [==============================] - 2s 26ms/step - loss: 0.9280 - accuracy: 0.3385 - val_loss: 0.7142 - val_accuracy: 0.3400\n",
            "Epoch 7/20\n",
            "79/79 [==============================] - ETA: 0s - loss: 0.9252 - accuracy: 0.3411\n",
            "pred_next.shape (300, 13)\n",
            "next_tokens.shape (300,)\n",
            "match_ct = 28\n",
            "total_ct = 300\n",
            "wordAcc = 0.09333333333333334\n",
            "79/79 [==============================] - 2s 26ms/step - loss: 0.9252 - accuracy: 0.3411 - val_loss: 0.7352 - val_accuracy: 0.3327\n",
            "Epoch 8/20\n",
            "78/79 [============================>.] - ETA: 0s - loss: 0.9239 - accuracy: 0.3425\n",
            "pred_next.shape (300, 13)\n",
            "next_tokens.shape (300,)\n",
            "match_ct = 3\n",
            "total_ct = 300\n",
            "wordAcc = 0.01\n",
            "79/79 [==============================] - 2s 26ms/step - loss: 0.9239 - accuracy: 0.3425 - val_loss: 0.7248 - val_accuracy: 0.3393\n",
            "Epoch 9/20\n",
            "79/79 [==============================] - ETA: 0s - loss: 0.9213 - accuracy: 0.3426\n",
            "pred_next.shape (300, 13)\n",
            "next_tokens.shape (300,)\n",
            "match_ct = 3\n",
            "total_ct = 300\n",
            "wordAcc = 0.01\n",
            "79/79 [==============================] - 2s 26ms/step - loss: 0.9213 - accuracy: 0.3426 - val_loss: 0.7339 - val_accuracy: 0.3417\n",
            "Epoch 10/20\n",
            "77/79 [============================>.] - ETA: 0s - loss: 0.9192 - accuracy: 0.3444\n",
            "pred_next.shape (300, 13)\n",
            "next_tokens.shape (300,)\n",
            "match_ct = 30\n",
            "total_ct = 300\n",
            "wordAcc = 0.1\n",
            "79/79 [==============================] - 2s 26ms/step - loss: 0.9198 - accuracy: 0.3442 - val_loss: 0.7352 - val_accuracy: 0.3425\n",
            "Epoch 11/20\n",
            "77/79 [============================>.] - ETA: 0s - loss: 0.9196 - accuracy: 0.3428\n",
            "pred_next.shape (300, 13)\n",
            "next_tokens.shape (300,)\n",
            "match_ct = 28\n",
            "total_ct = 300\n",
            "wordAcc = 0.09333333333333334\n",
            "79/79 [==============================] - 2s 26ms/step - loss: 0.9198 - accuracy: 0.3429 - val_loss: 0.7344 - val_accuracy: 0.3435\n",
            "Epoch 12/20\n",
            "79/79 [==============================] - ETA: 0s - loss: 0.9185 - accuracy: 0.3452\n",
            "pred_next.shape (300, 13)\n",
            "next_tokens.shape (300,)\n",
            "match_ct = 28\n",
            "total_ct = 300\n",
            "wordAcc = 0.09333333333333334\n",
            "79/79 [==============================] - 2s 26ms/step - loss: 0.9185 - accuracy: 0.3452 - val_loss: 0.7412 - val_accuracy: 0.3368\n",
            "Epoch 13/20\n",
            "77/79 [============================>.] - ETA: 0s - loss: 0.9169 - accuracy: 0.3464\n",
            "pred_next.shape (300, 13)\n",
            "next_tokens.shape (300,)\n",
            "match_ct = 28\n",
            "total_ct = 300\n",
            "wordAcc = 0.09333333333333334\n",
            "79/79 [==============================] - 2s 26ms/step - loss: 0.9171 - accuracy: 0.3465 - val_loss: 0.7454 - val_accuracy: 0.3405\n",
            "Epoch 14/20\n",
            "77/79 [============================>.] - ETA: 0s - loss: 0.9171 - accuracy: 0.3452\n",
            "pred_next.shape (300, 13)\n",
            "next_tokens.shape (300,)\n",
            "match_ct = 3\n",
            "total_ct = 300\n",
            "wordAcc = 0.01\n",
            "79/79 [==============================] - 2s 26ms/step - loss: 0.9171 - accuracy: 0.3452 - val_loss: 0.7486 - val_accuracy: 0.3442\n",
            "Epoch 15/20\n",
            "77/79 [============================>.] - ETA: 0s - loss: 0.9170 - accuracy: 0.3460\n",
            "pred_next.shape (300, 13)\n",
            "next_tokens.shape (300,)\n",
            "match_ct = 30\n",
            "total_ct = 300\n",
            "wordAcc = 0.1\n",
            "79/79 [==============================] - 2s 26ms/step - loss: 0.9167 - accuracy: 0.3459 - val_loss: 0.7452 - val_accuracy: 0.3376\n",
            "Epoch 16/20\n",
            "79/79 [==============================] - ETA: 0s - loss: 0.9156 - accuracy: 0.3460\n",
            "pred_next.shape (300, 13)\n",
            "next_tokens.shape (300,)\n",
            "match_ct = 28\n",
            "total_ct = 300\n",
            "wordAcc = 0.09333333333333334\n",
            "79/79 [==============================] - 2s 26ms/step - loss: 0.9156 - accuracy: 0.3460 - val_loss: 0.7430 - val_accuracy: 0.3444\n",
            "Epoch 17/20\n",
            "77/79 [============================>.] - ETA: 0s - loss: 0.9157 - accuracy: 0.3464\n",
            "pred_next.shape (300, 13)\n",
            "next_tokens.shape (300,)\n",
            "match_ct = 28\n",
            "total_ct = 300\n",
            "wordAcc = 0.09333333333333334\n",
            "79/79 [==============================] - 2s 26ms/step - loss: 0.9156 - accuracy: 0.3465 - val_loss: 0.7491 - val_accuracy: 0.3405\n",
            "Epoch 18/20\n",
            "78/79 [============================>.] - ETA: 0s - loss: 0.9152 - accuracy: 0.3461\n",
            "pred_next.shape (300, 13)\n",
            "next_tokens.shape (300,)\n",
            "match_ct = 28\n",
            "total_ct = 300\n",
            "wordAcc = 0.09333333333333334\n",
            "79/79 [==============================] - 2s 26ms/step - loss: 0.9150 - accuracy: 0.3461 - val_loss: 0.7545 - val_accuracy: 0.3282\n",
            "Epoch 19/20\n",
            "78/79 [============================>.] - ETA: 0s - loss: 0.9148 - accuracy: 0.3458\n",
            "pred_next.shape (300, 13)\n",
            "next_tokens.shape (300,)\n",
            "match_ct = 28\n",
            "total_ct = 300\n",
            "wordAcc = 0.09333333333333334\n",
            "79/79 [==============================] - 2s 26ms/step - loss: 0.9146 - accuracy: 0.3458 - val_loss: 0.7563 - val_accuracy: 0.3256\n",
            "Epoch 20/20\n",
            "77/79 [============================>.] - ETA: 0s - loss: 0.9141 - accuracy: 0.3456\n",
            "pred_next.shape (300, 13)\n",
            "next_tokens.shape (300,)\n",
            "match_ct = 6\n",
            "total_ct = 300\n",
            "wordAcc = 0.02\n",
            "79/79 [==============================] - 2s 26ms/step - loss: 0.9143 - accuracy: 0.3456 - val_loss: 0.7423 - val_accuracy: 0.3427\n"
          ]
        }
      ]
    },
    {
      "cell_type": "code",
      "source": [
        "# plot training and validation loss and acc\n",
        "\n",
        "import matplotlib.pyplot as plt\n",
        "\n",
        "history_dict = history.history\n",
        "loss_values = history_dict[\"loss\"]\n",
        "val_loss_values = history_dict[\"val_loss\"]\n",
        "epochs = range(1, len(loss_values) + 1)\n",
        "plt.plot(epochs, loss_values, \"r\", marker=\"o\", label=\"Training loss\")\n",
        "plt.plot(epochs, val_loss_values, \"b\", marker=\"o\",label=\"Validation loss\")\n",
        "plt.title(\"Training and validation loss\")\n",
        "plt.xlabel(\"Epochs\")\n",
        "plt.ylabel(\"Loss\")\n",
        "plt.legend()\n",
        "plt.show()\n",
        "\n",
        "plt.clf()\n",
        "acc = history_dict[\"accuracy\"]\n",
        "val_acc = history_dict[\"val_accuracy\"]\n",
        "plt.plot(epochs, acc, \"r\", marker=\"o\", label=\"Training acc\")\n",
        "plt.plot(epochs, val_acc, \"b\", marker=\"o\", label=\"Validation acc\")\n",
        "plt.title(\"Training and validation accuracy\")\n",
        "plt.xlabel(\"Epochs\")\n",
        "plt.ylabel(\"Accuracy\")\n",
        "plt.legend()\n",
        "plt.show()"
      ],
      "metadata": {
        "colab": {
          "base_uri": "https://localhost:8080/",
          "height": 573
        },
        "id": "VWSUemOrnC1R",
        "outputId": "19d5aa03-b49e-4d60-9505-bf2d84ffb723"
      },
      "execution_count": 59,
      "outputs": [
        {
          "output_type": "display_data",
          "data": {
            "text/plain": [
              "<Figure size 432x288 with 1 Axes>"
            ],
            "image/png": "[encoded data removed]"
          },
          "metadata": {
            "needs_background": "light"
          }
        },
        {
          "output_type": "display_data",
          "data": {
            "text/plain": [
              "<Figure size 432x288 with 1 Axes>"
            ],
            "image/png": "[encoded data removed]"
          },
          "metadata": {
            "needs_background": "light"
          }
        }
      ]
    }
  ]
}